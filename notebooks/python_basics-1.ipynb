{
 "cells": [
  {
   "cell_type": "markdown",
   "id": "fad840e3",
   "metadata": {},
   "source": [
    "# Chapter 1 - Python Basics"
   ]
  },
  {
   "cell_type": "markdown",
   "id": "1be7b442",
   "metadata": {},
   "source": [
    "## Notes"
   ]
  },
  {
   "cell_type": "markdown",
   "id": "6dad0c6d",
   "metadata": {},
   "source": [
    "### Math Operators\n",
    "Exponentiation (**):\n",
    " - Example: 2 ** 3 = 8\n",
    "\n",
    "Integer division (//):\n",
    " - Example: 22 // 8 = 2"
   ]
  },
  {
   "cell_type": "markdown",
   "id": "678316ad",
   "metadata": {},
   "source": [
    "### Data Types\n",
    "\n",
    "Integer + Float = Float\n",
    "- Example: 3 + 4.0 = 7.0\n",
    "\n",
    "String * Integer is valid\n",
    "- Example: 'Alice' * 5 = 'AliceAliceAliceAliceAlice'\n",
    "\n",
    "String +/- Integer/Float = Error\n",
    "\n",
    "String +/-/*// Float = Error"
   ]
  },
  {
   "cell_type": "markdown",
   "id": "66a7c542",
   "metadata": {},
   "source": [
    "### str(), int() and float() functions"
   ]
  },
  {
   "cell_type": "code",
   "execution_count": 5,
   "id": "14207782",
   "metadata": {},
   "outputs": [
    {
     "ename": "ValueError",
     "evalue": "invalid literal for int() with base 10: '99.99'",
     "output_type": "error",
     "traceback": [
      "\u001b[0;31m---------------------------------------------------------------------------\u001b[0m",
      "\u001b[0;31mValueError\u001b[0m                                Traceback (most recent call last)",
      "Cell \u001b[0;32mIn[5], line 1\u001b[0m\n\u001b[0;32m----> 1\u001b[0m \u001b[38;5;28;43mint\u001b[39;49m\u001b[43m(\u001b[49m\u001b[38;5;124;43m'\u001b[39;49m\u001b[38;5;124;43m99.99\u001b[39;49m\u001b[38;5;124;43m'\u001b[39;49m\u001b[43m)\u001b[49m\n",
      "\u001b[0;31mValueError\u001b[0m: invalid literal for int() with base 10: '99.99'"
     ]
    }
   ],
   "source": [
    "int('99.99')"
   ]
  },
  {
   "cell_type": "code",
   "execution_count": null,
   "id": "0f04a26c",
   "metadata": {},
   "outputs": [
    {
     "ename": "ValueError",
     "evalue": "invalid literal for int() with base 10: 'twelve'",
     "output_type": "error",
     "traceback": [
      "\u001b[0;31m---------------------------------------------------------------------------\u001b[0m",
      "\u001b[0;31mValueError\u001b[0m                                Traceback (most recent call last)",
      "Cell \u001b[0;32mIn[3], line 1\u001b[0m\n\u001b[0;32m----> 1\u001b[0m \u001b[38;5;28;43mint\u001b[39;49m\u001b[43m(\u001b[49m\u001b[38;5;124;43m'\u001b[39;49m\u001b[38;5;124;43mtwelve\u001b[39;49m\u001b[38;5;124;43m'\u001b[39;49m\u001b[43m)\u001b[49m\n",
      "\u001b[0;31mValueError\u001b[0m: invalid literal for int() with base 10: 'twelve'"
     ]
    }
   ],
   "source": [
    "int('twelve')"
   ]
  },
  {
   "cell_type": "markdown",
   "id": "eac54d7a",
   "metadata": {},
   "source": [
    "When using **int()** to convert float to int, python removes the decimal value and you are left with the whole number. Essentially rounding down."
   ]
  },
  {
   "cell_type": "code",
   "execution_count": 7,
   "id": "91039e63",
   "metadata": {},
   "outputs": [
    {
     "name": "stdout",
     "output_type": "stream",
     "text": [
      "7\n",
      "8\n",
      "8\n"
     ]
    }
   ],
   "source": [
    "print(int(7.7))\n",
    "print(int(7.7) + 1)\n",
    "print(int(7.1) + 1)"
   ]
  },
  {
   "cell_type": "markdown",
   "id": "30444476",
   "metadata": {},
   "source": [
    "**round()** uses banker's rounding:\n",
    "\n",
    "Example:\n",
    "- round(3.5) = 4\n",
    "- round(2.5) = 2"
   ]
  },
  {
   "cell_type": "markdown",
   "id": "77d38bf9",
   "metadata": {},
   "source": [
    "## Practice Questions"
   ]
  },
  {
   "cell_type": "markdown",
   "id": "825c177d",
   "metadata": {},
   "source": [
    "1. Which of the following are operators, and which are values?\n",
    "(*,'hello', 88.8, -, /, +, 5)\n",
    "\n",
    "    **Answer:**\n",
    "    - Operators: *, -, /, +\n",
    "    - Values: 'hello', 88.8, 5"
   ]
  },
  {
   "cell_type": "markdown",
   "id": "99fd6972",
   "metadata": {},
   "source": [
    "2. Which of the following is a variable and which is a string?\n",
    "\n",
    "    spam  \n",
    "    'spam'\n",
    "\n",
    "    **Answer:**\n",
    "    - variable = spam\n",
    "    - string = 'spam'"
   ]
  },
  {
   "cell_type": "markdown",
   "id": "d9e7dd1f",
   "metadata": {},
   "source": [
    "3. Name 3 data types\n",
    "\n",
    "    **Answer:** str, int, float"
   ]
  },
  {
   "cell_type": "markdown",
   "id": "aefb20a1",
   "metadata": {},
   "source": [
    "4. What is an expression made up of? What do all expressions do?\n",
    "\n",
    "    **Answer:** Expressions consist of values (such as 2) and operators (such as +), and they can always evaluate (that is, reduce) down to a single value. That means you can use expressions anywhere in Python code that you could also use a value."
   ]
  },
  {
   "cell_type": "markdown",
   "id": "9f02f445",
   "metadata": {},
   "source": [
    "5. This chapter introduced assignment statements, like spam = 10. What is the difference between an expression and a statement?\n",
    "\n",
    "    **Answer:** An assignment statement consists of a variable name, an equal sign (called the assignment operator), and the value to be stored. While an expression does not store a value in a variable."
   ]
  },
  {
   "cell_type": "markdown",
   "id": "0160c41e",
   "metadata": {},
   "source": [
    "6. What does the variable bacon contain after the following code runs?\n",
    "    \n",
    "    bacon = 20  \n",
    "    bacon + 1\n",
    "\n",
    "    **Answer:** 20    "
   ]
  },
  {
   "cell_type": "markdown",
   "id": "b63c5508",
   "metadata": {},
   "source": [
    "7. What should the following two expressions evaluate to?  \n",
    "\n",
    "    'spam' + 'spamspam'  \n",
    "    'spam' * 3\n",
    "    \n",
    "    **Answer:**\n",
    "    1. 'spamspamspam'\n",
    "    2. 'spamspamspam'"
   ]
  },
  {
   "cell_type": "markdown",
   "id": "4e3d7353",
   "metadata": {},
   "source": [
    "8. Why is eggs a valid variable name while 100 is invalid?\n",
    "\n",
    "    **Answer:** eggs complies with the conditions of variable naming in python, while 100 voilates the condition that a variable name cannot start with a numeric value."
   ]
  },
  {
   "cell_type": "markdown",
   "id": "bdd5d12b",
   "metadata": {},
   "source": [
    "9. What three functions can be used to get the integer, floating-point number, or string version of a value?\n",
    "\n",
    "    **Answer:** int(), float(), str()"
   ]
  },
  {
   "cell_type": "markdown",
   "id": "0e03c788",
   "metadata": {},
   "source": [
    "10. Why does this expression cause an error? How can you fix it?  \n",
    "    'I eat ' + 99 + ' burritos.'\n",
    "\n",
    "    **Answer:** 'I eat ' + str(99) + ' burritos'"
   ]
  },
  {
   "cell_type": "markdown",
   "id": "797e6ee5",
   "metadata": {},
   "source": [
    "## Extra Credit  \n",
    "Search online for the Python documentation for the len() function. It will be on a web page titled “Built-in Functions.” Skim the list of other functions Python has, look up what the bin() and hex() functions do, and experiment with them in the interactive shell."
   ]
  },
  {
   "cell_type": "markdown",
   "id": "d8bb03d6",
   "metadata": {},
   "source": [
    "### Python Built-in Functions"
   ]
  },
  {
   "cell_type": "markdown",
   "id": "7dec53c8",
   "metadata": {},
   "source": [
    "`bin()`  \n",
    "`hex()`  \n",
    "`all()`    \n",
    "`complex()`  \n",
    "`divmod()`  \n",
    "`enumerate()`  \n",
    "`filter()`   \n",
    "`getattr()`  \n",
    "`input()`  \n",
    "`list()`  \n",
    "`map()`  \n",
    "`ord()`  \n",
    "`pow()`  \n",
    "`repr()`  \n",
    "`set()`  \n",
    "`tuple()`  \n",
    "`vars()`  \n",
    "`zip()`"
   ]
  },
  {
   "cell_type": "markdown",
   "id": "92b7858a",
   "metadata": {},
   "source": [
    "`bin()` - Convert an integer number to a binary string prefixed with “0b”. The result is a valid Python expression. If integer is not a Python int object, it has to define an __index__() method that returns an integer."
   ]
  },
  {
   "cell_type": "code",
   "execution_count": 9,
   "id": "cb7a4af4",
   "metadata": {},
   "outputs": [
    {
     "data": {
      "text/plain": [
       "'0b11'"
      ]
     },
     "execution_count": 9,
     "metadata": {},
     "output_type": "execute_result"
    }
   ],
   "source": [
    "bin(3)"
   ]
  },
  {
   "cell_type": "markdown",
   "id": "519b47e1",
   "metadata": {},
   "source": [
    "`hex()` - Convert an integer number to a lowercase hexadecimal string prefixed with “0x”. If integer is not a Python int object, it has to define an __index__() method that returns an integer."
   ]
  },
  {
   "cell_type": "code",
   "execution_count": 12,
   "id": "83b0192f",
   "metadata": {},
   "outputs": [
    {
     "name": "stdout",
     "output_type": "stream",
     "text": [
      "0xff\n"
     ]
    },
    {
     "data": {
      "text/plain": [
       "'-0x2a'"
      ]
     },
     "execution_count": 12,
     "metadata": {},
     "output_type": "execute_result"
    }
   ],
   "source": [
    "print(hex(255))\n",
    "hex(-42)"
   ]
  },
  {
   "cell_type": "markdown",
   "id": "fadfe6ac",
   "metadata": {},
   "source": [
    "`all()` - Return True if all elements of the iterable are true (or if the iterable is empty)."
   ]
  },
  {
   "cell_type": "code",
   "execution_count": 17,
   "id": "0ce235f1",
   "metadata": {},
   "outputs": [
    {
     "name": "stdout",
     "output_type": "stream",
     "text": [
      "True\n",
      "False\n",
      "True\n",
      "True\n"
     ]
    }
   ],
   "source": [
    "print(all([1, 2, 3]))\n",
    "print(all([1, 2, 3, 0]))\n",
    "print(all([]))\n",
    "print(all([True, True, 1, 3.14]))"
   ]
  },
  {
   "cell_type": "markdown",
   "id": "ae594374",
   "metadata": {},
   "source": [
    "`complex()` - Convert a single string or number to a complex number, or create a complex number from real and imaginary parts."
   ]
  },
  {
   "cell_type": "code",
   "execution_count": 18,
   "id": "b8b7f1ec",
   "metadata": {},
   "outputs": [
    {
     "name": "stdout",
     "output_type": "stream",
     "text": [
      "(1+0j)\n",
      "(1+2j)\n",
      "(1+2j)\n",
      "(1+0j)\n",
      "(4+6j)\n"
     ]
    },
    {
     "data": {
      "text/plain": [
       "(4+2j)"
      ]
     },
     "execution_count": 18,
     "metadata": {},
     "output_type": "execute_result"
    }
   ],
   "source": [
    "print(complex(1))\n",
    "print(complex(1, 2))\n",
    "print(complex('1+2j'))\n",
    "print(complex('1'))\n",
    "print(complex('1+2j') + complex(3, 4))\n",
    "complex('1+2j') + 3"
   ]
  },
  {
   "cell_type": "markdown",
   "id": "07632da4",
   "metadata": {},
   "source": [
    "`divmod()` - Take two (non-complex) numbers as arguments and return a pair of numbers consisting of their quotient and remainder when using integer division"
   ]
  },
  {
   "cell_type": "code",
   "execution_count": 19,
   "id": "b6fc115d",
   "metadata": {},
   "outputs": [
    {
     "name": "stdout",
     "output_type": "stream",
     "text": [
      "(2, 2)\n",
      "(2.0, 2.0)\n",
      "(2.0, 2.0)\n",
      "(2.0, 2.0)\n"
     ]
    },
    {
     "ename": "ZeroDivisionError",
     "evalue": "integer division or modulo by zero",
     "output_type": "error",
     "traceback": [
      "\u001b[0;31m---------------------------------------------------------------------------\u001b[0m",
      "\u001b[0;31mZeroDivisionError\u001b[0m                         Traceback (most recent call last)",
      "Cell \u001b[0;32mIn[19], line 5\u001b[0m\n\u001b[1;32m      3\u001b[0m \u001b[38;5;28mprint\u001b[39m(\u001b[38;5;28mdivmod\u001b[39m(\u001b[38;5;241m8\u001b[39m, \u001b[38;5;241m3.0\u001b[39m))\n\u001b[1;32m      4\u001b[0m \u001b[38;5;28mprint\u001b[39m(\u001b[38;5;28mdivmod\u001b[39m(\u001b[38;5;241m8.0\u001b[39m, \u001b[38;5;241m3.0\u001b[39m))\n\u001b[0;32m----> 5\u001b[0m \u001b[38;5;28mprint\u001b[39m(\u001b[38;5;28;43mdivmod\u001b[39;49m\u001b[43m(\u001b[49m\u001b[38;5;241;43m8\u001b[39;49m\u001b[43m,\u001b[49m\u001b[43m \u001b[49m\u001b[38;5;241;43m0\u001b[39;49m\u001b[43m)\u001b[49m)\n",
      "\u001b[0;31mZeroDivisionError\u001b[0m: integer division or modulo by zero"
     ]
    }
   ],
   "source": [
    "print(divmod(8, 3))\n",
    "print(divmod(8.0, 3))\n",
    "print(divmod(8, 3.0))\n",
    "print(divmod(8.0, 3.0))\n",
    "print(divmod(8, 0))"
   ]
  },
  {
   "cell_type": "markdown",
   "id": "97fb52dc",
   "metadata": {},
   "source": [
    "`enumerate()` - Return an enumerate object. iterable must be a sequence, an iterator, or some other object which supports iteration. The __next__() method of the iterator returned by enumerate() returns a tuple containing a count (from start which defaults to 0) and the values obtained from iterating over iterable."
   ]
  },
  {
   "cell_type": "code",
   "execution_count": 20,
   "id": "a5b91713",
   "metadata": {},
   "outputs": [
    {
     "name": "stdout",
     "output_type": "stream",
     "text": [
      "<enumerate object at 0x7bcc8740fe80>\n",
      "0 tic\n",
      "1 tac\n",
      "2 toe\n"
     ]
    }
   ],
   "source": [
    "print(enumerate(['tic', 'tac', 'toe']))\n",
    "for i, v in enumerate(['tic', 'tac', 'toe']):\n",
    "    print(i, v)"
   ]
  },
  {
   "cell_type": "markdown",
   "id": "8c64846e",
   "metadata": {},
   "source": [
    "`filter()` - Construct an iterator from those elements of iterable for which function is true. iterable may be either a sequence, a container which supports iteration, or an iterator. If function is None, the identity function is assumed, that is, all elements of iterable that are false are removed."
   ]
  },
  {
   "cell_type": "code",
   "execution_count": 22,
   "id": "13a87e5b",
   "metadata": {},
   "outputs": [
    {
     "name": "stdout",
     "output_type": "stream",
     "text": [
      "<filter object at 0x7bcc87327010>\n",
      "[6, 8]\n"
     ]
    },
    {
     "data": {
      "text/plain": [
       "['A', 'B', 'C', 1, 2, 3]"
      ]
     },
     "execution_count": 22,
     "metadata": {},
     "output_type": "execute_result"
    }
   ],
   "source": [
    "print(filter(lambda x: x > 5, [1, 4, 6, 8, 3]))\n",
    "print(list(filter(lambda x: x > 5, [1, 4, 6, 8, 3])))\n",
    "list(filter(None, ['A', '', 'B', None, 'C', 0, 1, 2, 3]))"
   ]
  },
  {
   "cell_type": "markdown",
   "id": "2474992a",
   "metadata": {},
   "source": [
    "`getattr()` - Return the value of the named attribute of object. name must be a string. If the string is the name of one of the object’s attributes, the result is the value of that attribute. For example, getattr(x, 'foobar') is equivalent to x.foobar. If the named attribute does not exist, default is returned if provided, otherwise AttributeError is raised. name need not be a Python identifier (see setattr())."
   ]
  },
  {
   "cell_type": "code",
   "execution_count": 25,
   "id": "a3786c91",
   "metadata": {},
   "outputs": [
    {
     "name": "stdout",
     "output_type": "stream",
     "text": [
      "<built-in method append of list object at 0x7bcc86728c80>\n",
      "None\n",
      "[1, 2, 3, 4]\n",
      "4\n",
      "[1, 2, 3]\n",
      "None\n",
      "[]\n",
      "default_value\n"
     ]
    }
   ],
   "source": [
    "print(getattr([1, 2, 3], 'append'))\n",
    "x = [1, 2, 3]\n",
    "print(getattr(x, 'append')(4))\n",
    "print(x)\n",
    "print(getattr(x, 'pop')())\n",
    "print(x)\n",
    "print(getattr(x, 'clear')())\n",
    "print(x)\n",
    "print(getattr(x, 'non_existent', 'default_value'))"
   ]
  },
  {
   "cell_type": "markdown",
   "id": "972759bd",
   "metadata": {},
   "source": [
    "`input()` - If the prompt argument is present, it is written to standard output without a trailing newline. The function then reads a line from input, converts it to a string (stripping a trailing newline), and returns that. When EOF is read, EOFError is raised."
   ]
  },
  {
   "cell_type": "code",
   "execution_count": 28,
   "id": "f6e73525",
   "metadata": {},
   "outputs": [
    {
     "name": "stdout",
     "output_type": "stream",
     "text": [
      "Hello\n",
      "Bye\n"
     ]
    }
   ],
   "source": [
    "print(input(\"Enter something: \"))\n",
    "print(input())"
   ]
  },
  {
   "cell_type": "markdown",
   "id": "48cca5d4",
   "metadata": {},
   "source": [
    "`list()` - Rather than being a function, list is actually a mutable sequence type, as documented in Lists and Sequence Types — list, tuple, range."
   ]
  },
  {
   "cell_type": "code",
   "execution_count": 29,
   "id": "47272a7f",
   "metadata": {},
   "outputs": [
    {
     "name": "stdout",
     "output_type": "stream",
     "text": [
      "[1, 2, 3]\n",
      "['h', 'e', 'l', 'l', 'o']\n"
     ]
    }
   ],
   "source": [
    "print(list((1, 2, 3)))\n",
    "print(list('hello'))"
   ]
  },
  {
   "cell_type": "markdown",
   "id": "c7c9dd6b",
   "metadata": {},
   "source": [
    "`map()` - Return an iterator that applies function to every item of iterable, yielding the results. If additional iterables arguments are passed, function must take that many arguments and is applied to the items from all iterables in parallel. With multiple iterables, the iterator stops when the shortest iterable is exhausted. For cases where the function inputs are already arranged into argument tuples, see itertools.starmap()."
   ]
  },
  {
   "cell_type": "code",
   "execution_count": 30,
   "id": "0be4b6f1",
   "metadata": {},
   "outputs": [
    {
     "name": "stdout",
     "output_type": "stream",
     "text": [
      "<map object at 0x7bcc87420e20>\n",
      "['1', '2', '3', '4', '5']\n",
      "[2, 4, 6, 8, 10]\n"
     ]
    }
   ],
   "source": [
    "print(map(str, [1, 2, 3, 4, 5]))\n",
    "print(list(map(str, [1, 2, 3, 4, 5])))\n",
    "print(list(map(lambda x: x * 2, [1, 2, 3, 4, 5])))"
   ]
  },
  {
   "cell_type": "markdown",
   "id": "ccce1c78",
   "metadata": {},
   "source": [
    "`next()` - Retrieve the next item from the iterator by calling its __next__() method. If default is given, it is returned if the iterator is exhausted, otherwise StopIteration is raised."
   ]
  },
  {
   "cell_type": "code",
   "execution_count": 31,
   "id": "ac47b6c8",
   "metadata": {},
   "outputs": [
    {
     "name": "stdout",
     "output_type": "stream",
     "text": [
      "1\n",
      "1\n"
     ]
    }
   ],
   "source": [
    "print(next(iter([1, 2, 3])))\n",
    "print(next(iter([1, 2, 3]), 'default_value'))"
   ]
  },
  {
   "cell_type": "markdown",
   "id": "3bfff4a9",
   "metadata": {},
   "source": [
    "`ord()` - Return the ordinal value of a character.\n",
    "\n",
    "If the argument is a one-character string, return the Unicode code point of that character. For example, ord('a') returns the integer 97 and ord('€') (Euro sign) returns 8364. This is the inverse of chr().\n",
    "\n",
    "If the argument is a bytes or bytearray object of length 1, return its single byte value. For example, ord(b'a') returns the integer 97."
   ]
  },
  {
   "cell_type": "code",
   "execution_count": 32,
   "id": "fb935282",
   "metadata": {},
   "outputs": [
    {
     "name": "stdout",
     "output_type": "stream",
     "text": [
      "97\n",
      "8364\n",
      "97\n"
     ]
    },
    {
     "data": {
      "text/plain": [
       "97"
      ]
     },
     "execution_count": 32,
     "metadata": {},
     "output_type": "execute_result"
    }
   ],
   "source": [
    "print(ord('a'))\n",
    "print(ord('€'))\n",
    "print(ord(b'a'))\n",
    "ord(bytearray(b'a'))"
   ]
  },
  {
   "cell_type": "markdown",
   "id": "f9ece287",
   "metadata": {},
   "source": [
    "`pow()` - Return base to the power exp; if mod is present, return base to the power exp, modulo mod (computed more efficiently than pow(base, exp) % mod). The two-argument form pow(base, exp) is equivalent to using the power operator: base**exp."
   ]
  },
  {
   "cell_type": "code",
   "execution_count": 33,
   "id": "7f8b209d",
   "metadata": {},
   "outputs": [
    {
     "data": {
      "text/plain": [
       "8"
      ]
     },
     "execution_count": 33,
     "metadata": {},
     "output_type": "execute_result"
    }
   ],
   "source": [
    "pow(2, 3)"
   ]
  },
  {
   "cell_type": "markdown",
   "id": "b4cffc79",
   "metadata": {},
   "source": [
    "`repr()` - Return a string containing a printable representation of an object. For many types, this function makes an attempt to return a string that would yield an object with the same value when passed to eval(); otherwise, the representation is a string enclosed in angle brackets that contains the name of the type of the object together with additional information often including the name and address of the object. A class can control what this function returns for its instances by defining a __repr__() method. If sys.displayhook() is not accessible, this function will raise RuntimeError."
   ]
  },
  {
   "cell_type": "code",
   "execution_count": 35,
   "id": "a0602370",
   "metadata": {},
   "outputs": [
    {
     "name": "stdout",
     "output_type": "stream",
     "text": [
      "[1, 2, 3]\n",
      "'Hello\\nWorld'\n"
     ]
    },
    {
     "data": {
      "text/plain": [
       "\"{'key': 'value', 'number': 42}\""
      ]
     },
     "execution_count": 35,
     "metadata": {},
     "output_type": "execute_result"
    }
   ],
   "source": [
    "print(repr([1, 2, 3]))\n",
    "print(repr(\"Hello\\nWorld\"))\n",
    "repr({'key': 'value', 'number': 42})"
   ]
  },
  {
   "cell_type": "markdown",
   "id": "109738c4",
   "metadata": {},
   "source": [
    "`set()` - Return a new set object, optionally with elements taken from iterable. set is a built-in class. See set and Set Types — set, frozenset for documentation about this class."
   ]
  },
  {
   "cell_type": "code",
   "execution_count": 39,
   "id": "8654918a",
   "metadata": {},
   "outputs": [
    {
     "name": "stdout",
     "output_type": "stream",
     "text": [
      "{1, 2, 3}\n",
      "{'o', 'h', 'e', 'l'}\n"
     ]
    },
    {
     "data": {
      "text/plain": [
       "set()"
      ]
     },
     "execution_count": 39,
     "metadata": {},
     "output_type": "execute_result"
    }
   ],
   "source": [
    "print(set([1, 2, 3, 2, 1]))\n",
    "print(set('hello'))\n",
    "set()"
   ]
  },
  {
   "cell_type": "markdown",
   "id": "c53892fe",
   "metadata": {},
   "source": [
    "`tuple()` - Rather than being a function, tuple is actually an immutable sequence type, as documented in Tuples and Sequence Types — list, tuple, range."
   ]
  },
  {
   "cell_type": "code",
   "execution_count": 40,
   "id": "4def62d4",
   "metadata": {},
   "outputs": [
    {
     "name": "stdout",
     "output_type": "stream",
     "text": [
      "(1, 2, 3)\n",
      "('h', 'e', 'l', 'l', 'o')\n"
     ]
    },
    {
     "data": {
      "text/plain": [
       "()"
      ]
     },
     "execution_count": 40,
     "metadata": {},
     "output_type": "execute_result"
    }
   ],
   "source": [
    "print(tuple([1, 2, 3]))\n",
    "print(tuple('hello'))\n",
    "tuple()"
   ]
  },
  {
   "cell_type": "markdown",
   "id": "56806c3f",
   "metadata": {},
   "source": [
    "`vars()` - Return the __dict__ attribute for a module, class, instance, or any other object with a __dict__ attribute."
   ]
  },
  {
   "cell_type": "code",
   "execution_count": null,
   "id": "77794160",
   "metadata": {},
   "outputs": [],
   "source": [
    "vars(list)\n",
    "vars(int)"
   ]
  },
  {
   "cell_type": "markdown",
   "id": "f1937cac",
   "metadata": {},
   "source": [
    "`zip()` - Iterate over several iterables in parallel, producing tuples with an item from each one."
   ]
  },
  {
   "cell_type": "code",
   "execution_count": 45,
   "id": "b468c9d0",
   "metadata": {},
   "outputs": [
    {
     "name": "stdout",
     "output_type": "stream",
     "text": [
      "<zip object at 0x7bcc86747900>\n",
      "[(1, 'a'), (2, 'b'), (3, 'c')]\n",
      "[(1, 'a'), (2, 'b')]\n",
      "[(1, 'a'), (2, 'b')]\n",
      "[]\n"
     ]
    }
   ],
   "source": [
    "print(zip([1, 2, 3], ['a', 'b', 'c']))\n",
    "print(list(zip([1, 2, 3], ['a', 'b', 'c'])))\n",
    "print(list(zip([1, 2], ['a', 'b', 'c'])))\n",
    "print(list(zip([1, 2, 3], ['a', 'b'])))\n",
    "print(list(zip()))"
   ]
  }
 ],
 "metadata": {
  "kernelspec": {
   "display_name": "3.10.12",
   "language": "python",
   "name": "python3"
  },
  "language_info": {
   "codemirror_mode": {
    "name": "ipython",
    "version": 3
   },
   "file_extension": ".py",
   "mimetype": "text/x-python",
   "name": "python",
   "nbconvert_exporter": "python",
   "pygments_lexer": "ipython3",
   "version": "3.10.12"
  }
 },
 "nbformat": 4,
 "nbformat_minor": 5
}
