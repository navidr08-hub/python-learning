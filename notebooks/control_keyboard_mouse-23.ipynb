{
 "cells": [
  {
   "cell_type": "markdown",
   "id": "afe73d00",
   "metadata": {},
   "source": [
    "# Chapter 23 - Controlling Keyboard and Mouse"
   ]
  },
  {
   "cell_type": "markdown",
   "id": "56cad65e",
   "metadata": {},
   "source": [
    "## Notes"
   ]
  },
  {
   "cell_type": "markdown",
   "id": "9f9f06d2",
   "metadata": {},
   "source": [
    "## Practice Questions"
   ]
  },
  {
   "cell_type": "markdown",
   "id": "4b7f7dd5",
   "metadata": {},
   "source": [
    "1. How can you trigger PyAutoGUI’s fail-safe to stop a program?  \n",
    "    **Answer:** If your program has a bug and you’re unable to use the keyboard and mouse to shut it down, you can use PyAutoGUI’s fail-safe feature. Quickly slide the mouse to one of the four corners of the screen. Every PyAutoGUI function call has a one-tenth-of-a-second pause after performing its action to give you enough time to move the mouse to a corner. If PyAutoGUI then finds that the mouse cursor is in a corner, it raises the pyautogui.FailSafeException exception. Non-PyAutoGUI instructions won’t have this pause. You can adjust this pause duration by setting pyautogui.PAUSE to a value other than 0.1. If you find yourself in a situation where you need to stop your PyAutoGUI program, just slam the mouse toward a screen corner to stop it."
   ]
  },
  {
   "cell_type": "markdown",
   "id": "8d03cc49",
   "metadata": {},
   "source": [
    "2. What function returns the current screen resolution?  \n",
    "    **Answer:** `pyautogui.size()`"
   ]
  },
  {
   "cell_type": "markdown",
   "id": "b0fdff3d",
   "metadata": {},
   "source": [
    "3. What function returns the coordinates for the mouse cursor’s current position?  \n",
    "    **Answer:** `pyautogui.position()`"
   ]
  },
  {
   "cell_type": "markdown",
   "id": "35c70545",
   "metadata": {},
   "source": [
    "4. What is the difference between pyautogui.moveTo() and pyautogui.move()?  \n",
    "    **Answer:** The pyautogui.moveTo() function will instantly move the mouse cursor to a specified position on the screen. The pyautogui.move() function moves the mouse cursor relative to its current position."
   ]
  },
  {
   "cell_type": "markdown",
   "id": "6535a6cb",
   "metadata": {},
   "source": [
    "5. What functions can be used to drag the mouse?  \n",
    "    **Answer:** `pyautogui.dragTo() and pyautogui.drag()`"
   ]
  },
  {
   "cell_type": "markdown",
   "id": "f0d9e730",
   "metadata": {},
   "source": [
    "6. What function call will type out the characters of \"Hello, world!\"?  \n",
    "**Answer:** `pyautogui.write(['H', 'e', 'l', 'l', 'o', ',', 'W', 'o', 'r', 'l', 'd', '!'])`"
   ]
  },
  {
   "cell_type": "markdown",
   "id": "bc00d05d",
   "metadata": {},
   "source": [
    "7. How can you do key presses for special keys, such as the keyboard’s left arrow key?  \n",
    "**Answer:** `pyautogui.write(['left'])`"
   ]
  },
  {
   "cell_type": "markdown",
   "id": "8bb91415",
   "metadata": {},
   "source": [
    "8. How can you save the current contents of the screen to an image file named screenshot.png?  \n",
    "**Answer:** `pyautogui.screenshot('screenshot.png')`"
   ]
  },
  {
   "cell_type": "markdown",
   "id": "747ab534",
   "metadata": {},
   "source": [
    "9. What code would set a two-second pause after every PyAutoGUI function call?  \n",
    "**Answer:** `pyautogui.sleep(2)`"
   ]
  },
  {
   "cell_type": "markdown",
   "id": "752f3c51",
   "metadata": {},
   "source": [
    "10. If you want to automate clicks and keystrokes inside a web browser, should you use PyAutoGUI or Selenium?  \n",
    "**Answer:** Selenium, because it is designed for browsers, while pyautogui is designed for the users specific screen size, browser type, etc etc."
   ]
  },
  {
   "cell_type": "markdown",
   "id": "1eb53a31",
   "metadata": {},
   "source": [
    "11. What makes PyAutoGUI error prone?  \n",
    "**Answer:** pyautogui Fail Safe mechanism: `pyautogui.FailSafeException`"
   ]
  },
  {
   "cell_type": "markdown",
   "id": "cc148c3f",
   "metadata": {},
   "source": [
    "12. How can you find the size of every window on the screen that includes the word Notepad in its title?  \n",
    "**Answer:** `pyautogui.getWindowsWithTitle('Notepad')`"
   ]
  },
  {
   "cell_type": "markdown",
   "id": "fbb46c57",
   "metadata": {},
   "source": [
    "13. How can you make, say, the Firefox browser active and in front of every other window on the screen?  \n",
    "**Answer:**\n",
    "    ```\n",
    "    import pyautogui\n",
    "    firefox_win = pyautogui.getWindowsWithTitle('Firefox')\n",
    "    if firefox_win:\n",
    "        firefox_win = firefox_win[0]\n",
    "        firefox_win.activate()\n",
    "    ```"
   ]
  },
  {
   "cell_type": "markdown",
   "id": "d88badc9",
   "metadata": {},
   "source": [
    "## Practice Programs"
   ]
  },
  {
   "cell_type": "markdown",
   "id": "e3fcdb0e",
   "metadata": {},
   "source": [
    "For practice, write programs to do the following tasks.\n",
    "\n",
    "### Looking Busy\n",
    "Many instant messaging programs determine whether you are idle, or away from your computer, by detecting a lack of mouse movement over some period of time—say, 10 minutes. Maybe you’re away from your computer but don’t want others to see your instant messenger status go into idle mode to give the impression that you’re slacking. Write a script to nudge your mouse cursor by one pixel to the left every 10 seconds, and then one pixel to the right 10 seconds after that. The nudge should be small and infrequent enough so that it won’t get in the way if you do happen to need to use your computer while the script is running."
   ]
  },
  {
   "cell_type": "markdown",
   "id": "ba091b95",
   "metadata": {},
   "source": [
    "### Reading Text Fields with the Clipboard\n",
    "While you can send keystrokes to an application’s text fields with pyautogui.write(), you can’t use PyAutoGUI alone to read the text already inside a text field. This is where the pyperclip module can help. You can use PyAutoGUI to obtain the window for a text editor such as Mu or Notepad, bring it to the front of the screen by clicking it, click inside the text field, and then send the CTRL-A or -A hotkey to “select all” and CTRL-C or -C hotkey to “copy to clipboard.” Your Python script can then read the clipboard text by running import pyperclip and pyperclip.paste().\n",
    "\n",
    "Write a program that follows this procedure for copying the text from a window’s text fields. Use pyautogui.getWindowsWithTitle('Notepad') (or whichever text editor you choose) to obtain a Window object. The top and left attributes of this Window object can tell you where this window is, while the activate() method will ensure that it is at the front of the screen. You can then click the main text field of the text editor by adding, say, 100 or 200 pixels to the top and left attribute values with pyautogui.click() to put the keyboard focus there. Call pyautogui.hotkey('ctrl', 'a') and pyautogui.hotkey('ctrl', 'c') to select all the text and copy it to the clipboard. Finally, call pyperclip.paste() to retrieve the text from the clipboard and paste it into your Python program. From there, you can use this string however you want, but just pass it to print() for now.\n",
    "\n",
    "Note that the window functions of PyAutoGUI only work on Windows as of PyAutoGUI version 1.0.0, and not on macOS or Linux."
   ]
  },
  {
   "cell_type": "markdown",
   "id": "3a0f3f68",
   "metadata": {},
   "source": [
    "### Writing a Game-Playing Bot\n",
    "There is an old Flash game called Sushi Go Round. The game involves clicking the correct ingredient buttons to fill customers’ sushi orders. The faster you fill orders without mistakes, the more points you get. This is a perfectly suited task for a GUI automation program—and a way to cheat to a high score! Although Flash is discontinued as a product, there are instructions for playing it offline on your computer and a list of websites that host the Sushi Go Round game at https://github.com/asweigart/sushigoroundbot. That GitHub repo also has the Python source code for a game-playing bot. A video of the bot playing the game is at https://youtu.be/lfk_T6VKhTE."
   ]
  }
 ],
 "metadata": {
  "kernelspec": {
   "display_name": "automate_boring_stuff",
   "language": "python",
   "name": "python3"
  },
  "language_info": {
   "codemirror_mode": {
    "name": "ipython",
    "version": 3
   },
   "file_extension": ".py",
   "mimetype": "text/x-python",
   "name": "python",
   "nbconvert_exporter": "python",
   "pygments_lexer": "ipython3",
   "version": "3.10.12"
  }
 },
 "nbformat": 4,
 "nbformat_minor": 5
}
