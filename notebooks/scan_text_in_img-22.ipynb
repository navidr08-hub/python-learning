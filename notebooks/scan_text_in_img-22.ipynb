{
 "cells": [
  {
   "cell_type": "markdown",
   "id": "afe73d00",
   "metadata": {},
   "source": [
    "# Chapter 22 - Recognizing Text in Images"
   ]
  },
  {
   "cell_type": "markdown",
   "id": "56cad65e",
   "metadata": {},
   "source": [
    "## Notes"
   ]
  },
  {
   "cell_type": "markdown",
   "id": "9f9f06d2",
   "metadata": {},
   "source": [
    "## Practice Questions"
   ]
  },
  {
   "cell_type": "markdown",
   "id": "4b7f7dd5",
   "metadata": {},
   "source": [
    "1. What language does Tesseract recognize by default?  \n",
    "    **Answer:** English"
   ]
  },
  {
   "cell_type": "markdown",
   "id": "8d03cc49",
   "metadata": {},
   "source": [
    "2. Name a Python image library that PyTesseract works with.  \n",
    "    **Answer:** `pytesseract`"
   ]
  },
  {
   "cell_type": "markdown",
   "id": "b0fdff3d",
   "metadata": {},
   "source": [
    "3. What PyTesseract function accepts an image object and returns a string of the text in the image?  \n",
    "    **Answer:** `image_to_string(img)`"
   ]
  },
  {
   "cell_type": "markdown",
   "id": "35c70545",
   "metadata": {},
   "source": [
    "4. If you take a photo of a street sign, will Tesseract be able to identify the sign text in the photo?    \n",
    "    **Answer:** No"
   ]
  },
  {
   "cell_type": "markdown",
   "id": "6535a6cb",
   "metadata": {},
   "source": [
    "5. What function returns the list of language packs installed for Tesseract?    \n",
    "    **Answer:** `get_languages()`"
   ]
  },
  {
   "cell_type": "markdown",
   "id": "f0d9e730",
   "metadata": {},
   "source": [
    "6. What keyword argument do you specify to PyTesseract if an image contains both English and Japanese text?  \n",
    "**Answer:** `image_to_string(img, lang='eng+jpn')`"
   ]
  },
  {
   "cell_type": "markdown",
   "id": "bc00d05d",
   "metadata": {},
   "source": [
    "7. What application lets you create PDFs with embedded OCR text?    \n",
    "**Answer:** NAPS2"
   ]
  },
  {
   "cell_type": "markdown",
   "id": "d88badc9",
   "metadata": {},
   "source": [
    "## Practice Programs"
   ]
  },
  {
   "cell_type": "markdown",
   "id": "e3fcdb0e",
   "metadata": {},
   "source": [
    "### Browser Text Scraper\n",
    "Some websites allow you to view their text contents but make it difficult to save or even copy and paste the text to your computer. You may see them as PDFs embedded within the web page. An example of this is at https://autbor.com/embeddedfrankenstein/, shown in Figure 22-2.\n",
    "\n",
    "A web page showing a book chapter on the lefthand side and the text “Annoying sidebar ads here!’ On the righthand side.\n",
    "Figure 22-2: An example web page with an embedded document\n",
    "\n",
    "The PyAutoGUI library covered in Chapter 23 can take screenshots and save them to an image, while the Pillow library covered in Chapter 21 can crop images. PyAutoGUI also has a MouseInfo application for finding XY coordinates on the screen.\n",
    "\n",
    "Write a program named ocrscreen.py that takes a screenshot, crops the image to just the text portion in the screenshot, then passes it on to PyTesseract for OCR. The program should append the recognized text to the end of a text file named output.txt. Here is a template for the ocrscreen.py program:\n",
    "```\n",
    "import pyautogui\n",
    "# TODO - Add the additionally needed import statements.\n",
    "\n",
    "# The coordinates for the text portion. Change as needed:\n",
    "LEFT = 400\n",
    "TOP = 200\n",
    "RIGHT = 1000\n",
    "BOTTOM = 800\n",
    "\n",
    "# Capture a screenshot:\n",
    "img = pyautogui.screenshot()\n",
    "\n",
    "# Crop the screenshot to the text portion:\n",
    "img = img.crop((LEFT, TOP, RIGHT, BOTTOM))\n",
    "\n",
    "# Run OCR on the cropped image:\n",
    "# TODO - Add the PyTesseract code here.\n",
    "\n",
    "# Add the OCR text to the end of output.txt:\n",
    "# TODO - Call open() in append mode and append the OCR text.\n",
    "```\n",
    "This program should let you scroll the embedded, unsavable text into view in your browser, run the program, and then scroll the PDF to the next page of content. Once done, you’ll have your own copy of the document’s text. (If you read Chapter 23, you’ll also learn how you can make your script simulate key presses to scroll the web page for you.)"
   ]
  }
 ],
 "metadata": {
  "kernelspec": {
   "display_name": "automate_boring_stuff",
   "language": "python",
   "name": "python3"
  },
  "language_info": {
   "codemirror_mode": {
    "name": "ipython",
    "version": 3
   },
   "file_extension": ".py",
   "mimetype": "text/x-python",
   "name": "python",
   "nbconvert_exporter": "python",
   "pygments_lexer": "ipython3",
   "version": "3.10.12"
  }
 },
 "nbformat": 4,
 "nbformat_minor": 5
}
