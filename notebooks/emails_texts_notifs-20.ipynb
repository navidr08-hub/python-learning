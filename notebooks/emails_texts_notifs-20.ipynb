{
 "cells": [
  {
   "cell_type": "markdown",
   "id": "afe73d00",
   "metadata": {},
   "source": [
    "# Chapter 19 - Emails, Texts and Push Notifications"
   ]
  },
  {
   "cell_type": "markdown",
   "id": "56cad65e",
   "metadata": {},
   "source": [
    "## Notes"
   ]
  },
  {
   "cell_type": "markdown",
   "id": "9f9f06d2",
   "metadata": {},
   "source": [
    "## Practice Questions"
   ]
  },
  {
   "cell_type": "markdown",
   "id": "4b7f7dd5",
   "metadata": {},
   "source": [
    "1. When using the Gmail API, what are the credentials and token files?  \n",
    "    **Answer:** They are the files that allow the local python program to authenticate with the Gmail API."
   ]
  },
  {
   "cell_type": "markdown",
   "id": "8d03cc49",
   "metadata": {},
   "source": [
    "2. In the Gmail API, what’s the difference between “thread” and “message” objects?  \n",
    "    **Answer:** A message is a single email, while a thread contains replies and replies to replies of a parent email."
   ]
  },
  {
   "cell_type": "markdown",
   "id": "b0fdff3d",
   "metadata": {},
   "source": [
    "3. Using ezgmail.search(), how can you find emails that have file attachments?  \n",
    "    **Answer:** `has:attachment`"
   ]
  },
  {
   "cell_type": "markdown",
   "id": "35c70545",
   "metadata": {},
   "source": [
    "4. What are some of the disadvantages of using an SMS email gateway to send text messages?  \n",
    "    **Answer:**\n",
    "    - You have no guarantee that the text will arrive promptly, or at all.\n",
    "    - You have no way of knowing if the text failed to arrive.\n",
    "    - The text recipient has no way of replying.\n",
    "    - SMS gateways may block you if you send too many emails, and there’s no way to find out how many is “too many.”\n",
    "    - The fact that the SMS gateway delivers a text message today doesn’t mean it will work tomorrow."
   ]
  },
  {
   "cell_type": "markdown",
   "id": "6535a6cb",
   "metadata": {},
   "source": [
    "5. What Python library can send and receive notifications to ntfy?  \n",
    "    **Answer:**\n",
    "    ```\n",
    "    import requests\n",
    "    requests.post('https://ntfy.sh/AlSweigartZPgxBQ42', 'Hello, world!')\n",
    "    ```"
   ]
  },
  {
   "cell_type": "markdown",
   "id": "d88badc9",
   "metadata": {},
   "source": [
    "## Practice Programs"
   ]
  },
  {
   "cell_type": "markdown",
   "id": "e3fcdb0e",
   "metadata": {},
   "source": [
    "For practice, write programs to do the following tasks.\n",
    "\n",
    "### Umbrella Reminder\n",
    "Chapter 13 showed you how to use the requests module to scrape data from https://weather.gov. Write a program that runs just before you wake up in the morning and checks whether rain is in the forecast for that day. If so, have the program text you a reminder to pack an umbrella before leaving the house."
   ]
  },
  {
   "cell_type": "markdown",
   "id": "51e3ea28",
   "metadata": {},
   "source": [
    "### Auto Unsubscriber\n",
    "Write a program that scans your email account, finds all the unsubscribe links in all your emails, and automatically opens them in a browser. This program will have to log in to your Gmail account. You can use Beautiful Soup (covered in Chapter 13) to check for any instance where the word unsubscribe occurs within an HTML link tag. Once you have a list of these URLs, you can use webbrowser.open() to automatically open all of these links in a browser.\n",
    "\n",
    "You’ll still have to manually go through and complete any additional steps to unsubscribe yourself from these lists. In most cases, this involves clicking a link to confirm. But this script saves you from having to go through all of your emails looking for unsubscribe links."
   ]
  },
  {
   "cell_type": "markdown",
   "id": "a54378a3",
   "metadata": {},
   "source": [
    "### Email-Based Computer Control\n",
    "Write a program that checks an email or ntfy account every 15 minutes for any instructions you send it and executes those instructions automatically. For example, BitTorrent is a peer-to-peer downloading system. Using free BitTorrent software such as qBittorrent, you can download large media files on your home computer. If you send the program a (completely legal, not at all piratical) BitTorrent link, the program will eventually check its email or look for ntfy notifications, find this message, extract the link, and then launch qBittorrent to start downloading the file. This way, you can have your home computer begin downloads while you’re away, and finish the (completely legal, not at all piratical) download by the time you return home.\n",
    "\n",
    "Chapter 19 covered how to launch programs on your computer using the subprocess.Popen() function. For example, the following call would launch the qBittorrent program, along with a torrent file:\n",
    "\n",
    "```\n",
    "qbProcess = subprocess.Popen(['C:\\\\Program Files (x86)\\\\qBittorrent\\\\\n",
    "qbittorrent.exe', 'shakespeare_complete_works.torrent'])\n",
    "```\n",
    "\n",
    "Of course, you’ll want the program to make sure the emails come from you. In particular, you might want to require that the emails contain a password, since it is fairly trivial for hackers to fake a “from” address in emails. The program should delete the emails it finds so that it doesn’t repeat instructions every time it checks the email account. As an extra feature, have the program email or text you a confirmation every time it executes a command. Since you won’t be sitting in front of the computer that is running the program, it’s a good idea to use the logging functions (see Chapter 5) to write a text file log that you can check if errors come up.\n",
    "\n",
    "The qBittorrent program (as well as other BitTorrent applications) has a feature that enables it to quit automatically after the download completes. Chapter 19 explained how you can determine when a launched application has quit with the wait() method for Popen objects. The wait() method call will block until qBittorrent has stopped, and then your program can email or text you a notification that the download has completed.\n",
    "\n",
    "There are plenty of possible features you could add to this project. If you get stuck, you can download an example implementation of this program from https://nostarch.com/automate-boring-stuff-python-3rd-edition."
   ]
  }
 ],
 "metadata": {
  "kernelspec": {
   "display_name": "automate_boring_stuff",
   "language": "python",
   "name": "python3"
  },
  "language_info": {
   "codemirror_mode": {
    "name": "ipython",
    "version": 3
   },
   "file_extension": ".py",
   "mimetype": "text/x-python",
   "name": "python",
   "nbconvert_exporter": "python",
   "pygments_lexer": "ipython3",
   "version": "3.10.12"
  }
 },
 "nbformat": 4,
 "nbformat_minor": 5
}
