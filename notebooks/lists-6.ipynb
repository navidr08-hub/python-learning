{
 "cells": [
  {
   "cell_type": "markdown",
   "id": "afe73d00",
   "metadata": {},
   "source": [
    "# Chapter 6 - Lists"
   ]
  },
  {
   "cell_type": "markdown",
   "id": "56cad65e",
   "metadata": {},
   "source": [
    "## Notes"
   ]
  },
  {
   "cell_type": "markdown",
   "id": "90c426cb",
   "metadata": {},
   "source": [
    "The random module has a couple of functions that accept lists for arguments. The random.choice() function will return a randomly selected item from the list. Enter the following into the interactive shell:"
   ]
  },
  {
   "cell_type": "code",
   "execution_count": 1,
   "id": "9a3214b1",
   "metadata": {},
   "outputs": [
    {
     "name": "stdout",
     "output_type": "stream",
     "text": [
      "Moose\n",
      "Cat\n"
     ]
    },
    {
     "data": {
      "text/plain": [
       "'Dog'"
      ]
     },
     "execution_count": 1,
     "metadata": {},
     "output_type": "execute_result"
    }
   ],
   "source": [
    "import random\n",
    "pets = ['Dog', 'Cat', 'Moose']\n",
    "print(random.choice(pets))\n",
    "print(random.choice(pets))\n",
    "random.choice(pets)"
   ]
  },
  {
   "cell_type": "markdown",
   "id": "4a7c70ab",
   "metadata": {},
   "source": [
    "### Short-Circuiting Boolean Operators\n",
    "Boolean operators have a subtle behavior that is easy to miss. Recall that if either of the values combined by an and operator is False, the entire expression is False, and if either value combined by an or operator is True, the entire expression is True. If I presented you with the expression False and spam, it doesn’t matter whether the spam variable is True or False because the entire expression would be False either way. The same goes for True or spam; this evaluates to True no matter the value of spam.  \n",
    "\n",
    "Python (and many other programming languages) use this fact to optimize the code so that it runs a little faster by not examining the right-hand side of the Boolean operator at all. This shortcut is called short-circuiting. Most of the time, your program will behave the same way it would have if Python checked the entire expression (albeit a few microseconds faster). However, consider this short program, where we check whether the first item in a list is 'cat':  \n",
    "\n",
    "`spam = ['cat', 'dog']`  \n",
    "`if spam[0] == 'cat':`  \n",
    "`    print('A cat is the first item.')`  \n",
    "`else:`  \n",
    "    `print('The first item is not a cat.')`  \n",
    "\n",
    "As written, this program prints A cat is the first item. But if the list in spam is empty, the spam[0] code will cause an IndexError: list Index out of range error. To fix this, we’ll adjust the if statement’s condition to take advantage of short-circuiting:\n",
    "\n",
    "`spam = []`  \n",
    "`if len(spam) > 0 and spam[0] == 'cat':`  \n",
    "    `print('A cat is the first item.')`  \n",
    "`else:`  \n",
    "    `print('The first item is not a cat.')`  \n",
    "    \n",
    "This program never has an error, because if len(spam) > 0 is False (that is, the list in spam is empty), then short-circuiting the and operator means that Python doesn’t bother running the spam[0] == 'cat' code that would cause the IndexError error. Keep this short-circuiting behavior in mind when you write code that involves the and and or operators."
   ]
  },
  {
   "cell_type": "markdown",
   "id": "77cf0468",
   "metadata": {},
   "source": [
    "### The Matrix Screensaver\n",
    "In the hacker science fiction film The Matrix, computer monitors display streams of glowing green numbers, like digital rain pouring down a glass window. The numbers may be meaningless, but they look cool. Just for fun, we can create our own Matrix screensaver in Python. Enter the following code into a new file and save it as matrixscreensaver.py:"
   ]
  },
  {
   "cell_type": "code",
   "execution_count": 3,
   "id": "d7e3a6de",
   "metadata": {},
   "outputs": [
    {
     "name": "stdout",
     "output_type": "stream",
     "text": [
      "...0.................................................1....0.....00....\n",
      "...1.................................................1....0.....11....\n",
      "...1....................1..............1.............1....1.....11....\n",
      "...0.................1..0..............01.........1..1....1.....11....\n",
      "...0.................0..1..............00.......0.1..1....0.....01....\n",
      "...0.................1..1....0.........11.......0.1..1....0.....10....\n",
      "...0.................1.......0.........00.......1.1..0....0.....0.....\n",
      "...0.................1.......1.........11.......0.1..0....0.....0.....\n",
      "..............0......0.......0.........0..0.......1.......1.....1.....\n",
      ".........1....0......1.......1.........00.0.......1...................\n",
      ".........0....1......0.......0.........11.0.......1...................\n",
      ".........11...0......0.......1.........10.0.......1...................\n",
      ".........10...0......0.......0.........11.0.......1...................\n",
      ".....1.0..1...1......1.................11.0...1...1...................\n",
      ".....0.1..1...0......1.................00.1...0...1...................\n",
      ".0...0.0..0...1......0...0..............0.....0...1...................\n",
      ".0...1.1..1...1......0...1..............1.....1..........1.......0....\n",
      ".1...110..1...1..........1..............0.....0..........0.......0....\n",
      ".10..100..0...0..........0.......0......0.....01.........1.......0..0.\n",
      ".01..011..1...1.......0..1....0..1......1.....01.........1.......1..1.\n",
      ".00..111..0........0..1..0....0..0......0.....01.........1.......0..0.\n",
      ".01..01...1....1...0..1..1.0..1..1.............1.........1.......0..1.\n",
      ".00..11...0....1...1..1..1.1..1..1.1.........1...........0.......0..1.\n",
      "..0..00...0....0...0..0..0.0..1..0.1.......0.1.........1.1.......1..1.\n",
      "..1..11...0...10...0..0..1.0..0..1.1.......1.0.........1.1.......0..1.\n",
      "..0..11...1..001......1..0.1..1..1.1.......1.01........1.........1..0.\n",
      "..0..0....0..100......0..0.0..0..0.0.......0.10........0.........0..0.\n",
      "..1..........011......1..0.1..1..1.1.0.....0.00........0............0.\n",
      ".............101......1..0.0..0..1.0.0.....1.11.1......1............0.\n",
      ".............000......0..0.1.....0.0.0.....0..0.1......0............0.\n",
      ".............101......1..0.1.......0.0.....0..0.1.....00..............\n",
      ".............010......1............0.0.....1..0.1.....00..............\n",
      "..............10...................1.......10.0.1.....11.......0......\n",
      ".1............10...........................11.0.1.....10.1.....0......\n",
      ".1............10...........................10.1.1......1.1.....0......\n",
      ".0.......1.....0.0.........................10.0.0........1.0...0......\n",
      ".1.......0.....0.0................0.........11..1.....0..0.0...0......\n"
     ]
    },
    {
     "ename": "SystemExit",
     "evalue": "",
     "output_type": "error",
     "traceback": [
      "An exception has occurred, use %tb to see the full traceback.\n",
      "\u001b[0;31mSystemExit\u001b[0m\n"
     ]
    },
    {
     "name": "stderr",
     "output_type": "stream",
     "text": [
      "/home/abdurr08/.pyenv/versions/3.10.12/lib/python3.10/site-packages/IPython/core/interactiveshell.py:3587: UserWarning: To exit: use 'exit', 'quit', or Ctrl-D.\n",
      "  warn(\"To exit: use 'exit', 'quit', or Ctrl-D.\", stacklevel=1)\n"
     ]
    }
   ],
   "source": [
    "import random, sys, time\n",
    "\n",
    "WIDTH = 70  # The number of columns\n",
    "\n",
    "try:\n",
    "    # For each column, when the counter is 0, no stream is shown.\n",
    "    # Otherwise, it acts as a counter for how many times a 1 or 0\n",
    "    # should be displayed in that column.\n",
    "    columns = [0] * WIDTH\n",
    "    while True:\n",
    "        # Loop over each column:\n",
    "        for i in range(WIDTH):\n",
    "            if random.random() < 0.02:\n",
    "                # Restart a stream counter on this column.\n",
    "                # The stream length is between 4 and 14 characters long.\n",
    "                columns[i] = random.randint(4, 14)\n",
    "\n",
    "            # Print a character in this column:\n",
    "            if columns[i] == 0:\n",
    "                # Change this ' '' to '.' to see the empty spaces:\n",
    "                print('.', end='')\n",
    "            else:\n",
    "                # Print a 0 or 1:\n",
    "                print(random.choice([0, 1]), end='')\n",
    "                columns[i] -= 1  # Decrement the counter for this column.\n",
    "        print()  # Print a newline at the end of the row of columns.\n",
    "        time.sleep(0.1)  # Each row pauses for one tenth of a second.\n",
    "except KeyboardInterrupt:\n",
    "    sys.exit()  # When Ctrl-C is pressed, end the program."
   ]
  },
  {
   "cell_type": "markdown",
   "id": "9f9f06d2",
   "metadata": {},
   "source": [
    "## Practice Questions"
   ]
  },
  {
   "cell_type": "markdown",
   "id": "4b7f7dd5",
   "metadata": {},
   "source": [
    "1. What is []?  \n",
    "    **Answer:** it is a list"
   ]
  },
  {
   "cell_type": "markdown",
   "id": "8d03cc49",
   "metadata": {},
   "source": [
    "2. How would you assign the value 'hello' as the third value in a list stored in a variable named spam? (Assume spam contains [2, 4, 6, 8, 10].)  \n",
    "    **Answer:**"
   ]
  },
  {
   "cell_type": "code",
   "execution_count": 5,
   "id": "a62e5803",
   "metadata": {},
   "outputs": [
    {
     "data": {
      "text/plain": [
       "[2, 4, 'hello', 8, 10]"
      ]
     },
     "execution_count": 5,
     "metadata": {},
     "output_type": "execute_result"
    }
   ],
   "source": [
    "spam = [2, 4, 6, 8, 10]\n",
    "spam[2] = 'hello'\n",
    "spam"
   ]
  },
  {
   "cell_type": "markdown",
   "id": "b0fdff3d",
   "metadata": {},
   "source": [
    "For the following 3 questions assume spam contains the list ['a', 'b', 'c', 'd']\n",
    "\n",
    "3. What does `spam[int(int('3' * 2) // 11)]` evaluate to?  \n",
    "    **Answer:**  \n",
    "    `spam[int(int('3' * 2) // 11)]`  \n",
    "    ` = spam[int(int('33') // 11)]`  \n",
    "    ` = spam[int(33 // 11)]`  \n",
    "    ` = spam[int(3)]`  \n",
    "    ` = 'd'`"
   ]
  },
  {
   "cell_type": "code",
   "execution_count": null,
   "id": "1972f066",
   "metadata": {},
   "outputs": [
    {
     "data": {
      "text/plain": [
       "['a', 'b']"
      ]
     },
     "execution_count": 8,
     "metadata": {},
     "output_type": "execute_result"
    }
   ],
   "source": [
    "spam = ['a', 'b', 'c', 'd']\n",
    "spam[int(int('3' * 2) // 11)]"
   ]
  },
  {
   "cell_type": "markdown",
   "id": "35c70545",
   "metadata": {},
   "source": [
    "4. What does spam[-1] evaluate to?  \n",
    "    **Answer:** d"
   ]
  },
  {
   "cell_type": "markdown",
   "id": "6535a6cb",
   "metadata": {},
   "source": [
    "5. What does spam[:2] evaluate to?  \n",
    "    **Answer:** ['a', 'b']"
   ]
  },
  {
   "cell_type": "markdown",
   "id": "6fa51d44",
   "metadata": {},
   "source": [
    "For the following questions assume bacon contains the following list `[3.14, 'cat', 11, 'cat', True]`.  \n",
    "\n",
    "6. What does `bacon.index('cat')` evaluate to?  \n",
    "    **Answer:** 1"
   ]
  },
  {
   "cell_type": "markdown",
   "id": "988039aa",
   "metadata": {},
   "source": [
    "7. What does 'bacon.append(99)' make the list look like?  \n",
    "    **Answer:** `[3.14, 'cat', 11, 'cat', True, 99]`"
   ]
  },
  {
   "cell_type": "markdown",
   "id": "af52a7ce",
   "metadata": {},
   "source": [
    "8. What does `bacon.remove('cat')` make the list look like?  \n",
    "    **Answer:** `[3.14, 11, 'cat', True, 99]`"
   ]
  },
  {
   "cell_type": "markdown",
   "id": "8d627a6e",
   "metadata": {},
   "source": [
    "9. What are the operators for list concatenation and list replication?  \n",
    "    **Answer:**  \n",
    "    Concatenation: +  \n",
    "    Replication: *"
   ]
  },
  {
   "cell_type": "markdown",
   "id": "1aace93f",
   "metadata": {},
   "source": [
    "10. What is the difference between the append() and insert() list methods?  \n",
    "    **Answer:** Append always adds the value to the end of the list while insert allows you to insert the value at any index of the list."
   ]
  },
  {
   "cell_type": "markdown",
   "id": "3f51cbec",
   "metadata": {},
   "source": [
    "11. What are two ways to remove values from a list?  \n",
    "    **Answer:**  \n",
    "    `del spam[0]`  \n",
    "    `spam.remove('cat')`  \n",
    "    `spam.pop(0)`\n"
   ]
  },
  {
   "cell_type": "markdown",
   "id": "5a581abb",
   "metadata": {},
   "source": [
    "12. Name a few ways that list values are similar to string values.  \n",
    "    **Answer:** indexing, slicing, iterable, in and not in"
   ]
  },
  {
   "cell_type": "markdown",
   "id": "f19d0423",
   "metadata": {},
   "source": [
    "13. What is the difference between lists and tuples?  \n",
    "    **Answer:**  \n",
    "    1. tuples are declared with round brackets while lists are with square brackets\n",
    "    2. tuples are immutable while lists are mutable"
   ]
  },
  {
   "cell_type": "markdown",
   "id": "be21660b",
   "metadata": {},
   "source": [
    "14. How do you write the tuple value that has just the integer value 42 in it?  \n",
    "    **Answer:**"
   ]
  },
  {
   "cell_type": "code",
   "execution_count": 13,
   "id": "ce4fcaee",
   "metadata": {},
   "outputs": [
    {
     "data": {
      "text/plain": [
       "(42,)"
      ]
     },
     "execution_count": 13,
     "metadata": {},
     "output_type": "execute_result"
    }
   ],
   "source": [
    "tup = (42,)\n",
    "tup"
   ]
  },
  {
   "cell_type": "markdown",
   "id": "9fc75575",
   "metadata": {},
   "source": [
    "15. How can you get the tuple form of a list value? How can you get the list form of a tuple value?  \n",
    "    **Answer:**"
   ]
  },
  {
   "cell_type": "code",
   "execution_count": 14,
   "id": "c6b7f99d",
   "metadata": {},
   "outputs": [
    {
     "name": "stdout",
     "output_type": "stream",
     "text": [
      "(1, 2, 3)\n"
     ]
    },
    {
     "data": {
      "text/plain": [
       "[1, 2, 3]"
      ]
     },
     "execution_count": 14,
     "metadata": {},
     "output_type": "execute_result"
    }
   ],
   "source": [
    "print(tuple([1, 2, 3]))\n",
    "list((1, 2, 3))"
   ]
  },
  {
   "cell_type": "markdown",
   "id": "0fb39cff",
   "metadata": {},
   "source": [
    "16. Variables that “contain” list values don’t actually contain lists directly. What do they contain instead?  \n",
    "    **Answer:** They contain a reference to the list in memory."
   ]
  },
  {
   "cell_type": "markdown",
   "id": "90833ae2",
   "metadata": {},
   "source": [
    "17. What is the difference between copy.copy() and copy.deepcopy()?  \n",
    "    **Answer:** `copy.copy()` is used to create a copy of a list which results in a new list in memory copied from the original one with each of the 2 variables referring to 2 different lists in memory. `copy.deepcopy()` is used to create a copy of a list which itself contains lists."
   ]
  },
  {
   "cell_type": "markdown",
   "id": "d88badc9",
   "metadata": {},
   "source": [
    "## Practice Programs"
   ]
  },
  {
   "cell_type": "markdown",
   "id": "e23a78ab",
   "metadata": {},
   "source": [
    "### Comma Code\n",
    "Say you have a list value like this:  \n",
    "\n",
    "`spam = ['apples', 'bananas', 'tofu', 'cats']`  \n",
    "\n",
    "Write a function that takes a list value as an argument and returns a string with all the items separated by a comma and a space, with and inserted before the last item. For example, passing the previous spam list to the function would return 'apples, bananas, tofu, and cats'. But your function should be able to work with any list value passed to it. Be sure to test the case where an empty list [] is passed to your function."
   ]
  },
  {
   "cell_type": "code",
   "execution_count": 15,
   "id": "18fc40c9",
   "metadata": {},
   "outputs": [
    {
     "data": {
      "text/plain": [
       "'apples, bananas, tofu, and cats'"
      ]
     },
     "execution_count": 15,
     "metadata": {},
     "output_type": "execute_result"
    }
   ],
   "source": [
    "def print_list_comma_code(my_list):\n",
    "    if len(my_list) == 0:\n",
    "        return ''\n",
    "    elif len(my_list) == 1:\n",
    "        return my_list[0]\n",
    "    else:\n",
    "        return ', '.join(my_list[:-1]) + ', and ' + my_list[-1]\n",
    "    \n",
    "print_list_comma_code(['apples', 'bananas', 'tofu', 'cats'])"
   ]
  },
  {
   "cell_type": "markdown",
   "id": "5f920e96",
   "metadata": {},
   "source": [
    "### Coin Flip Streaks\n",
    "For this exercise, we’ll try doing an experiment. If you flip a coin 100 times and write down an H for each heads and a T for each tails, you’ll create a list that looks like T T T T H H H H T T. If you ask a human to make up 100 random coin flips, you’ll probably end up with alternating heads-tails results like H T H T H H T H T T—which looks random (to humans), but isn’t mathematically random. A human will almost never write down a streak of six heads or six tails in a row, even though it is highly likely to happen in truly random coin flips. Humans are predictably bad at being random.  \n",
    "\n",
    "Write a program to find out how often a streak of six heads or a streak of six tails comes up in a randomly generated list of 100 heads and tails. Your program should break up the experiment into two parts: the first part generates a list of 100 randomly selected 'H' and 'T' values, and the second part checks if there is a streak in it. Put all of this code in a loop that repeats the experiment 10,000 times so that you can find out what percentage of the coin flips contains a streak of six heads or six tails in a row. As a hint, the function call random.randint(0, 1) will return a 0 value 50 percent of the time and a 1 value the other 50 percent of the time.  \n",
    "\n",
    "You can start with the following template:  \n",
    "\n",
    "`import random`  \n",
    "`number_of_streaks = 0`  \n",
    "`for experiment_number in range(10000):  # Run 100,000 experiments total.`  \n",
    "    `# Code that creates a list of 100 'heads' or 'tails' values`  \n",
    "    `# Code that checks if there is a streak of 6 heads or tails in a row`  \n",
    "\n",
    "`print('Chance of streak: %s%%' % (number_of_streaks / 100))`  \n",
    "\n",
    "Of course, this is only an estimate, but 10,000 is a decent sample size. Some knowledge of mathematics could give you the exact answer and save you the trouble of writing a program, but programmers are notoriously bad at math.  \n",
    "\n",
    "To create a list, use a for loop that appends a randomly selected 'H' or 'T' to a list 100 times. To determine if there is a streak of six heads or six tails, create a slice like some_list[i:i + 6] (which contains the six items starting at index i) and then compare it to the list values ['H', 'H', 'H', 'H', 'H', 'H'] and ['T', 'T', 'T', 'T', 'T', 'T']."
   ]
  },
  {
   "cell_type": "code",
   "execution_count": null,
   "id": "df161e4e",
   "metadata": {},
   "outputs": [],
   "source": []
  },
  {
   "cell_type": "code",
   "execution_count": 18,
   "id": "56c4427a",
   "metadata": {},
   "outputs": [
    {
     "name": "stdout",
     "output_type": "stream",
     "text": [
      "Chance of streak: 0.02930280000001118%\n"
     ]
    }
   ],
   "source": [
    "import random\n",
    "HEADS_STREAK = ['H', 'H', 'H', 'H', 'H', 'H']\n",
    "TAILS_STREAK = ['T', 'T', 'T', 'T', 'T', 'T']\n",
    "\n",
    "number_of_streaks = 0\n",
    "\n",
    "\n",
    "def flip_coins(n=100):\n",
    "    coin_flips = []\n",
    "    i = 0\n",
    "    while i < n:\n",
    "        result = 'H' if random.randint(0, 1) == 0 else 'T'\n",
    "        coin_flips.append(result)\n",
    "        i += 1\n",
    "\n",
    "    return coin_flips\n",
    "\n",
    "\n",
    "def check_streak(coin_flips: list, n=6):\n",
    "    global number_of_streaks\n",
    "    if n > len(coin_flips):\n",
    "        raise IndexError('The number of flips has to be greater than the streak number being checked.')\n",
    "    else:\n",
    "        for i in range(len(coin_flips)-n):\n",
    "            if coin_flips[i:i + 6] == HEADS_STREAK or coin_flips[i:i + 6] == TAILS_STREAK:\n",
    "                number_of_streaks += 1\n",
    "\n",
    "avg_sum = 0.0\n",
    "\n",
    "for experiment_number in range(100000):  # Run 100,000 experiments total.\n",
    "    # Code that creates a list of 100 'heads' or 'tails' values\n",
    "    coin_flips = flip_coins()\n",
    "\n",
    "    # Code that checks if there is a streak of 6 heads or tails in a row\n",
    "    check_streak(coin_flips)\n",
    "    avg_sum += number_of_streaks / 100\n",
    "    number_of_streaks = 0\n",
    "\n",
    "print('Chance of streak: %s%%' % (avg_sum / 100000))"
   ]
  },
  {
   "cell_type": "code",
   "execution_count": 20,
   "id": "478d8b58",
   "metadata": {},
   "outputs": [
    {
     "name": "stdout",
     "output_type": "stream",
     "text": [
      "Chance of streak: 0.015123899999989119%\n"
     ]
    }
   ],
   "source": [
    "import random\n",
    "HEADS_STREAK = ['H', 'H', 'H', 'H', 'H', 'H']\n",
    "TAILS_STREAK = ['T', 'T', 'T', 'T', 'T', 'T']\n",
    "\n",
    "number_of_streaks = 0\n",
    "\n",
    "\n",
    "def flip_coins(n=100):\n",
    "    coin_flips = []\n",
    "    i = 0\n",
    "    while i < n:\n",
    "        result = 'H' if random.randint(0, 1) == 0 else 'T'\n",
    "        coin_flips.append(result)\n",
    "        i += 1\n",
    "\n",
    "    return coin_flips\n",
    "\n",
    "\n",
    "def check_streak(coin_flips: list, n=6):\n",
    "    global number_of_streaks\n",
    "    if n > len(coin_flips):\n",
    "        raise IndexError('The number of flips has to be greater than the streak number being checked.')\n",
    "    else:\n",
    "        i = 0\n",
    "        while i < len(coin_flips) - n:\n",
    "            if coin_flips[i:i + 6] == HEADS_STREAK or coin_flips[i:i + 6] == TAILS_STREAK:\n",
    "                number_of_streaks += 1\n",
    "                i += 6\n",
    "            else:\n",
    "                i += 1\n",
    "\n",
    "\n",
    "avg_sum = 0.0\n",
    "\n",
    "for experiment_number in range(100000):  # Run 100,000 experiments total.\n",
    "    # Code that creates a list of 100 'heads' or 'tails' values\n",
    "    coin_flips = flip_coins()\n",
    "\n",
    "    # Code that checks if there is a streak of 6 heads or tails in a row\n",
    "    check_streak(coin_flips)\n",
    "    avg_sum += number_of_streaks / 100\n",
    "    number_of_streaks = 0\n",
    "\n",
    "print('Chance of streak: %s%%' % (avg_sum / 100000))"
   ]
  }
 ],
 "metadata": {
  "kernelspec": {
   "display_name": "3.10.12",
   "language": "python",
   "name": "python3"
  },
  "language_info": {
   "codemirror_mode": {
    "name": "ipython",
    "version": 3
   },
   "file_extension": ".py",
   "mimetype": "text/x-python",
   "name": "python",
   "nbconvert_exporter": "python",
   "pygments_lexer": "ipython3",
   "version": "3.10.12"
  }
 },
 "nbformat": 4,
 "nbformat_minor": 5
}
