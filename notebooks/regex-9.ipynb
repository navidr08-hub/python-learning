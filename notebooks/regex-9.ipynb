{
 "cells": [
  {
   "cell_type": "markdown",
   "id": "afe73d00",
   "metadata": {},
   "source": [
    "# Chapter 9 - Text Pattern Matching with Regex"
   ]
  },
  {
   "cell_type": "markdown",
   "id": "56cad65e",
   "metadata": {},
   "source": [
    "## Notes"
   ]
  },
  {
   "cell_type": "markdown",
   "id": "4f1eefe9",
   "metadata": {},
   "source": [
    "### A REVIEW OF REGEX SYMBOLS\n",
    "\n",
    "This chapter has covered a lot of notation so far, so here’s a quick review of what you’ve learned about basic regular expression syntax:  \n",
    "\n",
    "The ? matches zero or one instance of the preceding qualifier.  \n",
    "The * matches zero or more instances of the preceding qualifier.  \n",
    "The + matches one or more instances of the preceding qualifier.  \n",
    "The {n} matches exactly n instances of the preceding qualifier.  \n",
    "The {n,} matches n or more instances of the preceding qualifier.  \n",
    "The {,m} matches 0 to m instances of the preceding qualifier.  \n",
    "The {n,m} matches at least n and at most m instances of the preceding qualifier.  \n",
    "{n,m}? or *? or +? performs a non-greedy match of the preceding qualifier.  \n",
    "^spam means the string must begin with spam.  \n",
    "spam$ means the string must end with spam.  \n",
    "The . matches any character, except newline characters.  \n",
    "The \\d, \\w, and \\s match a digit, word, or space character, respectively.  \n",
    "The \\D, \\W, and \\S match anything except a digit, word, or space character, respectively. [abc] matches any character between the square brackets (such as a, b, or c).  \n",
    "[^abc] matches any character that isn’t between the square brackets.  \n",
    "(Hello) groups 'Hello' together as a single qualifier.  "
   ]
  },
  {
   "cell_type": "markdown",
   "id": "4b8fb566",
   "metadata": {},
   "source": [
    "### Project 3: Extract Contact Information from Large Documents\n",
    "\n",
    "Say you’ve been given the boring task of finding every phone number and email address in a long web page or document. If you manually scroll through the page, you might end up searching for a long time. But if you had a program that could search the text in your clipboard for phone numbers and email addresses, you could simply press CTRL-A to select all the text, press CTRL-C to copy it to the clipboard, and then run your program. It could replace the text on the clipboard with just the phone numbers and email addresses it finds.  \n",
    "\n",
    "Whenever you’re tackling a new project, it can be tempting to dive right into writing code. But more often than not, it’s best to take a step back and consider the bigger picture. I recommend first drawing up a high-level plan for what your program needs to do. Don’t think about the actual code yet; you can worry about that later. Right now, stick to broad strokes.  \n",
    "\n",
    "For example, your phone number and email address extractor will need to do the following:  \n",
    "\n",
    "Get the text from the clipboard.  \n",
    "Find all phone numbers and email addresses in the text.  \n",
    "Paste them onto the clipboard.  \n",
    "Now you can start thinking about how this might work in code. The code will need to do the following:  \n",
    "\n",
    "Use the pyperclip module to copy and paste strings.  \n",
    "Create two regexes, one for matching phone numbers and one for matching email addresses.  \n",
    "Find all matches (not just the first match) of both regexes.  \n",
    "Neatly format the matched strings into a single string to paste.  \n",
    "Display some kind of message if no matches were found in the text.  \n",
    "This list is like a road map for the project. As you write the code, you can focus on each of these steps separately, and each step should seem fairly manageable. They’re also expressed in terms of things you already know how to do in Python."
   ]
  },
  {
   "cell_type": "markdown",
   "id": "3cf35d92",
   "metadata": {},
   "source": [
    "#### Step 1: Create a Regex for Phone Numbers\n",
    "First, you have to create a regular expression to search for phone numbers. Create a new file, enter the following, and save it as phoneAndEmail.py:"
   ]
  },
  {
   "cell_type": "code",
   "execution_count": null,
   "id": "85e1e702",
   "metadata": {},
   "outputs": [],
   "source": [
    "# import pyperclip, re\n",
    "\n",
    "# phone_re = re.compile(r'''(\n",
    "#     (\\d{3}|\\(\\d{3}\\))?  # Area code\n",
    "#     (\\s|-|\\.)?  # Separator\n",
    "#     (\\d{3})  # First three digits\n",
    "#     (\\s|-|\\.)  # Separator\n",
    "#     (\\d{4})  # Last four digits\n",
    "#     (\\s*(ext|x|ext\\.)\\s*(\\d{2,5}))?  # Extension\n",
    "#     )''', re.VERBOSE)\n",
    "\n",
    "# TODO: Create email regex.\n",
    "\n",
    "# TODO: Find matches in clipboard text.\n",
    "\n",
    "# TODO: Copy results to the clipboard."
   ]
  },
  {
   "cell_type": "markdown",
   "id": "a675f30e",
   "metadata": {},
   "source": [
    "The TODO comments are just a skeleton for the program. They’ll be replaced as you write the actual code.\n",
    "\n",
    "The phone number begins with an optional area code, so we follow the area code group with a question mark. Since the area code can be just three digits (that is, `\\d{3}`) or three digits within parentheses (that is, `\\(\\d{3}\\))`, you should have a pipe joining those parts. You can add the regex comment # Area code to this part of the multiline string to help you remember what `(\\d{3}|\\(\\d{3}\\))?` is supposed to match.  \n",
    "\n",
    "The phone number separator character can be an optional space (\\s), hyphen (-), or period (.), so we should also join these parts using pipes. The next few parts of the regular expression are straightforward: three digits, followed by another separator, followed by four digits. The last part is an optional extension made up of any number of spaces followed by ext, x, or ext., followed by two to five digits.  "
   ]
  },
  {
   "cell_type": "markdown",
   "id": "0fb6180a",
   "metadata": {},
   "source": [
    "#### Step 2: Create a Regex for Email Addresses\n",
    "You will also need a regular expression that can match email addresses. Make your program look like the following:"
   ]
  },
  {
   "cell_type": "code",
   "execution_count": null,
   "id": "3c185881",
   "metadata": {},
   "outputs": [],
   "source": [
    "# import pyperclip, re\n",
    "\n",
    "# phone_re = re.compile(r'''(\n",
    "# --snip--\n",
    "\n",
    "# # Create email regex.\n",
    "# email_re = re.compile(r'''(\n",
    "#   ❶ [a-zA-Z0-9._%+-]+  # Username\n",
    "#   ❷ @  # @ symbol\n",
    "#   ❸ [a-zA-Z0-9.-]+  # Domain name\n",
    "#     (\\.[a-zA-Z]{2,4})  # Dot-something\n",
    "#     )''', re.VERBOSE)\n",
    "\n",
    "# TODO: Find matches in clipboard text.\n",
    "\n",
    "# TODO: Copy results to the clipboard."
   ]
  },
  {
   "cell_type": "markdown",
   "id": "f178272f",
   "metadata": {},
   "source": [
    "The username part of the email address ❶ consists of one or more characters that can be any of the following: lowercase and uppercase letters, numbers, a dot, an underscore, a percent sign, a plus sign, or a hyphen. You can put all of these into a character class: [a-zA-Z0-9._%+-].\n",
    "\n",
    "The domain and username are separated by an @ symbol ❷. The domain name ❸ has a slightly less permissive character class, with only letters, numbers, periods, and hyphens: [a-zA-Z0-9.-]. Last is the “dot-com” part (technically known as the top-level domain), which can really be dot-anything.\n",
    "\n",
    "The format for email addresses has a lot of weird rules. This regular expression won’t match every possible valid email address, but it will match almost any typical email address you’ll encounter."
   ]
  },
  {
   "cell_type": "markdown",
   "id": "a066a617",
   "metadata": {},
   "source": [
    "#### Step 3: Find All Matches in the Clipboard Text\n",
    "Now that you’ve specified the regular expressions for phone numbers and email addresses, you can let Python’s re module do the hard work of finding all the matches on the clipboard. The pyperclip.paste() function will get a string value of the text on the clipboard, and the findall() regex method will return a list of tuples.  \n",
    "\n",
    "Make your program look like the following:"
   ]
  },
  {
   "cell_type": "code",
   "execution_count": null,
   "id": "19b67868",
   "metadata": {},
   "outputs": [],
   "source": [
    "# import pyperclip, re\n",
    "\n",
    "# phone_re = re.compile(r'''(\n",
    "# --snip--\n",
    "\n",
    "# Find matches in clipboard text.\n",
    "# text = str(pyperclip.paste())\n",
    "\n",
    "# ❶ matches = []\n",
    "# ❷ for groups in phone_re.findall(text):\n",
    "#     phone_num = '-'.join([groups[1], groups[3], groups[5]])\n",
    "#     if groups[6] != '':\n",
    "#         phone_num += ' x' + groups[6]\n",
    "#     matches.append(phone_num)\n",
    "# ❸ for groups in email_re.findall(text):\n",
    "#     matches.append(groups)\n",
    "\n",
    "# TODO: Copy results to the clipboard. "
   ]
  },
  {
   "cell_type": "markdown",
   "id": "64ae2f28",
   "metadata": {},
   "source": [
    "There is one tuple for each match, and each tuple contains strings for each group in the regular expression. Remember that group 0 matches the entire regular expression, so the group at index 0 of the tuple is the one you are interested in.  \n",
    "\n",
    "As you can see at ❶, you’ll store the matches in a list variable named matches. It starts off as an empty list and a couple of for loops. For the email addresses, you append group 0 of each match ❸. For the matched phone numbers, you don’t want to just append group 0. While the program detects phone numbers in several formats, you want the phone number appended to be in a single, standard format. The phone_num variable contains a string built from groups 1, 3, 5, and 6 of the matched text ❷. (These groups are the area code, first three digits, last four digits, and extension.)"
   ]
  },
  {
   "cell_type": "markdown",
   "id": "ad332503",
   "metadata": {},
   "source": [
    "#### Step 4: Join the Matches into a String\n",
    "Now that you have the email addresses and phone numbers as a list of strings in matches, you want to put them on the clipboard. The pyperclip.copy() function takes only a single string value, not a list of strings, so you must call the join() method on matches.\n",
    "\n",
    "Make your program look like the following:"
   ]
  },
  {
   "cell_type": "code",
   "execution_count": null,
   "id": "adff8200",
   "metadata": {},
   "outputs": [],
   "source": [
    "# import pyperclip, re\n",
    "\n",
    "# phone_re = re.compile(r'''(\n",
    "# --snip--\n",
    "# for groups in email_re.findall(text):\n",
    "#     matches.append(groups[0])\n",
    "\n",
    "# # Copy results to the clipboard.\n",
    "# if len(matches) > 0:\n",
    "#     pyperclip.copy('\\n'.join(matches))\n",
    "#     print('Copied to clipboard:')\n",
    "#     print('\\n'.join(matches))\n",
    "# else:\n",
    "#     print('No phone numbers or email addresses found.')"
   ]
  },
  {
   "cell_type": "markdown",
   "id": "1c847ce2",
   "metadata": {},
   "source": [
    "To make it easier to see that the program is working, we also print any matches you find to the terminal window. If no phone numbers or email addresses were found, the program tells the user this.\n",
    "\n",
    "To test your program, open your web browser to the No Starch Press contact page at https://nostarch.com/contactus press CTRL-A to select all the text on the page, and press CTRL-C to copy it to the clipboard. When you run this program, the output should look something like this:"
   ]
  },
  {
   "cell_type": "markdown",
   "id": "e687cef4",
   "metadata": {},
   "source": [
    "```Copied to clipboard:\n",
    "800-555-7240\n",
    "415-555-9900\n",
    "415-555-9950\n",
    "info@nostarch.com\n",
    "media@nostarch.com\n",
    "academic@nostarch.com\n",
    "info@nostarch.com"
   ]
  },
  {
   "cell_type": "markdown",
   "id": "7ee837e1",
   "metadata": {},
   "source": [
    "You can modify this script to search for mailing addresses, social media handles, and many other types of text patterns."
   ]
  },
  {
   "cell_type": "markdown",
   "id": "9f9f06d2",
   "metadata": {},
   "source": [
    "## Practice Questions"
   ]
  },
  {
   "cell_type": "markdown",
   "id": "4b7f7dd5",
   "metadata": {},
   "source": [
    "1. What is the function that returns Regex objects?  \n",
    "    **Answer:** re.compile().search()"
   ]
  },
  {
   "cell_type": "markdown",
   "id": "8d03cc49",
   "metadata": {},
   "source": [
    "2. Why are raw strings often used when creating Regex objects?  \n",
    "    **Answer:** Because there are often backslashes in the raw strings which makes it likely to have invalid string literals"
   ]
  },
  {
   "cell_type": "markdown",
   "id": "b0fdff3d",
   "metadata": {},
   "source": [
    "3. What does the search() method return?  \n",
    "    **Answer:** It returns a match object"
   ]
  },
  {
   "cell_type": "markdown",
   "id": "35c70545",
   "metadata": {},
   "source": [
    "4. How do you get the actual strings that match the pattern from a Match object?  \n",
    "    **Answer:** match.group()"
   ]
  },
  {
   "cell_type": "markdown",
   "id": "6535a6cb",
   "metadata": {},
   "source": [
    "5. In the regex created from r'(\\d\\d\\d)-(\\d\\d\\d-\\d\\d\\d\\d)', what does group 0 cover? Group 1? Group 2?  \n",
    "    **Answer:** Group 0 covers the whole string that matches combining both groups, while group1 matches covers the area code, and group2 covers the phone number."
   ]
  },
  {
   "cell_type": "markdown",
   "id": "6fa51d44",
   "metadata": {},
   "source": [
    "6. Parentheses and periods have specific meanings in regular expression syntax. How would you specify that you want a regex to match actual parentheses and period characters?  \n",
    "    **Answer:** With a backslash character (escape character)."
   ]
  },
  {
   "cell_type": "markdown",
   "id": "be21660b",
   "metadata": {},
   "source": [
    "7. The `findall()` method returns a list of strings or a list of tuples of strings. What makes it return one or the other?  \n",
    "    **Answer:** If a group is defined in the regex raw string and a match occurs then `findall()` will return a list of tuples, Otherwise a list of strings."
   ]
  },
  {
   "cell_type": "markdown",
   "id": "9fc75575",
   "metadata": {},
   "source": [
    "8. What does the | character signify in regular expressions?  \n",
    "    **Answer:** *bitwise or*"
   ]
  },
  {
   "cell_type": "markdown",
   "id": "8094f70f",
   "metadata": {},
   "source": [
    "9. What two things does the ? character signify in regular expressions?  \n",
    "    **Answer:** `? {0, 1}` (optional)"
   ]
  },
  {
   "cell_type": "markdown",
   "id": "c28d349a",
   "metadata": {},
   "source": [
    "10. What is the difference between the + and * characters in regular expressions?  \n",
    "    **Answer:** `+ {1, }`, `* {0, }`"
   ]
  },
  {
   "cell_type": "markdown",
   "id": "96aa26c5",
   "metadata": {},
   "source": [
    "11. What is the difference between {3} and {3,5} in regular expressions?  \n",
    "    **Answer:** Quantifier matching only 3 and Quantifier matching anything between 3 and 5 occurences."
   ]
  },
  {
   "cell_type": "markdown",
   "id": "97a0c407",
   "metadata": {},
   "source": [
    "12. What do the \\d, \\w, and \\s shorthand character classes signify in regular expressions?  \n",
    "    **Answer:** `\\d = [0-9]`, `\\w = Any letter, numeric digit, or the underscore character. (Think of this as matching “word” characters.)`, `\\s = Any space, tab, or newline character. (Think of this as matching “space” characters.)`"
   ]
  },
  {
   "cell_type": "markdown",
   "id": "75592cb2",
   "metadata": {},
   "source": [
    "13. What do the \\D, \\W, and \\S shorthand character classes signify in regular expressions?  \n",
    "    **Answer:** It is the same as a boolean `not` operator for `\\d`, `\\w`, and `\\s` respectively. "
   ]
  },
  {
   "cell_type": "markdown",
   "id": "79157f8d",
   "metadata": {},
   "source": [
    "14. What is the difference between the .* and .*? regular expressions?  \n",
    "    **Answer:** `.* = non-greedy mode`, `.*? greedy mode`, greedy mode takes a longest match of something if there are multiple matches, while non-greedy takes the shortest."
   ]
  },
  {
   "cell_type": "markdown",
   "id": "daaa2783",
   "metadata": {},
   "source": [
    "15. What is the character class syntax to match all numbers and lowercase letters?  \n",
    "    **Answer:** `[0-9][a-z]`"
   ]
  },
  {
   "cell_type": "markdown",
   "id": "5e2d24da",
   "metadata": {},
   "source": [
    "16. How do you make a regular expression case-insensitive?  \n",
    "    **Answer:** Pass `re.IGNORECASE` as the second argument to `re.compile()`."
   ]
  },
  {
   "cell_type": "markdown",
   "id": "881de4fd",
   "metadata": {},
   "source": [
    "17. What does the . character normally match? What does it match if re.DOTALL is passed as the second argument to re.compile()?  \n",
    "    **Answer:** It normally matches everything except a newline character. If `re.DOTALL` is passed as the second argument it includes the newline character in its search."
   ]
  },
  {
   "cell_type": "markdown",
   "id": "e1001fd2",
   "metadata": {},
   "source": [
    "18. If num_re = re.compile(r'\\d+'), what will num_re.sub('X', '12 drummers, 11 pipers, five rings, 3 hens') return?  \n",
    "    **Answer:** `'X drummers, 11 pipers, five rings, 3 hens'`"
   ]
  },
  {
   "cell_type": "markdown",
   "id": "d1932ad2",
   "metadata": {},
   "source": [
    "19. What does passing re.VERBOSE as the second argument to re.compile() allow you to do?  \n",
    "    **Answer:** Allows you to have comments, in your raw string."
   ]
  },
  {
   "cell_type": "markdown",
   "id": "d88badc9",
   "metadata": {},
   "source": [
    "## Practice Programs"
   ]
  },
  {
   "cell_type": "markdown",
   "id": "ff787df9",
   "metadata": {},
   "source": [
    "### Strong Password Detection\n",
    "Write a function that uses regular expressions to make sure the password string it is passed is strong. A strong password has several rules: it must be at least eight characters long, contain both uppercase and lowercase characters, and have at least one digit. Hint: It’s easier to test the string against multiple regex patterns than to try to come up with a single regex that can validate all the rules."
   ]
  },
  {
   "cell_type": "code",
   "execution_count": 18,
   "id": "ad3ffb62",
   "metadata": {},
   "outputs": [
    {
     "name": "stdout",
     "output_type": "stream",
     "text": [
      "False\n"
     ]
    }
   ],
   "source": [
    "import re\n",
    "\n",
    "def is_strong_password(password: str):\n",
    "    # 1. Must be at least 8 characters long\n",
    "    # 2. Must contain both uppercase and lowercase characters\n",
    "    # 3. Must have at least 1 digit\n",
    "    pass_len_re = re.compile(r'.{8,}')\n",
    "    if not pass_len_re.search(password):\n",
    "        return False\n",
    "    \n",
    "    lower_re = re.compile(r'[a-z]')\n",
    "    if not lower_re.search(password):\n",
    "        return False\n",
    "    \n",
    "    upper_re = re.compile(r'[A-Z]')\n",
    "    if not upper_re.search(password):\n",
    "        return False\n",
    "    \n",
    "    digit_re = re.compile(r'\\d')\n",
    "    if  not digit_re.search(password):\n",
    "        return False\n",
    "    \n",
    "    return True\n",
    "\n",
    "\n",
    "print(is_strong_password('aW1'))"
   ]
  },
  {
   "cell_type": "markdown",
   "id": "dc343819",
   "metadata": {},
   "source": [
    "### Regex Version of the strip() Method\n",
    "Write a function that takes a string and does the same thing as the strip() string method. If no other arguments are passed other than the string to strip, then the function should remove whitespace characters from the beginning and end of the string. Otherwise, the function should remove the characters specified in the second argument to the function."
   ]
  },
  {
   "cell_type": "code",
   "execution_count": 26,
   "id": "6bbd48ce",
   "metadata": {},
   "outputs": [
    {
     "data": {
      "text/plain": [
       "' Ho '"
      ]
     },
     "execution_count": 26,
     "metadata": {},
     "output_type": "execute_result"
    }
   ],
   "source": [
    "def re_strip(string: str, chars: str = None):\n",
    "    if not chars:\n",
    "        space_re = re.compile(r'\\s+')\n",
    "        return space_re.sub('', string)\n",
    "    else:\n",
    "        remove_re = re.compile(f\"[{re.escape(chars)}]\")\n",
    "        return remove_re.sub(\"\", string)\n",
    "\n",
    "\n",
    "re_strip(\" Hello \", \"el\")"
   ]
  }
 ],
 "metadata": {
  "kernelspec": {
   "display_name": "3.10.12",
   "language": "python",
   "name": "python3"
  },
  "language_info": {
   "codemirror_mode": {
    "name": "ipython",
    "version": 3
   },
   "file_extension": ".py",
   "mimetype": "text/x-python",
   "name": "python",
   "nbconvert_exporter": "python",
   "pygments_lexer": "ipython3",
   "version": "3.10.12"
  }
 },
 "nbformat": 4,
 "nbformat_minor": 5
}
