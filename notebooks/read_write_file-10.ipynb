{
 "cells": [
  {
   "cell_type": "markdown",
   "id": "afe73d00",
   "metadata": {},
   "source": [
    "# Chapter 10 - Reading and Writing to Files"
   ]
  },
  {
   "cell_type": "markdown",
   "id": "56cad65e",
   "metadata": {},
   "source": [
    "## Notes"
   ]
  },
  {
   "cell_type": "markdown",
   "id": "9f9f06d2",
   "metadata": {},
   "source": [
    "## Practice Questions"
   ]
  },
  {
   "cell_type": "markdown",
   "id": "4b7f7dd5",
   "metadata": {},
   "source": [
    "1. What is a relative path relative to?  \n",
    "    **Answer:** The current working directory"
   ]
  },
  {
   "cell_type": "markdown",
   "id": "8d03cc49",
   "metadata": {},
   "source": [
    "2. What does an absolute path start with?  \n",
    "    **Answer:** Anchor"
   ]
  },
  {
   "cell_type": "markdown",
   "id": "b0fdff3d",
   "metadata": {},
   "source": [
    "3. What does Path('C:/Users') / 'Al' evaluate to on Windows?  \n",
    "    **Answer:** `Path('C:/Users/Al')`"
   ]
  },
  {
   "cell_type": "markdown",
   "id": "35c70545",
   "metadata": {},
   "source": [
    "4. What does 'C:/Users' / 'Al' evaluate to on Windows?  \n",
    "    **Answer:** TypeError invalid operand"
   ]
  },
  {
   "cell_type": "markdown",
   "id": "6535a6cb",
   "metadata": {},
   "source": [
    "5. What do the os.getcwd() and os.chdir() functions do?  \n",
    "    **Answer:** `os.getcwd()` gets the current working directory and `os.chdir` changes the current working directory."
   ]
  },
  {
   "cell_type": "markdown",
   "id": "6fa51d44",
   "metadata": {},
   "source": [
    "6. What are the . and .. folders?  \n",
    "    **Answer:** `.` is the current folder, while `..` is the parent folder."
   ]
  },
  {
   "cell_type": "markdown",
   "id": "be21660b",
   "metadata": {},
   "source": [
    "7. In C:\\bacon\\eggs\\spam.txt, which part is the directory name, and which part is the base name?  \n",
    "    **Answer:** `eggs` is the directory name, and `spam.txt` is the base name"
   ]
  },
  {
   "cell_type": "markdown",
   "id": "9fc75575",
   "metadata": {},
   "source": [
    "8. What three “mode” arguments can you pass to the open() function for plaintext files?  \n",
    "    **Answer:** read, write, append."
   ]
  },
  {
   "cell_type": "markdown",
   "id": "8094f70f",
   "metadata": {},
   "source": [
    "9. What happens if an existing file is opened in write mode?  \n",
    "    **Answer:** Everything inside the file will be overwritten."
   ]
  },
  {
   "cell_type": "markdown",
   "id": "c28d349a",
   "metadata": {},
   "source": [
    "10. What is the difference between the read() and readlines() methods?  \n",
    "    **Answer:** `read()` returns a string of the all the content in the plaintext file, while `readlines()` returns a list of the content where each item is a line in the file."
   ]
  },
  {
   "cell_type": "markdown",
   "id": "96aa26c5",
   "metadata": {},
   "source": [
    "11. What data structure does a shelf value resemble?  \n",
    "    **Answer:** dict"
   ]
  },
  {
   "cell_type": "markdown",
   "id": "d88badc9",
   "metadata": {},
   "source": [
    "## Practice Programs"
   ]
  },
  {
   "cell_type": "markdown",
   "id": "634b0fb7",
   "metadata": {},
   "source": [
    "### Mad Libs\n",
    "Create a Mad Libs program that reads in text files and lets the user add their own text anywhere the word ADJECTIVE, NOUN, ADVERB, or VERB appears in the text file. For example, a text file may look like this:  \n",
    "\n",
    "`The ADJECTIVE panda walked to the NOUN and then VERB. A nearby NOUN was unaffected by these events.` The program would find these occurrences and prompt the user to replace them:  \n",
    "\n",
    "`Enter an adjective:`  \n",
    "`silly`  \n",
    "`Enter a noun:`  \n",
    "`chandelier`  \n",
    "`Enter a verb:`  \n",
    "`screamed`  \n",
    "`Enter a noun:`  \n",
    "`pickup truck`  \n",
    "`It would then create the following text file:`  \n",
    "\n",
    "The silly panda walked to the chandelier and then screamed. A nearby pickup truck was unaffected by these events. The program should print the results to the screen in addition to saving them to a new text file."
   ]
  },
  {
   "cell_type": "code",
   "execution_count": null,
   "id": "f64fc8fd",
   "metadata": {},
   "outputs": [],
   "source": [
    "def mad_libs(file: str):\n",
    "    text = \"\"\n",
    "    try:\n",
    "        with open(file, 'r') as filereader:\n",
    "            text = filereader.read()\n",
    "            print(text)\n",
    "\n",
    "    except FileNotFoundError:\n",
    "        print(\"File was not found please enter a valid filepath\")\n",
    "\n",
    "    for i in range(text.count('ADJECTIVE')):\n",
    "        print(f\"\\nEnter adjective {i+1}:\")\n",
    "        text = text.replace('ADJECTIVE', input(), 1)\n",
    "\n",
    "    for i in range(text.count('NOUN')):\n",
    "        print(f\"Enter noun {i+1}:\")\n",
    "        text = text.replace('NOUN', input(), 1)\n",
    "    \n",
    "    for i in range(text.count('ADVERB')):\n",
    "        print(f\"Enter adverb {i+1}:\")\n",
    "        text = text.replace('ADVERB', input(), 1)\n",
    "\n",
    "    for i in range(text.count('VERB')):\n",
    "        print(f\"Enter verb {i+1}:\")\n",
    "        text = text.replace('VERB', input(), 1)\n",
    "\n",
    "\n",
    "    print(text)\n",
    "\n",
    "\n",
    "mad_libs(\"./mad_lib.txt\")"
   ]
  },
  {
   "cell_type": "markdown",
   "id": "da27c896",
   "metadata": {},
   "source": [
    "### Regex Search\n",
    "Write a program that opens all .txt files in a folder and searches for any line that matches a user-supplied regular expression, then prints the results to the screen."
   ]
  },
  {
   "cell_type": "code",
   "execution_count": 11,
   "id": "2854971b",
   "metadata": {},
   "outputs": [],
   "source": [
    "import re\n",
    "import glob\n",
    "import os\n",
    "\n",
    "def search_in_files(folder, pattern):\n",
    "    regex = re.compile(pattern)\n",
    "    \n",
    "    # Get all .txt files in the folder\n",
    "    files = glob.glob(os.path.join(folder, \"*.txt\"))\n",
    "    \n",
    "    if not files:\n",
    "        print(\"No .txt files found in the folder.\")\n",
    "        return\n",
    "    \n",
    "    for file in files:\n",
    "        with open(file, \"r\", encoding=\"utf-8\") as f:\n",
    "            for lineno, line in enumerate(f, start=1):\n",
    "                if regex.search(line):\n",
    "                    print(f\"{file} (line {lineno}): {line.strip()}\")\n",
    "\n",
    "if __name__ == \"__main__\":\n",
    "    folder = input(\"Enter folder path: \").strip()\n",
    "    pattern = input(\"Enter regex pattern to search for: \").strip()\n",
    "    search_in_files(folder, pattern)\n"
   ]
  }
 ],
 "metadata": {
  "kernelspec": {
   "display_name": "3.10.12",
   "language": "python",
   "name": "python3"
  },
  "language_info": {
   "codemirror_mode": {
    "name": "ipython",
    "version": 3
   },
   "file_extension": ".py",
   "mimetype": "text/x-python",
   "name": "python",
   "nbconvert_exporter": "python",
   "pygments_lexer": "ipython3",
   "version": "3.10.12"
  }
 },
 "nbformat": 4,
 "nbformat_minor": 5
}
