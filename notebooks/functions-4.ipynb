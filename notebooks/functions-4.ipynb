{
 "cells": [
  {
   "cell_type": "markdown",
   "id": "afe73d00",
   "metadata": {},
   "source": [
    "# Chapter 4 - Functions"
   ]
  },
  {
   "cell_type": "markdown",
   "id": "56cad65e",
   "metadata": {},
   "source": [
    "## Notes"
   ]
  },
  {
   "cell_type": "markdown",
   "id": "bf960f42",
   "metadata": {},
   "source": [
    "### Scope Rules\n",
    "When working with local and global variables, keep the following rules in mind:\n",
    "\n",
    "- Code that is in the global scope, outside all functions, can’t use local variables.\n",
    "- Code that is in one function’s local scope can’t use variables in any other local scope.\n",
    "- Code in a local scope can access global variables.\n",
    "- You can use the same name for different variables if they are in different scopes. That is, there can be a local variable named spam and a global variable also named spam."
   ]
  },
  {
   "cell_type": "markdown",
   "id": "2eb91392",
   "metadata": {},
   "source": [
    "Use these four rules to tell whether a variable belongs to a local scope or the global scope:\n",
    "\n",
    "  1.  A variable in the global scope (that is, outside all functions) is always a global variable.\n",
    "\n",
    "  2.  A variable in a function with a global statement is always a global variable in that function.\n",
    "\n",
    "  3.  Otherwise, if a function uses a variable in an assignment statement, it is a local variable.\n",
    "\n",
    "  4.  However, if the function uses a variable but never in an assignment statement, it is a global variable."
   ]
  },
  {
   "cell_type": "code",
   "execution_count": 1,
   "id": "3dfdace5",
   "metadata": {},
   "outputs": [
    {
     "name": "stdout",
     "output_type": "stream",
     "text": [
      "spam\n"
     ]
    }
   ],
   "source": [
    "def spam():\n",
    "    global eggs\n",
    "    eggs = 'spam'  # This is the global variable.\n",
    "\n",
    "def bacon():\n",
    "   eggs = 'bacon'  # This is a local variable.\n",
    "\n",
    "def ham():\n",
    "    print(eggs)  # This is the global variable.\n",
    "\n",
    "eggs = 'global'  # This is the global variable.\n",
    "spam()\n",
    "print(eggs)"
   ]
  },
  {
   "cell_type": "markdown",
   "id": "9f9f06d2",
   "metadata": {},
   "source": [
    "## Practice Questions"
   ]
  },
  {
   "cell_type": "markdown",
   "id": "4b7f7dd5",
   "metadata": {},
   "source": [
    "1. Why are functions advantageous to have in your programs?  \n",
    "    **Answer:** It reduces the number of lines in your code by allowing you to reuse the same lines of code without having to write it repeatedly. It organizes your code and makes it readable."
   ]
  },
  {
   "cell_type": "markdown",
   "id": "8d03cc49",
   "metadata": {},
   "source": [
    "2. When does the code in a function execute: when the function is defined or when the code in a function is called?  \n",
    "    **Answer:** When it is called."
   ]
  },
  {
   "cell_type": "markdown",
   "id": "35c70545",
   "metadata": {},
   "source": [
    "3. What statement creates a function?  \n",
    "    **Answer:** def _function_name_():"
   ]
  },
  {
   "cell_type": "markdown",
   "id": "6535a6cb",
   "metadata": {},
   "source": [
    "4. What is the difference between a function and a function call?  \n",
    "    **Answer:** A function is simply the blueprint or packagaing of the code you want to call/reuse, while a function call is a line of code telling python to run the lines of code within your function."
   ]
  },
  {
   "cell_type": "markdown",
   "id": "6fa51d44",
   "metadata": {},
   "source": [
    "5. How many global scopes are there in a Python program? How many local scopes are there?  \n",
    "    **Answer:** There is only one global scope, and that is any variable created outside all functions. Anything other than that is a local scope, which is found in functions and classes."
   ]
  },
  {
   "cell_type": "markdown",
   "id": "988039aa",
   "metadata": {},
   "source": [
    "6. What happens to variables in a local scope when the function call returns?  \n",
    "    **Answer:** Local variables are destroyed when the function call returns."
   ]
  },
  {
   "cell_type": "markdown",
   "id": "af52a7ce",
   "metadata": {},
   "source": [
    "7. What is a return value? Can a return value be part of an expression?  \n",
    "    **Answer:** Return value is what a function returns after execution and it is a data type, depending on the value returned. It can be used in expressions just as you would use explicitly typed values. For example:  \n",
    "    \n",
    "    >>> 'Hello ' + get_world()  \n",
    "    Hello World"
   ]
  },
  {
   "cell_type": "markdown",
   "id": "8d627a6e",
   "metadata": {},
   "source": [
    "8. If a function does not have a return statement, what is the return value of a call to that function?  \n",
    "    **Answer:** None"
   ]
  },
  {
   "cell_type": "markdown",
   "id": "1aace93f",
   "metadata": {},
   "source": [
    "9. How can you force a variable in a function to refer to the global variable?\n",
    "    **Answer:** You can force it by using the `global` keyword in python which will refer the variable to the existing global variable with the exact same name."
   ]
  },
  {
   "cell_type": "markdown",
   "id": "3f51cbec",
   "metadata": {},
   "source": [
    "10. What is the data type of None?  \n",
    "    **Answer:** NoneType"
   ]
  },
  {
   "cell_type": "markdown",
   "id": "5a581abb",
   "metadata": {},
   "source": [
    "11. What does the import areallyourpetsnamederic statement do?  \n",
    "    **Answer:** It imports the module called a areallyourpetsnamederic which allows you to use its global variables, functions, classes."
   ]
  },
  {
   "cell_type": "markdown",
   "id": "f19d0423",
   "metadata": {},
   "source": [
    "12. If you had a function named bacon() in a module named spam, how would you call it after importing spam?  \n",
    "    **Answer:** spam.bacon()"
   ]
  },
  {
   "cell_type": "markdown",
   "id": "547c963c",
   "metadata": {},
   "source": [
    "13. How can you prevent a program from crashing when it gets an error?  \n",
    "    **Answer:** By using exception handling, through a try except block, if an error(exception) occurs it is detected in the try block and handled (code that runs when error occurs) it the except block. Example:"
   ]
  },
  {
   "cell_type": "code",
   "execution_count": 2,
   "id": "c41fd2eb",
   "metadata": {},
   "outputs": [
    {
     "name": "stdout",
     "output_type": "stream",
     "text": [
      "Error: Division by zero is not allowed.\n"
     ]
    }
   ],
   "source": [
    "try:\n",
    "    42 / 0\n",
    "except ZeroDivisionError:\n",
    "    print(\"Error: Division by zero is not allowed.\")"
   ]
  },
  {
   "cell_type": "markdown",
   "id": "13da6667",
   "metadata": {},
   "source": [
    "14. What goes in the try clause? What goes in the except clause?  \n",
    "    **Answer:** Under the try clause, the code that is intended for execution is run, and under the except clause, code that is used to handle the occurence of a error is run."
   ]
  },
  {
   "cell_type": "markdown",
   "id": "fd05e6ea",
   "metadata": {},
   "source": [
    "15. Write the following program in a file named notrandomdice.py and run it. Why does each function call return the same number?  \n",
    "    **Answer:** Each function call returns the same number because the random number is being generated only once at the beginning of the script."
   ]
  },
  {
   "cell_type": "code",
   "execution_count": 3,
   "id": "c5c307e4",
   "metadata": {},
   "outputs": [
    {
     "name": "stdout",
     "output_type": "stream",
     "text": [
      "5\n",
      "5\n",
      "5\n",
      "5\n"
     ]
    }
   ],
   "source": [
    "import random\n",
    "random_number = random.randint(1, 6)\n",
    "\n",
    "def get_random_dice_roll():\n",
    "    # Returns a random integer from 1 to 6\n",
    "    return random_number\n",
    "\n",
    "print(get_random_dice_roll())\n",
    "print(get_random_dice_roll())\n",
    "print(get_random_dice_roll())\n",
    "print(get_random_dice_roll())"
   ]
  },
  {
   "cell_type": "markdown",
   "id": "d88badc9",
   "metadata": {},
   "source": [
    "## Practice Programs"
   ]
  },
  {
   "cell_type": "markdown",
   "id": "9b01478e",
   "metadata": {},
   "source": [
    "### The Collatz Sequence\n",
    "Write a function named collatz() that has one parameter named number. If number is even, then collatz() should print number // 2 and return this value. If number is odd, then collatz() should print and return 3 * number + 1.\n",
    "\n",
    "Then, write a program that lets the user enter an integer and that keeps calling collatz() on that number until the function returns the value 1. (Amazingly enough, this sequence actually works for any integer; sooner or later, using this sequence, you’ll arrive at 1! Even mathematicians aren’t sure why. Your program is exploring what’s called the Collatz sequence, sometimes called “the simplest impossible math problem.”)\n",
    "\n",
    "Remember to convert the return value from input() to an integer with the int() function; otherwise, it will be a string value. To make the output more compact, the print() calls that print the numbers should have a sep=' ' named parameter to print all values on one line.\n",
    "\n",
    "The output of this program could look something like this:  \n",
    "`Enter number:`  \n",
    "`3`  \n",
    "`3 10 5 16 8 4 2 1`  \n",
    "\n",
    "Hint: An integer number is even if number % 2 == 0, and it’s odd if number % 2 == 1."
   ]
  },
  {
   "cell_type": "code",
   "execution_count": null,
   "id": "e340f221",
   "metadata": {},
   "outputs": [
    {
     "name": "stdout",
     "output_type": "stream",
     "text": [
      "Enter a number:\n",
      "100020 50010 25005 75016 37508 18754 9377 28132 14066 7033 21100 10550 5275 15826 7913 23740 11870 5935 17806 8903 26710 13355 40066 20033 60100 30050 15025 45076 22538 11269 33808 16904 8452 4226 2113 6340 3170 1585 4756 2378 1189 3568 1784 892 446 223 670 335 1006 503 1510 755 2266 1133 3400 1700 850 425 1276 638 319 958 479 1438 719 2158 1079 3238 1619 4858 2429 7288 3644 1822 911 2734 1367 4102 2051 6154 3077 9232 4616 2308 1154 577 1732 866 433 1300 650 325 976 488 244 122 61 184 92 46 23 70 35 106 53 160 80 40 20 10 5 16 8 4 2 1\n"
     ]
    }
   ],
   "source": [
    "def collatz(number):\n",
    "    if number % 2 == 0:\n",
    "        return number // 2\n",
    "    else:\n",
    "        return 3 * number + 1\n",
    "    \n",
    "    print(\"Enter a number:\")\n",
    "    user_input = int(input())\n",
    "    sequence = [user_input]\n",
    "    while user_input != 1:\n",
    "        user_input = collatz(user_input)\n",
    "        sequence.append(user_input)\n",
    "        \n",
    "    print(*sequence)"
   ]
  },
  {
   "cell_type": "markdown",
   "id": "f2c646a5",
   "metadata": {},
   "source": [
    "#### Input Validation\n",
    "\n",
    "Add try and except statements to the previous project to detect whether the user entered a non-integer string. Normally, the int() function will raise a ValueError error if it is passed a non-integer string, as in int('puppy'). In the except clause, print a message to the user saying they must enter an integer."
   ]
  },
  {
   "cell_type": "code",
   "execution_count": 2,
   "id": "7c4b6c17",
   "metadata": {},
   "outputs": [
    {
     "name": "stdout",
     "output_type": "stream",
     "text": [
      "Enter a number:\n",
      "100020 50010 25005 75016 37508 18754 9377 28132 14066 7033 21100 10550 5275 15826 7913 23740 11870 5935 17806 8903 26710 13355 40066 20033 60100 30050 15025 45076 22538 11269 33808 16904 8452 4226 2113 6340 3170 1585 4756 2378 1189 3568 1784 892 446 223 670 335 1006 503 1510 755 2266 1133 3400 1700 850 425 1276 638 319 958 479 1438 719 2158 1079 3238 1619 4858 2429 7288 3644 1822 911 2734 1367 4102 2051 6154 3077 9232 4616 2308 1154 577 1732 866 433 1300 650 325 976 488 244 122 61 184 92 46 23 70 35 106 53 160 80 40 20 10 5 16 8 4 2 1\n"
     ]
    }
   ],
   "source": [
    "def collatz(number):\n",
    "    if number % 2 == 0:\n",
    "        return number // 2\n",
    "    else:\n",
    "        return 3 * number + 1\n",
    "    \n",
    "print(\"Enter a number:\")\n",
    "try:\n",
    "    user_input = int(input())\n",
    "    sequence = [user_input]\n",
    "    while user_input != 1:\n",
    "        user_input = collatz(user_input)\n",
    "        sequence.append(user_input)\n",
    "        \n",
    "    print(*sequence)\n",
    "\n",
    "except ValueError:\n",
    "    print(\"Please enter a valid integer.\")"
   ]
  }
 ],
 "metadata": {
  "kernelspec": {
   "display_name": "3.10.12",
   "language": "python",
   "name": "python3"
  },
  "language_info": {
   "codemirror_mode": {
    "name": "ipython",
    "version": 3
   },
   "file_extension": ".py",
   "mimetype": "text/x-python",
   "name": "python",
   "nbconvert_exporter": "python",
   "pygments_lexer": "ipython3",
   "version": "3.10.12"
  }
 },
 "nbformat": 4,
 "nbformat_minor": 5
}
