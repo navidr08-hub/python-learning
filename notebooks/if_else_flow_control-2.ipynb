{
 "cells": [
  {
   "cell_type": "markdown",
   "id": "afe73d00",
   "metadata": {},
   "source": [
    "# Chapter 2 - If-Else and Flow Control"
   ]
  },
  {
   "cell_type": "markdown",
   "id": "56cad65e",
   "metadata": {},
   "source": [
    "## Notes"
   ]
  },
  {
   "cell_type": "markdown",
   "id": "3a895512",
   "metadata": {},
   "source": [
    "### Opposite Day  \n",
    "With your knowledge of Boolean values and if-else statements, enter the following code into a new file and save it as oppositeday.py:"
   ]
  },
  {
   "cell_type": "code",
   "execution_count": 15,
   "id": "97fb2c1f",
   "metadata": {},
   "outputs": [
    {
     "name": "stdout",
     "output_type": "stream",
     "text": [
      "Today is not Opposite Day.\n"
     ]
    }
   ],
   "source": [
    "today_is_opposite_day = True\n",
    "\n",
    "# Set say_it_is_opposite_day based on today_is_opposite_day:\n",
    "if today_is_opposite_day == True:\n",
    "    say_it_is_opposite_day = True\n",
    "else:\n",
    "    say_it_is_opposite_day = False\n",
    "\n",
    "# If it is opposite day, toggle say_it_is_opposite_day:\n",
    "if today_is_opposite_day == True:\n",
    "    say_it_is_opposite_day = not say_it_is_opposite_day\n",
    "\n",
    "# Say what day it is:\n",
    "if say_it_is_opposite_day == True:\n",
    "    print('Today is Opposite Day.')\n",
    "else:\n",
    "    print('Today is not Opposite Day.')"
   ]
  },
  {
   "cell_type": "markdown",
   "id": "f1c9c9c6",
   "metadata": {},
   "source": [
    "### Dishonest Capacity Calculator  \n",
    "In Chapter 1, I showed how hard drive and flash memory manufacturers lie about the advertised capacities of their products by using a different definition of TB and GB. Let’s write a program to calculate how misleading their advertised capacities are. Enter the following code into a new file and save it as dishonestcapacity.py:"
   ]
  },
  {
   "cell_type": "code",
   "execution_count": null,
   "id": "74d9b11e",
   "metadata": {},
   "outputs": [
    {
     "name": "stdout",
     "output_type": "stream",
     "text": [
      "Enter TB or GB for the advertised unit:\n",
      "Enter the advertised capacity:\n",
      "The actual capacity is 476.84 GB\n"
     ]
    }
   ],
   "source": [
    "print('Enter TB or GB for the advertised unit:')\n",
    "unit = input('>')\n",
    "\n",
    "# Calculate the amount that the advertised capacity lies:\n",
    "if unit == 'TB' or unit == 'tb':\n",
    "    discrepancy = 1000000000000 / 1099511627776\n",
    "elif unit == 'GB' or unit == 'gb':\n",
    "    discrepancy = 1000000000 / 1073741824\n",
    "\n",
    "print('Enter the advertised capacity:')\n",
    "advertised_capacity = input('>')\n",
    "advertised_capacity = float(advertised_capacity)\n",
    "\n",
    "# Calculate the real capacity, round it to the nearest hundredths,\n",
    "# and convert it to a string so it can be concatenated:\n",
    "real_capacity = str(round(advertised_capacity * discrepancy, 2))\n",
    "\n",
    "print('The actual capacity is ' + real_capacity + ' ' + unit)"
   ]
  },
  {
   "cell_type": "markdown",
   "id": "9f9f06d2",
   "metadata": {},
   "source": [
    "## Practice Questions"
   ]
  },
  {
   "cell_type": "markdown",
   "id": "4b7f7dd5",
   "metadata": {},
   "source": [
    "1. What are the two values of the Boolean data type? How do you write them?  \n",
    "    **Answer:** True, False"
   ]
  },
  {
   "cell_type": "markdown",
   "id": "8d03cc49",
   "metadata": {},
   "source": [
    "2. What are the three Boolean operators?\n",
    "\n",
    "    **Answer:** and, or and not"
   ]
  },
  {
   "cell_type": "markdown",
   "id": "35c70545",
   "metadata": {},
   "source": [
    "3. Write out the truth tables of each Boolean operator (that is, every possible combination of Boolean values for the operator and what they evaluate to).\n",
    "\n",
    "    **Answer:**  \n",
    "    False False = and(False), or(False)  \n",
    "    False True = and(False), or(True)  \n",
    "    True False = and(False), or(True)  \n",
    "    True True = and(True), or(True)  \n",
    "\n",
    "    False = not(True)\n",
    "    True = not(False)"
   ]
  },
  {
   "cell_type": "markdown",
   "id": "6535a6cb",
   "metadata": {},
   "source": [
    "4. What do the following expressions evaluate to?\n",
    "\n",
    "    1. (5 > 4) and (3 == 5)  \n",
    "    2. not (5 > 4)  \n",
    "    3. (5 > 4) or (3 == 5)  \n",
    "    4. not ((5 > 4) or (3 == 5))  \n",
    "    5. (True and True) and (True == False)  \n",
    "    6. (not False) or (not True)  \n",
    "\n",
    "    **Answer:**  \n",
    "    1. False\n",
    "    2. False\n",
    "    3. True\n",
    "    4. False\n",
    "    5. False\n",
    "    6. True"
   ]
  },
  {
   "cell_type": "markdown",
   "id": "6fa51d44",
   "metadata": {},
   "source": [
    "5. What are the six comparison operators?\n",
    "\n",
    "    **Answer:** ==, !=, <, >, <=, >=  "
   ]
  },
  {
   "cell_type": "markdown",
   "id": "cdf3aa66",
   "metadata": {},
   "source": [
    "6. What is the difference between the equal to operator and the assignment operator?  \n",
    "    **Answer:** The equal operator is \"==\" while the assignment operator is \"=\"."
   ]
  },
  {
   "cell_type": "markdown",
   "id": "8200949d",
   "metadata": {},
   "source": [
    "7. Explain what a condition is and where you would use one.  \n",
    "    **Answer:** A condition is an expression that results in a boolean value (True or False), it is used in if-else, for, while, and other statements where a code is executed based on the result of the condition."
   ]
  },
  {
   "cell_type": "markdown",
   "id": "2eecda40",
   "metadata": {},
   "source": [
    "8. Identify the three blocks in this code:\n",
    "\n",
    "    **Answer:**"
   ]
  },
  {
   "cell_type": "code",
   "execution_count": 1,
   "id": "5d213253",
   "metadata": {},
   "outputs": [
    {
     "name": "stdout",
     "output_type": "stream",
     "text": [
      "Done\n"
     ]
    }
   ],
   "source": [
    "spam = 0  # Block 1\n",
    "if spam == 10:\n",
    "    print('eggs')  # Block 2\n",
    "    if spam > 5:\n",
    "       print('bacon')  # Block 3\n",
    "    else:\n",
    "        print('ham')\n",
    "    print('spam')\n",
    "print('Done')"
   ]
  },
  {
   "cell_type": "markdown",
   "id": "80771f16",
   "metadata": {},
   "source": [
    "9. Write code that prints Hello if 1 is stored in spam, prints Howdy if 2 is stored in spam, and prints Greetings! if anything else is stored in spam.  \n",
    "\n",
    "    **Answer:**"
   ]
  },
  {
   "cell_type": "code",
   "execution_count": 7,
   "id": "ef90e852",
   "metadata": {},
   "outputs": [
    {
     "name": "stdout",
     "output_type": "stream",
     "text": [
      "Hello\n"
     ]
    }
   ],
   "source": [
    "spam = 1\n",
    "if spam == 1:\n",
    "    print(\"Hello\")\n",
    "elif spam == 2:\n",
    "    print(\"Howdy\")\n",
    "else:\n",
    "    print(\"Greetings!\")"
   ]
  }
 ],
 "metadata": {
  "kernelspec": {
   "display_name": "3.10.12",
   "language": "python",
   "name": "python3"
  },
  "language_info": {
   "codemirror_mode": {
    "name": "ipython",
    "version": 3
   },
   "file_extension": ".py",
   "mimetype": "text/x-python",
   "name": "python",
   "nbconvert_exporter": "python",
   "pygments_lexer": "ipython3",
   "version": "3.10.12"
  }
 },
 "nbformat": 4,
 "nbformat_minor": 5
}
