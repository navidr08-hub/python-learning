{
 "cells": [
  {
   "cell_type": "markdown",
   "id": "afe73d00",
   "metadata": {},
   "source": [
    "# Chapter 5 - Debugging"
   ]
  },
  {
   "cell_type": "markdown",
   "id": "56cad65e",
   "metadata": {},
   "source": [
    "## Notes"
   ]
  },
  {
   "cell_type": "markdown",
   "id": "9e97dbe6",
   "metadata": {},
   "source": [
    "### Assertions\n",
    "An assertion is a sanity check to make sure your code isn’t doing something obviously wrong. We perform these sanity checks with assert statements. If the sanity check fails, the code raises an AssertionError exception. An assert statement consists of the following:\n",
    "\n",
    "The assert keyword\n",
    "A condition (that is, an expression that evaluates to True or False)\n",
    "A comma\n",
    "A string to display when the condition is False\n",
    "In plain English, an assert statement says, “I assert that the condition holds true, and if not, there is a bug somewhere, so immediately stop the program.” For example, enter the following into the interactive shell:\n",
    "\n",
    "`>>> ages = [26, 57, 92, 54, 22, 15, 17, 80, 47, 73]`  \n",
    "`>>> ages.sort()`  \n",
    "`>>> ages`  \n",
    "`[15, 17, 22, 26, 47, 54, 57, 73, 80, 92]`  \n",
    "`>>> assert ages[0] <= ages[-1]  # Assert that the first age is <= the last age.`\n",
    "\n",
    "The assert statement here asserts that the first item in ages should be less than or equal to the last one. This is a sanity check; if the code in sort() is bug-free and did its job, then the assertion would be true. Because the ages[0] <= ages[-1] expression evaluates to True, the assert statement does nothing.\n",
    "\n",
    "However, let’s pretend we had a bug in our code. Say we accidentally called the reverse() list method instead of the sort() list method. When we enter the following in the interactive shell, the assert statement raises an AssertionError:\n",
    "\n",
    "`>>> ages = [26, 57, 92, 54, 22, 15, 17, 80, 47, 73]`  \n",
    "`>>> ages.reverse()`  \n",
    "`>>> ages`  \n",
    "`[73, 47, 80, 17, 15, 22, 54, 92, 57, 26]`  \n",
    "`>>> assert ages[0] <= ages[-1]  # Assert that the first age is <= the last age.`  \n",
    "`Traceback (most recent call last):`  \n",
    "  `File \"<python-input-0>\", line 1, in <module>`  \n",
    "`AssertionError`"
   ]
  },
  {
   "cell_type": "markdown",
   "id": "f0d7991d",
   "metadata": {},
   "source": [
    "### A Poor Practice: Debugging with print()\n",
    "Entering import logging and logging.basicConfig(level=logging.DEBUG, format= '%(asctime)s - %(levelname)s - %(message)s') is somewhat unwieldy. You may want to use print() calls instead, but don’t give in to this temptation! Once you’re done debugging, you’ll end up spending a lot of time removing print() calls from your code for each log message. You might even accidentally remove some print() calls that were used for non-log messages. The nice thing about log messages is that you’re free to fill your program with as many as you like, and can always disable them later by adding a single logging.disable(logging.CRITICAL) call. Unlike print(), the logging module makes it easy to switch between showing and hiding log messages.\n",
    "\n",
    "Log messages are intended for the programmer, not the user. The user won’t care about the contents of some dictionary value you need to see to help with debugging; use a log message for something like that. For error messages that the user should see, like File not found or Invalid input, please enter a number, use a print() call. You don’t want to deprive the user of helpful information they can use to solve their problem."
   ]
  },
  {
   "cell_type": "markdown",
   "id": "56b8fda4",
   "metadata": {},
   "source": [
    "### Disabled Logging\n",
    "After you’ve debugged your program, you probably don’t want all these log messages cluttering the screen. The logging.disable() function disables these so that you don’t have to remove the logging calls by hand. Simply pass a logging level to logging.disable() to suppress all log messages at that level or lower. To disable logging entirely, add logging.disable(logging.CRITICAL) to your program. For example, enter the following into the interactive shell:\n",
    "\n",
    "`>>> import logging`  \n",
    "`>>> logging.basicConfig(level=logging.INFO, format=' %(asctime)s - `  \n",
    "`%(levelname)s -  %(message)s')`  \n",
    "`>>> logging.critical('Critical error! Critical error!')`  \n",
    "`2035-05-22 11:10:48,054 - CRITICAL - Critical error! Critical error!`  \n",
    "`>>> logging.disable(logging.CRITICAL)`  \n",
    "`>>> logging.critical('Critical error! Critical error!')`  \n",
    "`>>> logging.error('Error! Error!')`  \n",
    "\n",
    "Because logging.disable() will disable all messages after it, you’ll probably want to add it near the import logging line of code in your program. This way, you can easily find it to comment out or uncomment that call to enable or disable logging messages as needed."
   ]
  },
  {
   "cell_type": "markdown",
   "id": "9f9f06d2",
   "metadata": {},
   "source": [
    "## Practice Questions"
   ]
  },
  {
   "cell_type": "markdown",
   "id": "4b7f7dd5",
   "metadata": {},
   "source": [
    "1. Write an assert statement that triggers an AssertionError if the variable spam is an integer less than 10.    \n",
    "    **Answer:** `assert (type(spam) == int) and (spam >= 10)`"
   ]
  },
  {
   "cell_type": "markdown",
   "id": "8d03cc49",
   "metadata": {},
   "source": [
    "2. Write an assert statement that triggers an AssertionError if the variables eggs and bacon contain strings that are the same as each other, even if their cases are different. (that is, 'hello' and 'hello' are considered the same, as are 'goodbye' and 'GOODbye')  \n",
    "    **Answer:**"
   ]
  },
  {
   "cell_type": "code",
   "execution_count": null,
   "id": "6c829df2",
   "metadata": {},
   "outputs": [
    {
     "ename": "AssertionError",
     "evalue": "",
     "output_type": "error",
     "traceback": [
      "\u001b[0;31m---------------------------------------------------------------------------\u001b[0m",
      "\u001b[0;31mAssertionError\u001b[0m                            Traceback (most recent call last)",
      "Cell \u001b[0;32mIn[3], line 4\u001b[0m\n\u001b[1;32m      1\u001b[0m eggs \u001b[38;5;241m=\u001b[39m \u001b[38;5;124m'\u001b[39m\u001b[38;5;124mhello\u001b[39m\u001b[38;5;124m'\u001b[39m\n\u001b[1;32m      2\u001b[0m bacon \u001b[38;5;241m=\u001b[39m \u001b[38;5;124m'\u001b[39m\u001b[38;5;124mhello\u001b[39m\u001b[38;5;124m'\u001b[39m\n\u001b[0;32m----> 4\u001b[0m \u001b[38;5;28;01massert\u001b[39;00m eggs\u001b[38;5;241m.\u001b[39mlower() \u001b[38;5;241m!=\u001b[39m bacon\u001b[38;5;241m.\u001b[39mlower()\n",
      "\u001b[0;31mAssertionError\u001b[0m: "
     ]
    }
   ],
   "source": [
    "eggs = 'hello'\n",
    "bacon = 'Hello'\n",
    "\n",
    "assert eggs.lower() != bacon.lower()"
   ]
  },
  {
   "cell_type": "markdown",
   "id": "35c70545",
   "metadata": {},
   "source": [
    "3. Write an assert statment that always triggers an AssertionError.   \n",
    "    **Answer:**"
   ]
  },
  {
   "cell_type": "code",
   "execution_count": 4,
   "id": "542f87b6",
   "metadata": {},
   "outputs": [
    {
     "ename": "AssertionError",
     "evalue": "",
     "output_type": "error",
     "traceback": [
      "\u001b[0;31m---------------------------------------------------------------------------\u001b[0m",
      "\u001b[0;31mAssertionError\u001b[0m                            Traceback (most recent call last)",
      "Cell \u001b[0;32mIn[4], line 1\u001b[0m\n\u001b[0;32m----> 1\u001b[0m \u001b[38;5;28;01massert\u001b[39;00m \u001b[38;5;28;01mFalse\u001b[39;00m \u001b[38;5;241m==\u001b[39m \u001b[38;5;28;01mTrue\u001b[39;00m\n",
      "\u001b[0;31mAssertionError\u001b[0m: "
     ]
    }
   ],
   "source": [
    "assert False == True"
   ]
  },
  {
   "cell_type": "markdown",
   "id": "6535a6cb",
   "metadata": {},
   "source": [
    "4. What two lines must your program have to be able to call logging.debug()?  \n",
    "    **Answer:** "
   ]
  },
  {
   "cell_type": "code",
   "execution_count": 6,
   "id": "3a0c3680",
   "metadata": {},
   "outputs": [],
   "source": [
    "import logging\n",
    "logging.basicConfig(level=logging.DEBUG, format=' %(asctime)s -  %(levelname)s -  %(message)s')"
   ]
  },
  {
   "cell_type": "markdown",
   "id": "6fa51d44",
   "metadata": {},
   "source": [
    "5. What two lines must your program have to make logging.debug() send a logging message to a file named programLog.txt?  \n",
    "    **Answer:**"
   ]
  },
  {
   "cell_type": "code",
   "execution_count": 7,
   "id": "0fd18295",
   "metadata": {},
   "outputs": [],
   "source": [
    "import logging\n",
    "logging.basicConfig(filename='myProgramLog.txt', level=logging.DEBUG,\n",
    "format=' %(asctime)s -  %(levelname)s -  %(message)s')"
   ]
  },
  {
   "cell_type": "markdown",
   "id": "988039aa",
   "metadata": {},
   "source": [
    "6. What are the 5 logging levels?  \n",
    "    **Answer:** DEBUG, INFO, WARNING, ERROR, CRITICAL"
   ]
  },
  {
   "cell_type": "markdown",
   "id": "af52a7ce",
   "metadata": {},
   "source": [
    "7. What line of code can you add to disable all logging messages in your program?  \n",
    "    **Answer:**"
   ]
  },
  {
   "cell_type": "code",
   "execution_count": 8,
   "id": "c0ac8737",
   "metadata": {},
   "outputs": [],
   "source": [
    "logging.disable(logging.CRITICAL)"
   ]
  },
  {
   "cell_type": "markdown",
   "id": "8d627a6e",
   "metadata": {},
   "source": [
    "8. Why is using logging messages better than using print() to display the same message?  \n",
    "    **Answer:**  \n",
    "    1. Logging is made for printing debugging and program functionality messages.\n",
    "    2. Adding print statements clutters your program with debug print statements which you need to remove later and may accidentally remove a non-debug print statement.\n",
    "    3. Logging module allows you to disable all log messages spread throughout the code using 1 line of code."
   ]
  },
  {
   "cell_type": "markdown",
   "id": "1aace93f",
   "metadata": {},
   "source": [
    "9. Qhat are the differences between the Step Over, Step In, and Step Out buttons in the debugger?  \n",
    "    **Answer:**\n",
    "    - *Step Over*: Allows your execute the line of code and go past it without going into the function handling the line of code.\n",
    "    - *Step In*: Allows you to execute the lines of code that are *within* the single line of code containing a function call, step by step.\n",
    "    - *Step Out*: If you are stepping through lines of code within a function call you can step out of the function call, essentially skipping to the return statement and return to the original line where you \"stepped in\"."
   ]
  },
  {
   "cell_type": "markdown",
   "id": "3f51cbec",
   "metadata": {},
   "source": [
    "10. After you click *Continue* when will the debugger stop?    \n",
    "    **Answer:** The debugger will stop at the next occurence of a breakpoint."
   ]
  },
  {
   "cell_type": "markdown",
   "id": "5a581abb",
   "metadata": {},
   "source": [
    "11. What is a breakpoint?  \n",
    "    **Answer:** A breakpoint when enabled, signals the debugger to halt execution and allow the developer to Step In, Out, Over,  lines of code that come after."
   ]
  },
  {
   "cell_type": "markdown",
   "id": "f19d0423",
   "metadata": {},
   "source": [
    "12. How do you set a breakpoint on a line of code in Mu?  \n",
    "    **Answer:** Click the line number beside the Mu editor, causing a red dot to appear beside the line number."
   ]
  },
  {
   "cell_type": "markdown",
   "id": "d88badc9",
   "metadata": {},
   "source": [
    "## Practice Programs"
   ]
  },
  {
   "cell_type": "markdown",
   "id": "9b01478e",
   "metadata": {},
   "source": [
    "### Debugging Coin Toss\n",
    "The following program is meant to be a simple coin toss guessing game. The player gets two guesses. (It’s an easy game.) However, the program has multiple bugs in it. Run through the program a few times to find the bugs that keep the program from working correctly."
   ]
  },
  {
   "cell_type": "code",
   "execution_count": null,
   "id": "e340f221",
   "metadata": {},
   "outputs": [
    {
     "name": "stdout",
     "output_type": "stream",
     "text": [
      "Guess the coin toss! Enter heads or tails:\n",
      "Guess the coin toss! Enter heads or tails:\n",
      "Guess the coin toss! Enter heads or tails:\n",
      "Nope! Guess again!\n",
      "Nope. You are really bad at this game.\n"
     ]
    }
   ],
   "source": [
    "import random\n",
    "guess = ''\n",
    "while guess not in ('heads', 'tails'):\n",
    "    print('Guess the coin toss! Enter heads or tails:')\n",
    "    guess = input()\n",
    "toss = random.randint(0, 1)  # 0 is tails, 1 is heads\n",
    "if toss == guess:\n",
    "    print('You got it!')\n",
    "else:\n",
    "    print('Nope! Guess again!')\n",
    "    guess = input()\n",
    "    if toss == guess:\n",
    "        print('You got it!')\n",
    "    else:\n",
    "        print('Nope. You are really bad at this game.')"
   ]
  },
  {
   "cell_type": "markdown",
   "id": "4c8a5acd",
   "metadata": {},
   "source": [
    "#### Corrected Code"
   ]
  },
  {
   "cell_type": "code",
   "execution_count": null,
   "id": "1031e592",
   "metadata": {},
   "outputs": [
    {
     "name": "stdout",
     "output_type": "stream",
     "text": [
      "Guess the coin toss! Enter heads or tails:\n"
     ]
    },
    {
     "name": "stdout",
     "output_type": "stream",
     "text": [
      "Nope! Guess again!\n",
      "Guess the coin toss! Enter heads or tails:\n",
      "Guess the coin toss! Enter heads or tails:\n",
      "Guess the coin toss! Enter heads or tails:\n",
      "Guess the coin toss! Enter heads or tails:\n",
      "Guess the coin toss! Enter heads or tails:\n",
      "Guess the coin toss! Enter heads or tails:\n",
      "You got it!\n"
     ]
    }
   ],
   "source": [
    "import random\n",
    "\n",
    "def get_input():\n",
    "    guess = ''\n",
    "    while guess not in ('heads', 'tails'):\n",
    "        print('Guess the coin toss! Enter heads or tails:')\n",
    "        guess = input()\n",
    "    return guess\n",
    "\n",
    "\n",
    "guess = get_input()\n",
    "toss = 'heads' if random.randint(0, 1) == 0 else 'tails'\n",
    "if toss == guess:\n",
    "    print('You got it!')\n",
    "else:\n",
    "    print('Nope! Guess again!')\n",
    "    guess = get_input()\n",
    "    if toss == guess:\n",
    "        print('You got it!')\n",
    "    else:\n",
    "        print('Nope. You are really bad at this game.')"
   ]
  }
 ],
 "metadata": {
  "kernelspec": {
   "display_name": "3.10.12",
   "language": "python",
   "name": "python3"
  },
  "language_info": {
   "codemirror_mode": {
    "name": "ipython",
    "version": 3
   },
   "file_extension": ".py",
   "mimetype": "text/x-python",
   "name": "python",
   "nbconvert_exporter": "python",
   "pygments_lexer": "ipython3",
   "version": "3.10.12"
  }
 },
 "nbformat": 4,
 "nbformat_minor": 5
}
