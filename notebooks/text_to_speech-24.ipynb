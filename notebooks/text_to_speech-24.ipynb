{
 "cells": [
  {
   "cell_type": "markdown",
   "id": "afe73d00",
   "metadata": {},
   "source": [
    "# Chapter 23 - Text-to-Speech and Speech Recognition Engines"
   ]
  },
  {
   "cell_type": "markdown",
   "id": "56cad65e",
   "metadata": {},
   "source": [
    "## Notes"
   ]
  },
  {
   "cell_type": "markdown",
   "id": "9f9f06d2",
   "metadata": {},
   "source": [
    "## Practice Questions"
   ]
  },
  {
   "cell_type": "markdown",
   "id": "4b7f7dd5",
   "metadata": {},
   "source": [
    "1. How can you make pyttsx3’s voice speak faster?  \n",
    "    **Answer:** `engine.setProperty('rate', 300)`"
   ]
  },
  {
   "cell_type": "markdown",
   "id": "8d03cc49",
   "metadata": {},
   "source": [
    "2. What audio format does pyttsx3 save to?  \n",
    "    **Answer:** *.wav*"
   ]
  },
  {
   "cell_type": "markdown",
   "id": "b0fdff3d",
   "metadata": {},
   "source": [
    "3. Do pyttsx3 and Whisper rely on online services?  \n",
    "    **Answer:** No"
   ]
  },
  {
   "cell_type": "markdown",
   "id": "35c70545",
   "metadata": {},
   "source": [
    "4. Do pyttsx3 and Whisper support other languages besides English?  \n",
    "    **Answer:** Yes"
   ]
  },
  {
   "cell_type": "markdown",
   "id": "6535a6cb",
   "metadata": {},
   "source": [
    "5. What is the name of Whisper’s default machine learning model for speech recognition?  \n",
    "    **Answer:** `base`"
   ]
  },
  {
   "cell_type": "markdown",
   "id": "f0d9e730",
   "metadata": {},
   "source": [
    "6. What are two common subtitle text file formats?  \n",
    "**Answer:** *.srt*, *.vtt*"
   ]
  },
  {
   "cell_type": "markdown",
   "id": "bc00d05d",
   "metadata": {},
   "source": [
    "7. Can yt-dlp download videos from websites besides YouTube?  \n",
    "**Answer:** Yes"
   ]
  },
  {
   "cell_type": "markdown",
   "id": "d88badc9",
   "metadata": {},
   "source": [
    "## Practice Programs"
   ]
  },
  {
   "cell_type": "markdown",
   "id": "e3fcdb0e",
   "metadata": {},
   "source": [
    "For practice, write programs to do the following tasks.\n",
    "\n",
    "### Adding Voice to Guess the Number\n",
    "Revisit the guess the number game from Chapter 3 and add a voice feature to it. Replace all of the function calls to print() with calls to a function named speak(). Next, define the speak() function to accept a string argument (just like print() did), but have it both print the string to the screen and say it out loud. For example, you’ll replace this line of code\n",
    "\n",
    "`print('I am thinking of a number between 1 and 20.')`  \n",
    "with this line of code:\n",
    "\n",
    "`speak('I am thinking of a number between 1 and 20.')`  \n",
    "To make full use of the speech-generation feature, let’s change the 'Your guess is too low.' and 'Your guess is too high.' text to say the player’s guess. For example, the computer should say, “Your guess, 42, is too low.” You can also add a voice feature to other projects in this book, such as the rock, paper, scissors game."
   ]
  },
  {
   "cell_type": "markdown",
   "id": "ba091b95",
   "metadata": {},
   "source": [
    "### Singing “99 Bottles of Water”\n",
    "Cumulative songs are songs whose verses repeat with additions or slight changes. The songs '99 Bottles of Water' is an example of a cumulative song. Write a program that sings (or at least speaks) the lyrics in '99 Bottles of Water':\n",
    "\n",
    "99 bottles of water on the wall,\n",
    "99 bottles of water,\n",
    "Take one down, pass it around,\n",
    "98 bottles of water on the wall.\n",
    "These lyrics repeat, with one fewer bottle each time. The song continues until it reaches zero bottles, at which point the last line is “No more bottles of water on the wall.” (You may wish to have the program start at 2 or 3 instead of 99 to make testing easier.)"
   ]
  },
  {
   "cell_type": "markdown",
   "id": "3a0f3f68",
   "metadata": {},
   "source": [
    "### YouTube Transcriber\n",
    "Write a program that glues together the features of yt-dlp and Whisper to automatically download YouTube videos and produce subtitle files in the .srt format. The input can be a list of URLs to download and transcribe. You can also add options to produce different subtitle formats. Python is an excellent “glue language” for combining the capabilities of different modules."
   ]
  }
 ],
 "metadata": {
  "kernelspec": {
   "display_name": "automate_boring_stuff",
   "language": "python",
   "name": "python3"
  },
  "language_info": {
   "codemirror_mode": {
    "name": "ipython",
    "version": 3
   },
   "file_extension": ".py",
   "mimetype": "text/x-python",
   "name": "python",
   "nbconvert_exporter": "python",
   "pygments_lexer": "ipython3",
   "version": "3.10.12"
  }
 },
 "nbformat": 4,
 "nbformat_minor": 5
}
