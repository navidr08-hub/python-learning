{
 "cells": [
  {
   "cell_type": "markdown",
   "id": "afe73d00",
   "metadata": {},
   "source": [
    "# Chapter 19 - Keeping time, Scheduling tasks, and Launching programs"
   ]
  },
  {
   "cell_type": "markdown",
   "id": "56cad65e",
   "metadata": {},
   "source": [
    "## Notes"
   ]
  },
  {
   "cell_type": "markdown",
   "id": "9f9f06d2",
   "metadata": {},
   "source": [
    "## Practice Questions"
   ]
  },
  {
   "cell_type": "markdown",
   "id": "4b7f7dd5",
   "metadata": {},
   "source": [
    "1. What is the Unix epoch?  \n",
    "    **Answer:** The Unix epoch is a time reference commonly used in programming: midnight on January 1, 1970, Coordinated Universal Time (UTC)."
   ]
  },
  {
   "cell_type": "markdown",
   "id": "8d03cc49",
   "metadata": {},
   "source": [
    "2. What function returns the number of seconds since the Unix epoch?  \n",
    "    **Answer:** `time.time()`"
   ]
  },
  {
   "cell_type": "markdown",
   "id": "b0fdff3d",
   "metadata": {},
   "source": [
    "3. What time module function returns a human-readable string of the current time, like 'Mon Jun 15 14:00:38 2026'?  \n",
    "    **Answer:** `time.ctime()`"
   ]
  },
  {
   "cell_type": "markdown",
   "id": "35c70545",
   "metadata": {},
   "source": [
    "4. How can you pause your program for exactly five seconds?  \n",
    "    **Answer:** `time.sleep(5)`"
   ]
  },
  {
   "cell_type": "markdown",
   "id": "6535a6cb",
   "metadata": {},
   "source": [
    "5. What does the round() function return?  \n",
    "    **Answer:** float"
   ]
  },
  {
   "cell_type": "markdown",
   "id": "6fa51d44",
   "metadata": {},
   "source": [
    "6. What is the difference between a datetime object and a timedelta object?  \n",
    "    **Answer:** The datetime module also provides a timedelta data type, which represents a duration of time rather than a moment in time."
   ]
  },
  {
   "cell_type": "markdown",
   "id": "be21660b",
   "metadata": {},
   "source": [
    "7. Using the datetime module, what day of the week was January 7, 2019?  \n",
    "    **Answer:**"
   ]
  },
  {
   "cell_type": "code",
   "execution_count": 1,
   "id": "611c7c77",
   "metadata": {},
   "outputs": [
    {
     "data": {
      "text/plain": [
       "'Monday'"
      ]
     },
     "execution_count": 1,
     "metadata": {},
     "output_type": "execute_result"
    }
   ],
   "source": [
    "from datetime import datetime\n",
    "\n",
    "dt = datetime(2019, 1, 7)\n",
    "dt.strftime('%A')"
   ]
  },
  {
   "cell_type": "markdown",
   "id": "d88badc9",
   "metadata": {},
   "source": [
    "## Practice Programs"
   ]
  },
  {
   "cell_type": "markdown",
   "id": "e3fcdb0e",
   "metadata": {},
   "source": [
    "For practice, write programs to do the following tasks.\n",
    "\n",
    "### Prettified Stopwatch\n",
    "Expand the stopwatch project from this chapter so that it uses the rjust() and ljust() string methods to “prettify” the output. (These methods were covered in Chapter 8.) Instead of output such as this:\n",
    "```\n",
    "Lap #1: 3.56 (3.56)\n",
    "Lap #2: 8.63 (5.07)\n",
    "Lap #3: 17.68 (9.05)\n",
    "Lap #4: 19.11 (1.43)\n",
    "```\n",
    "the output should look like this:\n",
    "```\n",
    "Lap # 1:   3.56 (  3.56)\n",
    "Lap # 2:   8.63 (  5.07)\n",
    "Lap # 3:  17.68 (  9.05)\n",
    "Lap # 4:  19.11 (  1.43)\n",
    "```\n",
    "Next, use the pyperclip module introduced in Chapter 8 to copy the text output to the clipboard so that the user can quickly paste the output to a text file or email."
   ]
  },
  {
   "cell_type": "markdown",
   "id": "51e3ea28",
   "metadata": {},
   "source": [
    "### Friday the 13th Finder\n",
    "Friday the 13th is considered an unlucky day by those with triskaidekaphobia (though personally I celebrate it as a lucky day). With leap years and months of varying lengths, it can be hard to figure out when the next Friday the 13th is coming.\n",
    "\n",
    "Write two programs. The first program should create a datetime object for the current day and a timedelta object of one day. If the current day is a Friday the 13th, it should print the month and year. Then, it should add the timedelta object to the datetime object to set it to the next day, and repeat the check. Have it repeat until it has found the next ten Friday the 13th dates.\n",
    "\n",
    "The second program should do the same thing except subtract the timedelta object. This program will find all of the past months and years with a Friday the 13th, and stop when it reaches the year 1."
   ]
  }
 ],
 "metadata": {
  "kernelspec": {
   "display_name": "automate_boring_stuff",
   "language": "python",
   "name": "python3"
  },
  "language_info": {
   "codemirror_mode": {
    "name": "ipython",
    "version": 3
   },
   "file_extension": ".py",
   "mimetype": "text/x-python",
   "name": "python",
   "nbconvert_exporter": "python",
   "pygments_lexer": "ipython3",
   "version": "3.10.12"
  }
 },
 "nbformat": 4,
 "nbformat_minor": 5
}
