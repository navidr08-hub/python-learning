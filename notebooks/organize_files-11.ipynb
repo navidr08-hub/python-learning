{
 "cells": [
  {
   "cell_type": "markdown",
   "id": "afe73d00",
   "metadata": {},
   "source": [
    "# Chapter 11 - Organizing Files"
   ]
  },
  {
   "cell_type": "markdown",
   "id": "56cad65e",
   "metadata": {},
   "source": [
    "## Notes"
   ]
  },
  {
   "cell_type": "markdown",
   "id": "9f9f06d2",
   "metadata": {},
   "source": [
    "## Practice Questions"
   ]
  },
  {
   "cell_type": "markdown",
   "id": "4b7f7dd5",
   "metadata": {},
   "source": [
    "1. What is the difference between shutil.copy() and shutil.copytree()?  \n",
    "    **Answer:** `shutil.copy()` copies a file from source to destination while `shutil.copytree()` copies a folder."
   ]
  },
  {
   "cell_type": "markdown",
   "id": "8d03cc49",
   "metadata": {},
   "source": [
    "2. What function is used to rename files?  \n",
    "    **Answer:** `shutil.move()`"
   ]
  },
  {
   "cell_type": "markdown",
   "id": "b0fdff3d",
   "metadata": {},
   "source": [
    "3. What is the difference between the delete functions in the send2trash and shutil modules?  \n",
    "    **Answer:** `send2trash` sends deleted files/folders to recycling bin instead of permanently deleting them."
   ]
  },
  {
   "cell_type": "markdown",
   "id": "35c70545",
   "metadata": {},
   "source": [
    "4. ZipFile objects have a close() method just like File objects’ close() method. What ZipFile method is equivalent to File objects’ open() method?  \n",
    "    **Answer:** zipfile.ZipFile()"
   ]
  },
  {
   "cell_type": "markdown",
   "id": "d88badc9",
   "metadata": {},
   "source": [
    "## Practice Programs"
   ]
  },
  {
   "cell_type": "markdown",
   "id": "7ec72d00",
   "metadata": {},
   "source": [
    "### Selectively Copying\n",
    "Write a program that walks through a folder tree and searches for files with a certain file extension (such as .pdf or .jpg). Copy these files from their current location to a new folder."
   ]
  },
  {
   "cell_type": "code",
   "execution_count": 11,
   "id": "06fe5573",
   "metadata": {},
   "outputs": [
    {
     "name": "stdout",
     "output_type": "stream",
     "text": [
      "organize_files-11.ipynb\n",
      "debugging-5.ipynb\n",
      "read_write_file-10.ipynb\n",
      "regex-9.ipynb\n",
      "functions-4.ipynb\n",
      "strings-8.ipynb\n",
      "python_basics-1.ipynb\n",
      "lists-6.ipynb\n",
      "if_else_flow_control-2.ipynb\n",
      "loops-3.ipynb\n",
      "dicts_data-7.ipynb\n"
     ]
    }
   ],
   "source": [
    "from pathlib import Path\n",
    "import os\n",
    "import shutil\n",
    "\n",
    "src_dir = Path(\"..\")\n",
    "dest_dir = Path(\"./testdir\")\n",
    "\n",
    "# Create 'testdir' if it does not already exist\n",
    "os.makedirs(dest_dir, exist_ok=True)\n",
    "\n",
    "\n",
    "def selective_copy(ext: str):\n",
    "    files_to_copy = []\n",
    "\n",
    "    for cwd, _, filenames in os.walk(src_dir):\n",
    "        for filename in filenames:\n",
    "            if filename.endswith(ext):\n",
    "                files_to_copy.append(Path(cwd) / filename)\n",
    "\n",
    "    for file in files_to_copy:\n",
    "        shutil.copy(file, dest_dir)\n",
    "\n",
    "    for path in dest_dir.glob(\"*\"):\n",
    "        print(path.name)\n",
    "\n",
    "\n",
    "selective_copy(\".ipynb\")"
   ]
  },
  {
   "cell_type": "markdown",
   "id": "a5a27e01",
   "metadata": {},
   "source": [
    "### Deleting Unneeded Files\n",
    "It’s not uncommon for a few unneeded but humongous files or folders to take up the bulk of the space on your hard drive. If you’re trying to free up room on your computer, it’s more effective to identify the largest unneeded files first.\n",
    "\n",
    "Write a program that walks through a folder tree and searches for exceptionally large files or folders—say, ones that have a file size of more than 100MB. (Remember that, to get a file’s size, you can use os.path.getsize() from the os module.) Print these files with their absolute path to the screen."
   ]
  },
  {
   "cell_type": "code",
   "execution_count": 21,
   "id": "07ae8586",
   "metadata": {},
   "outputs": [
    {
     "name": "stdout",
     "output_type": "stream",
     "text": [
      "Please enter the path of the folder you would like to search:\n",
      "Please enter the number of bytes you would like to check for:\n",
      "/home/abdurr08/projects/python-learning/notebooks\n",
      "/home/abdurr08/projects/python-learning/.git\n",
      "/home/abdurr08/projects/python-learning/notebooks/organize_files-11.ipynb\n",
      "/home/abdurr08/projects/python-learning/notebooks/debugging-5.ipynb\n",
      "/home/abdurr08/projects/python-learning/notebooks/read_write_file-10.ipynb\n",
      "/home/abdurr08/projects/python-learning/notebooks/regex-9.ipynb\n",
      "/home/abdurr08/projects/python-learning/notebooks/functions-4.ipynb\n",
      "/home/abdurr08/projects/python-learning/notebooks/strings-8.ipynb\n",
      "/home/abdurr08/projects/python-learning/notebooks/python_basics-1.ipynb\n",
      "/home/abdurr08/projects/python-learning/notebooks/lists-6.ipynb\n",
      "/home/abdurr08/projects/python-learning/notebooks/if_else_flow_control-2.ipynb\n",
      "/home/abdurr08/projects/python-learning/notebooks/loops-3.ipynb\n",
      "/home/abdurr08/projects/python-learning/notebooks/dicts_data-7.ipynb\n",
      "/home/abdurr08/projects/python-learning/.git/index\n",
      "/home/abdurr08/projects/python-learning/.git/info\n",
      "/home/abdurr08/projects/python-learning/.git/logs\n",
      "/home/abdurr08/projects/python-learning/.git/objects\n",
      "/home/abdurr08/projects/python-learning/.git/branches\n",
      "/home/abdurr08/projects/python-learning/.git/refs\n",
      "/home/abdurr08/projects/python-learning/.git/hooks\n",
      "/home/abdurr08/projects/python-learning/.git/logs/HEAD\n",
      "/home/abdurr08/projects/python-learning/.git/logs/refs\n",
      "/home/abdurr08/projects/python-learning/.git/logs/refs/remotes\n",
      "/home/abdurr08/projects/python-learning/.git/logs/refs/heads\n",
      "/home/abdurr08/projects/python-learning/.git/logs/refs/remotes/origin\n",
      "/home/abdurr08/projects/python-learning/.git/logs/refs/remotes/origin/main\n",
      "/home/abdurr08/projects/python-learning/.git/logs/refs/heads/main\n",
      "/home/abdurr08/projects/python-learning/.git/objects/68\n",
      "/home/abdurr08/projects/python-learning/.git/objects/5b\n",
      "/home/abdurr08/projects/python-learning/.git/objects/info\n",
      "/home/abdurr08/projects/python-learning/.git/objects/95\n",
      "/home/abdurr08/projects/python-learning/.git/objects/a8\n",
      "/home/abdurr08/projects/python-learning/.git/objects/5e\n",
      "/home/abdurr08/projects/python-learning/.git/objects/3c\n",
      "/home/abdurr08/projects/python-learning/.git/objects/a9\n",
      "/home/abdurr08/projects/python-learning/.git/objects/76\n",
      "/home/abdurr08/projects/python-learning/.git/objects/04\n",
      "/home/abdurr08/projects/python-learning/.git/objects/8f\n",
      "/home/abdurr08/projects/python-learning/.git/objects/48\n",
      "/home/abdurr08/projects/python-learning/.git/objects/7b\n",
      "/home/abdurr08/projects/python-learning/.git/objects/f7\n",
      "/home/abdurr08/projects/python-learning/.git/objects/85\n",
      "/home/abdurr08/projects/python-learning/.git/objects/77\n",
      "/home/abdurr08/projects/python-learning/.git/objects/0d\n",
      "/home/abdurr08/projects/python-learning/.git/objects/ec\n",
      "/home/abdurr08/projects/python-learning/.git/objects/f3\n",
      "/home/abdurr08/projects/python-learning/.git/objects/bb\n",
      "/home/abdurr08/projects/python-learning/.git/objects/3b\n",
      "/home/abdurr08/projects/python-learning/.git/objects/0e\n",
      "/home/abdurr08/projects/python-learning/.git/objects/e0\n",
      "/home/abdurr08/projects/python-learning/.git/objects/e6\n",
      "/home/abdurr08/projects/python-learning/.git/objects/61\n",
      "/home/abdurr08/projects/python-learning/.git/objects/pack\n",
      "/home/abdurr08/projects/python-learning/.git/objects/37\n",
      "/home/abdurr08/projects/python-learning/.git/objects/60\n",
      "/home/abdurr08/projects/python-learning/.git/objects/41\n",
      "/home/abdurr08/projects/python-learning/.git/objects/22\n",
      "/home/abdurr08/projects/python-learning/.git/objects/f2\n",
      "/home/abdurr08/projects/python-learning/.git/objects/f1\n",
      "/home/abdurr08/projects/python-learning/.git/objects/4d\n",
      "/home/abdurr08/projects/python-learning/.git/objects/17\n",
      "/home/abdurr08/projects/python-learning/.git/objects/5b/1ac2504edec665eb9591f4872785d743438a71\n",
      "/home/abdurr08/projects/python-learning/.git/objects/a9/bb49829be4e4af504883daefbf82a2db5bf998\n",
      "/home/abdurr08/projects/python-learning/.git/objects/7b/4ad29aa51fd10aba87183ae4059660421bf1bf\n",
      "/home/abdurr08/projects/python-learning/.git/objects/f7/1bc63e818bd9037e270c80ff71eba23102353e\n",
      "/home/abdurr08/projects/python-learning/.git/objects/bb/34edb9a59bc23ec9bf482cd78a86e27fc26fd8\n",
      "/home/abdurr08/projects/python-learning/.git/objects/0e/06a7f3ceda1c2b349176cd37d62bb73d796d32\n",
      "/home/abdurr08/projects/python-learning/.git/objects/37/e4d2a82a4e2c2cdfa444b601357632fdbb4293\n",
      "/home/abdurr08/projects/python-learning/.git/objects/41/2073dcb3c991910637c5276c42ba15e03ce1f4\n",
      "/home/abdurr08/projects/python-learning/.git/objects/22/c64147b15d7e88c85dedcb72fa762e08fd6db9\n",
      "/home/abdurr08/projects/python-learning/.git/refs/remotes\n",
      "/home/abdurr08/projects/python-learning/.git/refs/tags\n",
      "/home/abdurr08/projects/python-learning/.git/refs/heads\n",
      "/home/abdurr08/projects/python-learning/.git/refs/remotes/origin\n",
      "/home/abdurr08/projects/python-learning/.git/hooks/pre-rebase.sample\n",
      "/home/abdurr08/projects/python-learning/.git/hooks/pre-push.sample\n",
      "/home/abdurr08/projects/python-learning/.git/hooks/update.sample\n",
      "/home/abdurr08/projects/python-learning/.git/hooks/pre-commit.sample\n",
      "/home/abdurr08/projects/python-learning/.git/hooks/prepare-commit-msg.sample\n",
      "/home/abdurr08/projects/python-learning/.git/hooks/fsmonitor-watchman.sample\n",
      "/home/abdurr08/projects/python-learning/.git/hooks/push-to-checkout.sample\n"
     ]
    }
   ],
   "source": [
    "def get_large_files_or_dirs():\n",
    "\n",
    "    print(\"Please enter the path of the folder you would like to search:\")\n",
    "    path = input()\n",
    "    \n",
    "    while not Path(path).exists():\n",
    "        print(\"Please enter a valid folder path:\")\n",
    "        path = input()\n",
    "    \n",
    "    print(\"Please enter the number of bytes you would like to check for:\")\n",
    "    while True:\n",
    "        try:\n",
    "            size = int(input())\n",
    "            break\n",
    "        except ValueError:\n",
    "            print(\"Please enter a valid number of bytes (integer):\")\n",
    "\n",
    "    dir = Path(path)\n",
    "    \n",
    "    if not dir.exists():\n",
    "        print(\"Please enter a valid folder path.\")\n",
    "        return\n",
    "    \n",
    "    for cwd, subdirs, filenames in os.walk(dir):\n",
    "        for fn in filenames:\n",
    "            filepath = Path(cwd) / fn\n",
    "            if os.path.getsize(filepath) > size:\n",
    "                print(os.path.normpath(filepath.absolute()))\n",
    "\n",
    "        for sd in subdirs:\n",
    "            subdir_path = Path(cwd) / sd\n",
    "            if os.path.getsize(subdir_path) > size:\n",
    "                print(os.path.normpath(subdir_path.absolute()))\n",
    "\n",
    "\n",
    "get_large_files_or_dirs()\n"
   ]
  },
  {
   "cell_type": "markdown",
   "id": "91b45c0e",
   "metadata": {},
   "source": [
    "### Renumbering Files\n",
    "Write a program that finds all files with a given prefix, such as spam001.txt, spam002.txt, and so on, in a single folder and locates any gaps in the numbering (such as if there is a spam001.txt and a spam003.txt but no spam002.txt). Have the program rename all the later files to close this gap.\n",
    "\n",
    "To create these example files (skipping spam042.txt, spam086.txt, and spam103.txt), run the following code:"
   ]
  },
  {
   "cell_type": "code",
   "execution_count": 66,
   "id": "f31ec41e",
   "metadata": {},
   "outputs": [],
   "source": [
    "# Creating ./numbered_files\n",
    "test_dir = Path(\"./numbered_files\")\n",
    "os.makedirs(test_dir, exist_ok=True)\n",
    "for i in range(1, 121):\n",
    "    if i not in (42, 86, 103):\n",
    "        with open(f'./numbered_files/spam{str(i).zfill(3)}.txt', 'w') as file:\n",
    "            pass"
   ]
  },
  {
   "cell_type": "code",
   "execution_count": 67,
   "id": "99b2b12b",
   "metadata": {},
   "outputs": [
    {
     "name": "stdout",
     "output_type": "stream",
     "text": [
      "Please enter the relative of absolute folder path you would like perform renumbering on:\n",
      "Please enter the regex pattern for the file prefix:\n"
     ]
    }
   ],
   "source": [
    "import re\n",
    "import shutil\n",
    "\n",
    "\n",
    "def renumber_files():\n",
    "    print(\"Please enter the relative of absolute folder path you would like perform renumbering on:\")\n",
    "    # dir_path = Path(input)\n",
    "    dir_path = test_dir\n",
    "\n",
    "    # while not dir_path.exists():\n",
    "    #     print(\"Path not found. Please enter a valid directory path.\")\n",
    "    #     dir_path = Path(input())\n",
    "\n",
    "    print(\"Please enter the regex pattern for the file prefix:\")\n",
    "    try:\n",
    "        # Compile the user-provided pattern\n",
    "        # re.escape() can be used if the user input should be treated literally,\n",
    "        # preventing special regex characters from being interpreted as such.\n",
    "        # For a true regex pattern, re.escape() should NOT be used.\n",
    "        \n",
    "        # pattern = re.compile(input())\n",
    "        pattern = re.compile(r'spam\\d+.txt$')\n",
    "\n",
    "        matching_files = [f for f in os.listdir(dir_path) if re.search(pattern, f)]\n",
    "\n",
    "        if matching_files:\n",
    "            matching_files.sort()\n",
    "\n",
    "            def longest_common_suffix(strings):\n",
    "                # Reverse all strings\n",
    "                reversed_strings = [s[::-1] for s in strings]\n",
    "                # Find common prefix of reversed strings\n",
    "                prefix = os.path.commonprefix(reversed_strings)\n",
    "                # Reverse it back to get the suffix\n",
    "                return prefix[::-1]\n",
    "\n",
    "            prefix = os.path.commonprefix(matching_files)\n",
    "            suffix = longest_common_suffix(matching_files)\n",
    "\n",
    "            num_zeros = len(str(len(matching_files)))\n",
    "\n",
    "            for i in range(len(matching_files)):\n",
    "                name_to_be = f\"{prefix}{i+1:0{num_zeros}d}{suffix}\"\n",
    "                if matching_files[i] != name_to_be:\n",
    "                    shutil.move(dir_path / matching_files[i], dir_path / name_to_be)\n",
    "                    # print(\"Filename:\", dir_path / matching_files[i], \"was changed to\", dir_path / name_to_be)\n",
    "\n",
    "        else:\n",
    "            print(\"No files found with given directory and regex pattern\")\n",
    "\n",
    "\n",
    "    except re.error as e:\n",
    "        print(f\"Invalid regular expression pattern: {e}\")\n",
    "\n",
    "\n",
    "renumber_files()"
   ]
  },
  {
   "cell_type": "code",
   "execution_count": 75,
   "id": "c9168b6b",
   "metadata": {},
   "outputs": [
    {
     "name": "stdout",
     "output_type": "stream",
     "text": [
      "Removed directory: numbered_files\n"
     ]
    }
   ],
   "source": [
    "# Remove the ./testdir and all files within\n",
    "if os.path.exists(test_dir):\n",
    "    shutil.rmtree(test_dir)\n",
    "    print(f\"Removed directory: {test_dir}\")\n",
    "else:\n",
    "    print(f\"Directory not found: {test_dir}\")"
   ]
  },
  {
   "cell_type": "markdown",
   "id": "25fa1008",
   "metadata": {},
   "source": [
    "As an added challenge, write another program that can insert gaps into numbered files (and bump up the numbers in the filenames after the gap) so that a new file can be inserted."
   ]
  },
  {
   "cell_type": "markdown",
   "id": "e24727ba",
   "metadata": {},
   "source": [
    "### Converting Dates from American- to European-Style\n",
    "Say your boss emails you thousands of files with American-style dates (MM-DD-YYYY) in their names and needs them renamed to European-style dates (DD-MM-YYYY). This boring task could take all day to do by hand! Instead, write a program that does the following:\n",
    "\n",
    "  1.  Searches all filenames in the current working directory and all subdirectories for American-style dates. Use the os.walk() function to go through the subfolders.\n",
    "\n",
    "  2.  Uses regular expressions to identify filenames with the MM-DD-YYYY pattern in them—for example, spam12-31-1900.txt. Assume the months and days always use two digits, and that files with non-date matches don’t exist. (You won’t find files named something like 99-99-9999.txt.)\n",
    "\n",
    "  3.  When a filename is found, renames the file with the month and day swapped to make it European-style. Use the shutil.move() function to do the renaming."
   ]
  },
  {
   "cell_type": "code",
   "execution_count": 68,
   "id": "6f70c17e",
   "metadata": {},
   "outputs": [],
   "source": [
    "from datetime import datetime, timedelta\n",
    "\n",
    "# Creating ./dated_files\n",
    "dated_files_dir = Path(\"./dated_files\")\n",
    "os.makedirs(dated_files_dir, exist_ok=True)\n",
    "\n",
    "# Today\n",
    "today = datetime.today()\n",
    "\n",
    "# Generate list of dates from 30 days ago to today\n",
    "date_list = [(today - timedelta(days=i)).strftime(\"%m-%d-%Y\") for i in range(30, -1, -1)]\n",
    "\n",
    "for date in date_list:\n",
    "    with open(f'./dated_files/{date}.txt', 'w') as file:\n",
    "        pass"
   ]
  },
  {
   "cell_type": "code",
   "execution_count": 74,
   "id": "1fd7ce11",
   "metadata": {},
   "outputs": [],
   "source": [
    "def reformat_dated_files():\n",
    "    na_pattern = re.compile(r'(\\d{2})-(\\d{2})-(\\d{4})')\n",
    "    for _, _, filenames in os.walk(dated_files_dir):\n",
    "        for fn in filenames:\n",
    "            match = na_pattern.search(fn)\n",
    "            if match:\n",
    "                eu_dated_name = na_pattern.sub(r'\\2-\\1-\\3', fn)\n",
    "                shutil.move(dated_files_dir / fn, dated_files_dir / eu_dated_name)\n",
    "                # print(\"Filename:\", dated_files_dir / fn, \"was changed to\", dated_files_dir / eu_dated_name)\n",
    "                \n",
    "reformat_dated_files()"
   ]
  },
  {
   "cell_type": "code",
   "execution_count": 76,
   "id": "fa31d637",
   "metadata": {},
   "outputs": [
    {
     "name": "stdout",
     "output_type": "stream",
     "text": [
      "Removed directory: dated_files\n"
     ]
    }
   ],
   "source": [
    "# Remove the ./dated_files and all files within\n",
    "if os.path.exists(dated_files_dir):\n",
    "    shutil.rmtree(dated_files_dir)\n",
    "    print(f\"Removed directory: {dated_files_dir}\")\n",
    "else:\n",
    "    print(f\"Directory not found: {dated_files_dir}\")"
   ]
  }
 ],
 "metadata": {
  "kernelspec": {
   "display_name": "3.10.12",
   "language": "python",
   "name": "python3"
  },
  "language_info": {
   "codemirror_mode": {
    "name": "ipython",
    "version": 3
   },
   "file_extension": ".py",
   "mimetype": "text/x-python",
   "name": "python",
   "nbconvert_exporter": "python",
   "pygments_lexer": "ipython3",
   "version": "3.10.12"
  }
 },
 "nbformat": 4,
 "nbformat_minor": 5
}
