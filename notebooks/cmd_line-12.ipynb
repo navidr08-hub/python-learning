{
 "cells": [
  {
   "cell_type": "markdown",
   "id": "afe73d00",
   "metadata": {},
   "source": [
    "# Chapter 12 - Designing and Deploying Command Line Programs"
   ]
  },
  {
   "cell_type": "markdown",
   "id": "56cad65e",
   "metadata": {},
   "source": [
    "## Notes"
   ]
  },
  {
   "cell_type": "markdown",
   "id": "22a2b90f",
   "metadata": {},
   "source": [
    "### `PATH` Environment Variable\n",
    "\n",
    "On Linux, add the following to the bottom of the .bashrc file:  \n",
    "\n",
    "`export PATH=/home/al/Scripts:$PATH`  \n",
    "This line modifies PATH for all future terminal windows that you open, so the change won’t have an effect on currently open terminal windows."
   ]
  },
  {
   "cell_type": "markdown",
   "id": "90db5bd8",
   "metadata": {},
   "source": [
    "### DON’T USE PIP WITH ANACONDA\n",
    "If you’ve installed the Anaconda distribution of Python instead of the regular distribution from https://python.org, you should avoid using pip in your conda environments. Instead, use the conda-specific package manager through the conda command."
   ]
  },
  {
   "cell_type": "markdown",
   "id": "6768f52c",
   "metadata": {},
   "source": [
    "### Self-Aware Python Programs\n",
    "- The `__file__` variable contains the .py file’s path as a string. For example, if I run a yourScript.py file in my home folder, it evaluates to `'C:\\Users\\al\\yourScript.py'`\n",
    "- The `sys.executable` variable contains the full path and file of the Python interpreter program itself, and the `sys.version` variable contains the string that appears at the top of the interactive shell with version information about the Python interpreter.\n",
    "- The `sys.version_info.major` and `sys.version_info.minor` variables contain integers of the major and minor version numbers of the Python interpreter. On my laptop running Python version 3.13.1, these are 3 and 13, respectively. You can also pass `sys.version_info` to the `list()` function to obtain more specific information: `list(sys.version_info)` returns `[3, 13, 1 'final', 0]` on my laptop. Having the version information in this form is much easier to work with than trying to pull it out of the sys.version string.\n",
    "- The os.name variable contains the string 'nt' if running on Windows and 'posix' if running on macOS or Linux. This is useful if your Python script needs to run different code depending on what operating system it’s running on. For more specific operating system identification, the sys.platform variable contains 'win32' on Windows, 'darwin' on macOS, and 'linux' on Linux.\n",
    "- If you need highly specific information about the OS version and type of CPU, the built-in platform module can retrieve this information."
   ]
  },
  {
   "cell_type": "markdown",
   "id": "086af2d7",
   "metadata": {},
   "source": [
    "### Colorful Text with Bext\n",
    "You can print colorful text using the third-party Bext package built on top of Jonathan Hartley’s Colorama package. Install Bext with pip by following the instructions in Appendix A. Bext only works in programs run from a terminal window, and not from Mu or most other code editors. To have print() produce colorful text, call the fg() and bg() functions to change the (foreground) text color or the background color with a string argument such as 'black', 'red', 'green', 'yellow', 'blue', 'magenta', 'purple', 'cyan', or 'white'. You can also pass 'reset' to change the color back to the terminal window’s default color. For example, enter the following into the interactive shell:"
   ]
  },
  {
   "cell_type": "code",
   "execution_count": 1,
   "id": "c5c792a7",
   "metadata": {},
   "outputs": [
    {
     "name": "stdout",
     "output_type": "stream",
     "text": [
      "This text is red.\n",
      "Red text on blue background is an ugly color scheme.\n",
      "The text is normal again. Ah, much better.\n"
     ]
    }
   ],
   "source": [
    "import bext\n",
    "bext.fg('red')\n",
    "print('This text is red.')\n",
    "bext.bg('blue')\n",
    "print('Red text on blue background is an ugly color scheme.')\n",
    "bext.fg('reset')\n",
    "bext.bg('reset')\n",
    "print('The text is normal again. Ah, much better.')"
   ]
  },
  {
   "cell_type": "markdown",
   "id": "a9af9ed9",
   "metadata": {},
   "source": [
    "Keep in mind that the user may have their terminal window set to light mode or dark mode, so there’s no telling if the terminal’s default appearance is black text on a white background or white text on a black background. You should also be limited in your use of color: too much can make your program look tacky or unreadable.\n",
    "\n",
    "Bext also has some limited TUI-like features, including the following:\n",
    "\n",
    "`bext.clear()` Clears the screen\n",
    "\n",
    "`bext.width()` and `bext.height()` Returns the current width (in columns) and height (in rows) of the terminal window, respectively\n",
    "\n",
    "`bext.hide()` and `bext.show()` Hides and shows the cursor, respectively\n",
    "\n",
    "`bext.title(text)` Changes the title bar of the terminal window to the text string\n",
    "\n",
    "`bext.goto(x, y)` Moves the cursor to column x and row y in the terminal, where 0, 0 is the top-left position\n",
    "\n",
    "`bext.get_key()` Waits for the user to press any key and then returns a string describing the key\n",
    "\n",
    "Think of the `bext.get_key()` function as a single-key version of `input()`. The returned string includes 'a', 'z', and '5', but also keys like 'left', 'f1', and 'esc'. The TAB and ENTER keys return '\\t' and '\\n', respectively. Call `bext.get_key()` in the interactive shell to test various keys and see their return values.\n",
    "\n",
    "For a demonstration of what Bext can do, run the source code for the ASCII Art Fish Tank program from https://inventwithpython.com/projects/fishtank.py. First, this program uses bext.clear() to clear the terminal window of all text. Next, the program calls bext.goto() to position the cursor and bext.fg() to change the text color before printing various fish out of text characters like ><)))*>. This program is featured in my book The Big Book of Small Python Projects (No Starch Press, 2021)."
   ]
  },
  {
   "cell_type": "markdown",
   "id": "72ad28aa",
   "metadata": {},
   "source": [
    "### A Short Program: Snowstorm\n",
    "Let’s create a text-based snowstorm animation. Our program uses block text characters that fill out the top half-block, bottom half-block, and full block of a single character cell. These text characters are returned as strings by chr(9600), chr(9604), and chr(9608), respectively, and our program stores them in the constants TOP, BOTTOM, and FULL to make our code more readable.  \n",
    "\n",
    "Enter the following code into a file named snowstorm.py:"
   ]
  },
  {
   "cell_type": "code",
   "execution_count": null,
   "id": "b6fe070d",
   "metadata": {},
   "outputs": [
    {
     "data": {
      "text/plain": [
       "<Popen: returncode: None args: ['wt.exe', '-p', 'Ubuntu', 'bash', '-c', 'pyt...>"
      ]
     },
     "execution_count": 13,
     "metadata": {},
     "output_type": "execute_result"
    }
   ],
   "source": [
    "import subprocess\n",
    "\n",
    "script_path = \"/home/abdurr08/projects/python-learning/projects/snowstorm.py\"\n",
    "# subprocess.Popen([\n",
    "#     \"wt.exe\", \"wsl\", \"bash\", \"-c\", f\"python3 {script_path}; exec bash\"\n",
    "# ])\n",
    "# Everything after -c must be a single string\n",
    "subprocess.Popen([\n",
    "    \"wt.exe\", \"-p\", \"Ubuntu\", \"bash\", \"-c\", f'python3 {script_path}'\n",
    "])"
   ]
  },
  {
   "cell_type": "markdown",
   "id": "9f9f06d2",
   "metadata": {},
   "source": [
    "## Practice Questions"
   ]
  },
  {
   "cell_type": "markdown",
   "id": "4b7f7dd5",
   "metadata": {},
   "source": [
    "1. What command lists folder contents on Windows? What about on macOS and Linux?  \n",
    "    **Answer:** Windows: `dir`, Linux/macOS: `ls`"
   ]
  },
  {
   "cell_type": "markdown",
   "id": "8d03cc49",
   "metadata": {},
   "source": [
    "2. What does the PATH environment variable contain?   \n",
    "    **Answer:** A list of folders the terminal checks when you enter the name of a program."
   ]
  },
  {
   "cell_type": "markdown",
   "id": "b0fdff3d",
   "metadata": {},
   "source": [
    "3. What does the \\__file__ variable contain?  \n",
    "    **Answer:** The current running .py file's path."
   ]
  },
  {
   "cell_type": "markdown",
   "id": "35c70545",
   "metadata": {},
   "source": [
    "4. What command erases the text from the terminal window on Windows? What about on macOS and Linux?  \n",
    "    **Answer:** Windows: `cls`, macOS/Linux: `clear`"
   ]
  },
  {
   "cell_type": "markdown",
   "id": "6535a6cb",
   "metadata": {},
   "source": [
    "5. How do you create a new virtual environment?  \n",
    "    **Answer:** python -m venv *folder_name*"
   ]
  },
  {
   "cell_type": "markdown",
   "id": "6fa51d44",
   "metadata": {},
   "source": [
    "6. What command line argument should you pass to PyInstaller when compiling programs?  \n",
    "    **Answer:** The name of the script file you want to compile into an executable."
   ]
  },
  {
   "cell_type": "markdown",
   "id": "d88badc9",
   "metadata": {},
   "source": [
    "## Practice Programs"
   ]
  },
  {
   "cell_type": "markdown",
   "id": "1c76114c",
   "metadata": {},
   "source": [
    "### Make Your Programs Deployable\n",
    "Make your existing programs easy to run by creating shell scripts in a PATH folder that executes them, or else compiling them with PyInstaller. Do this for the following projects:  \n",
    "\n",
    "“Back Up a Folder into a ZIP File” from Chapter 11  \n",
    "“Extract Contact Information from Large Documents” from Chapter 9  \n",
    "“Add Bullets to Wiki Markup” from Chapter 8  \n",
    "“Interactive Chessboard Simulator” from Chapter 7  \n",
    "Any other programs you’ve created and want to easily launch or share with others  "
   ]
  }
 ],
 "metadata": {
  "kernelspec": {
   "display_name": "automate_boring_stuff",
   "language": "python",
   "name": "python3"
  },
  "language_info": {
   "codemirror_mode": {
    "name": "ipython",
    "version": 3
   },
   "file_extension": ".py",
   "mimetype": "text/x-python",
   "name": "python",
   "nbconvert_exporter": "python",
   "pygments_lexer": "ipython3",
   "version": "3.10.12"
  }
 },
 "nbformat": 4,
 "nbformat_minor": 5
}
