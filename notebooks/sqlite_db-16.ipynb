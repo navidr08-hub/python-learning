{
 "cells": [
  {
   "cell_type": "markdown",
   "id": "afe73d00",
   "metadata": {},
   "source": [
    "# Chapter 16 - SQLite Databases"
   ]
  },
  {
   "cell_type": "markdown",
   "id": "56cad65e",
   "metadata": {},
   "source": [
    "## Notes"
   ]
  },
  {
   "cell_type": "markdown",
   "id": "dab34817",
   "metadata": {},
   "source": [
    "  1.  What Python instructions will obtain a Connection object for a SQLite database in a file named example.db?\n",
    "\n",
    "  2.  What Python instruction will create a new table named students with TEXT columns named first_name, last_name, and favorite_color?\n",
    "\n",
    "  3.  How do you connect to a SQLite database in autocommit mode?\n",
    "\n",
    "  4.  What’s the difference between the INTEGER and REAL data types in SQLite?\n",
    "\n",
    "  5.  What does strict mode add to a table?\n",
    "\n",
    "  6.  What does the * in the query 'SELECT * FROM cats' mean?\n",
    "\n",
    "  7.  What does CRUD stand for?\n",
    "\n",
    "  8.  What does ACID stand for?\n",
    "\n",
    "  9.  What query adds new records to a table?\n",
    "\n",
    "10.  What query deletes records from a table?\n",
    "\n",
    "11.  What happens if you don’t specify the WHERE clause in an UPDATE query?\n",
    "\n",
    "12.  What is an index? What code would create an index for a column named birthdate in a table named cats?\n",
    "\n",
    "13.  What is a foreign key?\n",
    "\n",
    "14.  How can you delete a table named cats?\n",
    "\n",
    "15.  What “filename” do you specify to create an in-memory database?\n",
    "\n",
    "16.  How can you copy a database to another database?"
   ]
  },
  {
   "cell_type": "markdown",
   "id": "4b7f7dd5",
   "metadata": {},
   "source": [
    "1. What Python instructions will obtain a Connection object for a SQLite database in a file named example.db?  \n",
    "    **Answer:**\n",
    "    ```\n",
    "    >>> import sqlite3\n",
    "    >>> conn = sqlite3.connect('example.db', isolation_level=None)\n",
    "    ```"
   ]
  },
  {
   "cell_type": "markdown",
   "id": "8d03cc49",
   "metadata": {},
   "source": [
    "2. What Python instruction will create a new table named students with TEXT columns named first_name, last_name, and favorite_color?  \n",
    "    **Answer:**\n",
    "    ```\n",
    "    conn.execute('CREATE TABLE IF NOT EXISTS cats (name TEXT NOT NULL, birthdate TEXT, fur TEXT, weight_kg REAL) STRICT')\n",
    "    ```"
   ]
  },
  {
   "cell_type": "markdown",
   "id": "b0fdff3d",
   "metadata": {},
   "source": [
    "3. How do you connect to a SQLite database in autocommit mode?  \n",
    "    **Answer:** `isolation_level=None`"
   ]
  },
  {
   "cell_type": "markdown",
   "id": "35c70545",
   "metadata": {},
   "source": [
    "4. What’s the difference between the INTEGER and REAL data types in SQLite?  \n",
    "    **Answer:** INTEGER = int, REAL = float"
   ]
  },
  {
   "cell_type": "markdown",
   "id": "6535a6cb",
   "metadata": {},
   "source": [
    "5. What does strict mode add to a table?  \n",
    "    **Answer:** Data type checking"
   ]
  },
  {
   "cell_type": "markdown",
   "id": "6fa51d44",
   "metadata": {},
   "source": [
    "6. What does the * in the query 'SELECT * FROM cats' mean?  \n",
    "    **Answer:** Get all table entries from the table 'cats'"
   ]
  },
  {
   "cell_type": "markdown",
   "id": "be21660b",
   "metadata": {},
   "source": [
    "7. What does CRUD stand for?  \n",
    "    **Answer:** C - Create, R - Read, U - Update, D - Delete"
   ]
  },
  {
   "cell_type": "markdown",
   "id": "9fc75575",
   "metadata": {},
   "source": [
    "8. What does ACID stand for?  \n",
    "    **Answer:** A - Atomic, C - Consistent, I - Isolated, D - Durable"
   ]
  },
  {
   "cell_type": "markdown",
   "id": "8094f70f",
   "metadata": {},
   "source": [
    "9. What query adds new records to a table?  \n",
    "    **Answer:** INSERT"
   ]
  },
  {
   "cell_type": "markdown",
   "id": "c28d349a",
   "metadata": {},
   "source": [
    "10. What query deletes records from a table?  \n",
    "    **Answer:** DELETE"
   ]
  },
  {
   "cell_type": "markdown",
   "id": "a9578089",
   "metadata": {},
   "source": [
    "11. What happens if you don’t specify the WHERE clause in an UPDATE query?  \n",
    "    **Answer:** If you forgot to include the WHERE clause, the updates would apply to every row in the table."
   ]
  },
  {
   "cell_type": "markdown",
   "id": "7fa7618a",
   "metadata": {},
   "source": [
    "12. What is an index? What code would create an index for a column named birthdate in a table named cats?  \n",
    "    **Answer:** A SQL index is a data structure that organizes a column’s data. As a result, queries with WHERE clauses that use these columns will perform better. `conn.execute('CREATE INDEX idx_birthdate ON cats (birthdate)')`"
   ]
  },
  {
   "cell_type": "markdown",
   "id": "86e7f9c1",
   "metadata": {},
   "source": [
    "13. What is a foreign key?  \n",
    "    **Answer:** In relational databases, we can store complex data across multiple tables, and we can create links between them called *foreign keys*."
   ]
  },
  {
   "cell_type": "markdown",
   "id": "d9481c24",
   "metadata": {},
   "source": [
    "14. How can you delete a table named cats?  \n",
    "    **Answer:** `conn.execute('DROP TABLE cats')`"
   ]
  },
  {
   "cell_type": "markdown",
   "id": "aa2cbb63",
   "metadata": {},
   "source": [
    "15. What “filename” do you specify to create an in-memory database?  \n",
    "    **Answer:** `memory_db_conn = sqlite3.connect(':memory:', isolation_level=None)`"
   ]
  },
  {
   "cell_type": "markdown",
   "id": "d88badc9",
   "metadata": {},
   "source": [
    "## Practice Programs"
   ]
  },
  {
   "cell_type": "markdown",
   "id": "d6ebf0b6",
   "metadata": {},
   "source": [
    "For practice, write programs to do the following tasks.\n",
    "\n",
    "### Cat Vaccination Checker\n",
    "Download the sweigartcats.db database of my cats from the book’s resources at https://nostarch.com/automate-boring-stuff-python-3rd-edition. Write a program that opens this database and lists all cats that don’t have vaccines named 'rabies', 'FeLV', and 'FVRCP'. Also, check the database for errors by finding all vaccines that were administered on a date before the cat’s birthday."
   ]
  },
  {
   "cell_type": "markdown",
   "id": "34952865",
   "metadata": {},
   "source": [
    "### Meal Ingredients Database\n",
    "Write a program that creates two tables, one for meals and one for ingredients, using these SQL queries:\n",
    "```\n",
    "CREATE TABLE IF NOT EXISTS meals (name TEXT) STRICT\n",
    "CREATE TABLE IF NOT EXISTS ingredients (name TEXT,\n",
    "meal_id INTEGER, FOREIGN KEY(meal_id) REFERENCES meals\n",
    "(rowid)) STRICT\n",
    "```\n",
    "Then, write a program that prompts the user for input. If the user enters 'quit', the program should exit. The user can also enter a new meal name, followed by a colon and a comma-delimited list of ingredients: 'meal:ingredient1,ingredient2'. Save the meal and its ingredients in the meals and ingredients tables.\n",
    "\n",
    "Finally, the user can enter the name of a meal or ingredient. If the name appears in the meals table, the program should list the meal’s ingredients. If the name appears in the ingredients table, the program should list every meal that uses this ingredient. For example, the output of the program could look like this:\n",
    "```\n",
    "> onigiri:rice,nori,salt,sesame seeds\n",
    "Meal added: onigiri\n",
    "> chicken and rice:chicken,rice,cream of chicken soup\n",
    "Meal added: chicken and rice\n",
    "> onigiri\n",
    "Ingredients of onigiri:\n",
    "  rice\n",
    "  nori\n",
    "  salt\n",
    "  sesame seeds\n",
    "> chicken\n",
    "Meals that use chicken:\n",
    "  chicken and rice\n",
    "> rice\n",
    "Meals that use rice:\n",
    "  onigiri\n",
    "chicken and rice\n",
    "> quit\n",
    "```"
   ]
  }
 ],
 "metadata": {
  "kernelspec": {
   "display_name": "3.10.12",
   "language": "python",
   "name": "python3"
  },
  "language_info": {
   "codemirror_mode": {
    "name": "ipython",
    "version": 3
   },
   "file_extension": ".py",
   "mimetype": "text/x-python",
   "name": "python",
   "nbconvert_exporter": "python",
   "pygments_lexer": "ipython3",
   "version": "3.10.12"
  }
 },
 "nbformat": 4,
 "nbformat_minor": 5
}
