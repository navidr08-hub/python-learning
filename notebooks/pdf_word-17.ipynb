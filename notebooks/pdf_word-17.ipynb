{
 "cells": [
  {
   "cell_type": "markdown",
   "id": "afe73d00",
   "metadata": {},
   "source": [
    "# Chapter 16 - PDF and Word Files"
   ]
  },
  {
   "cell_type": "markdown",
   "id": "56cad65e",
   "metadata": {},
   "source": [
    "## Practice Programs"
   ]
  },
  {
   "cell_type": "markdown",
   "id": "2b832ab9",
   "metadata": {},
   "source": [
    " 1.  What modes does the File object for PdfWriter objects need to be opened in to save the PDF file?\n",
    "\n",
    "  2.  How do you acquire a Page object for page 5 from a PdfReader or PdfWriter object?\n",
    "\n",
    "  3.  If a PdfReader object’s PDF is encrypted with the password swordfish, what must you do before you can obtain Page objects from it?\n",
    "\n",
    "  4.  If the rotate() method rotates pages clockwise, how do you rotate a page counterclockwise?\n",
    "\n",
    "  5.  What method returns a Document object for a file named demo.docx?\n",
    "\n",
    "  6.  What is the difference between a Paragraph object and a Run object?\n",
    "\n",
    "  7.  How do you obtain a list of Paragraph objects for a Document object that’s stored in a variable named doc?\n",
    "\n",
    "  8.  What type of object has bold, underline, italic, strike, and outline variables?\n",
    "\n",
    "  9.  What is the difference between setting the bold variable to True, False, or None?\n",
    "\n",
    "10.  How do you create a Document object for a new Word document?\n",
    "\n",
    "11.  How do you add a paragraph with the text 'Hello, there!' to a Document object stored in a variable named doc?\n",
    "\n",
    "12.  What integers represent the levels of headings available in Word documents?"
   ]
  },
  {
   "cell_type": "markdown",
   "id": "4b7f7dd5",
   "metadata": {},
   "source": [
    "1. What modes does the File object for PdfWriter objects need to be opened in to save the PDF file?  \n",
    "    **Answer:** `wb`"
   ]
  },
  {
   "cell_type": "markdown",
   "id": "8d03cc49",
   "metadata": {},
   "source": [
    "2. How do you acquire a Page object for page 5 from a PdfReader or PdfWriter object?    \n",
    "    **Answer:** `PdfReader.pages`, `PdfWriter.pages`"
   ]
  },
  {
   "cell_type": "markdown",
   "id": "b0fdff3d",
   "metadata": {},
   "source": [
    "3. If a PdfReader object’s PDF is encrypted with the password swordfish, what must you do before you can obtain Page objects from it?  \n",
    "    **Answer:** `reader.decrypt('__password__')`"
   ]
  },
  {
   "cell_type": "markdown",
   "id": "35c70545",
   "metadata": {},
   "source": [
    "4. If the rotate() method rotates pages clockwise, how do you rotate a page counterclockwise?  \n",
    "    **Answer:** `Page.rotate(-90)`"
   ]
  },
  {
   "cell_type": "markdown",
   "id": "6535a6cb",
   "metadata": {},
   "source": [
    "5. What method returns a Document object for a file named demo.docx?  \n",
    "    **Answer:** `docx.Document('demo.docx')`"
   ]
  },
  {
   "cell_type": "markdown",
   "id": "6fa51d44",
   "metadata": {},
   "source": [
    "6. What is the difference between a Paragraph object and a Run object?  \n",
    "    **Answer:** Paragraph objects contain Run objects in a list stored in an attribute called runs, accessed with `Paragraph.runs`. Runs are essentially components of text when put together make up the paragraph but each Run object has its `text` and style attributes. "
   ]
  },
  {
   "cell_type": "markdown",
   "id": "be21660b",
   "metadata": {},
   "source": [
    "7. How do you obtain a list of Paragraph objects for a Document object that’s stored in a variable named doc?  \n",
    "    **Answer:** `doc.paragraphs`"
   ]
  },
  {
   "cell_type": "markdown",
   "id": "9fc75575",
   "metadata": {},
   "source": [
    "8. What type of object has bold, underline, italic, strike, and outline variables?  \n",
    "    **Answer:** Run"
   ]
  },
  {
   "cell_type": "markdown",
   "id": "8094f70f",
   "metadata": {},
   "source": [
    "9. What is the difference between setting the bold variable to True, False, or None?  \n",
    "    **Answer:** None and False have the same results. True enabled the bold font."
   ]
  },
  {
   "cell_type": "markdown",
   "id": "c28d349a",
   "metadata": {},
   "source": [
    "10. How do you create a Document object for a new Word document?  \n",
    "    **Answer:** `docx.Document()`"
   ]
  },
  {
   "cell_type": "markdown",
   "id": "a9578089",
   "metadata": {},
   "source": [
    "11. How do you add a paragraph with the text 'Hello, there!' to a Document object stored in a variable named doc?  \n",
    "    **Answer:** `doc.add_paragraph('Hello, there!')`"
   ]
  },
  {
   "cell_type": "markdown",
   "id": "7fa7618a",
   "metadata": {},
   "source": [
    "12. What integers represent the levels of headings available in Word documents?  \n",
    "    **Answer:** 1, 2, 3, 4"
   ]
  },
  {
   "cell_type": "markdown",
   "id": "d88badc9",
   "metadata": {},
   "source": [
    "## Practice Programs"
   ]
  },
  {
   "cell_type": "markdown",
   "id": "1c420111",
   "metadata": {},
   "source": [
    "For practice, write programs to do the following tasks.\n",
    "\n",
    "### PDF Paranoia\n",
    "Using the os.walk() function from Chapter 11, write a script that will go through every PDF in a folder (and its subfolders) and encrypt the PDFs using a password provided on the command line. Save each encrypted PDF with an _encrypted.pdf suffix added to the original filename. Before deleting the original file, have the program attempt to read and decrypt the new file to ensure that it was encrypted correctly.\n",
    "\n",
    "Then, write a program that finds all encrypted PDFs in a folder (and its subfolders) and creates a decrypted copy of the PDF using a provided password. If the password is incorrect, the program should print a message to the user and continue to the next PDF."
   ]
  },
  {
   "cell_type": "markdown",
   "id": "114b567b",
   "metadata": {},
   "source": [
    "### Custom Invitations\n",
    "Say you have a text file of guest names. This guests.txt file has one name per line, as follows:\n",
    "\n",
    "Prof. Plum\n",
    "Miss Scarlet\n",
    "Col. Mustard\n",
    "Al Sweigart\n",
    "RoboCop\n",
    "Write a program that generates a Word document with custom invitations that look like Figure 17-10.\n",
    "\n",
    "Because Python-Docx can only use styles that already exist in a Word document, you’ll have to first add these styles to a blank Word file and then open that file with Python-Docx. There should be one invitation per page in the resulting Word document, so call add_break() to add a page break after the last paragraph of each invitation. This way, you will need to open only one Word document to print all of the invitations at once.\n",
    "\n",
    "An Excel spreadsheet with values in rows 1, 3, and 5 only.\n",
    "Figure 17-10: The Word document generated by your custom invite script Description\n",
    "\n",
    "You can download a sample guests.txt file from the book’s online resources."
   ]
  },
  {
   "cell_type": "markdown",
   "id": "6a8cac57",
   "metadata": {},
   "source": [
    "### PDF Password Breaker\n",
    "Say you have an encrypted PDF that you’ve forgotten the password to, but you remember it was a single English word. Trying to guess your forgotten password is quite a boring task. Instead, you can write a program that will decrypt the PDF by trying every possible English word until it finds one that works. This is called a brute-force password attack. Download the text file dictionary.txt from the book’s online resources. This dictionary file contains over 44,000 English words, with one word per line.\n",
    "\n",
    "Using the file-reading skills you learned in Chapter 10, create a list of word strings by reading this file. Then, loop over each word in this list, passing it to the decrypt() method. You should try both the uppercase and lowercase forms of each word. (On my laptop, going through all 88,000 uppercase and lowercase words from the dictionary file takes a couple of minutes. This is why you shouldn’t use a simple English word for your passwords.)"
   ]
  }
 ],
 "metadata": {
  "kernelspec": {
   "display_name": "3.10.12",
   "language": "python",
   "name": "python3"
  },
  "language_info": {
   "codemirror_mode": {
    "name": "ipython",
    "version": 3
   },
   "file_extension": ".py",
   "mimetype": "text/x-python",
   "name": "python",
   "nbconvert_exporter": "python",
   "pygments_lexer": "ipython3",
   "version": "3.10.12"
  }
 },
 "nbformat": 4,
 "nbformat_minor": 5
}
