{
 "cells": [
  {
   "cell_type": "markdown",
   "id": "afe73d00",
   "metadata": {},
   "source": [
    "# Chapter 18 - CSV, JSON, XML Files"
   ]
  },
  {
   "cell_type": "markdown",
   "id": "56cad65e",
   "metadata": {},
   "source": [
    "## Notes"
   ]
  },
  {
   "cell_type": "markdown",
   "id": "9f9f06d2",
   "metadata": {},
   "source": [
    "## Practice Questions"
   ]
  },
  {
   "cell_type": "markdown",
   "id": "4b7f7dd5",
   "metadata": {},
   "source": [
    "1. What are some features that Excel spreadsheets have but CSV spreadsheets don’t?  \n",
    "    **Answer:**\n",
    "    - Don’t have multiple data types; every value is a string\n",
    "    - Don’t have settings for font size or color\n",
    "    - Don’t have multiple worksheets\n",
    "    - Can’t specify cell widths or cell heights\n",
    "    - Can’t merge cells\n",
    "    - Can’t have embedded images or charts"
   ]
  },
  {
   "cell_type": "markdown",
   "id": "8d03cc49",
   "metadata": {},
   "source": [
    "2. What do you pass to csv.reader() and csv.writer() to create reader and writer objects?  \n",
    "    **Answer:** csv filename to read from or write to"
   ]
  },
  {
   "cell_type": "markdown",
   "id": "b0fdff3d",
   "metadata": {},
   "source": [
    "3. What modes do File objects for reader and writer objects need to be opened in?  \n",
    "    **Answer:** read = 'r', write = 'w'"
   ]
  },
  {
   "cell_type": "markdown",
   "id": "35c70545",
   "metadata": {},
   "source": [
    "4. What method takes a list argument and writes it to a CSV file?  \n",
    "    **Answer:** `writerow()`"
   ]
  },
  {
   "cell_type": "markdown",
   "id": "6535a6cb",
   "metadata": {},
   "source": [
    "5. What do the delimiter and lineterminator keyword arguments do?  \n",
    "    **Answer:** delimiter - sets the separating character between the values (default=',')\n",
    "    lineterminator - sets the character to end the line with (defautl='\\n')"
   ]
  },
  {
   "cell_type": "markdown",
   "id": "6fa51d44",
   "metadata": {},
   "source": [
    "6. Of CSV, JSON, and XML, which formats can be easily edited with a text editor application?  \n",
    "    **Answer:** All"
   ]
  },
  {
   "cell_type": "markdown",
   "id": "be21660b",
   "metadata": {},
   "source": [
    "7. What function takes a string of JSON data and returns a Python data structure?  \n",
    "    **Answer:** `json.loads()`"
   ]
  },
  {
   "cell_type": "markdown",
   "id": "9fc75575",
   "metadata": {},
   "source": [
    "8. What function takes a Python data structure and returns a string of JSON data?  \n",
    "    **Answer:** `json.dumps()`"
   ]
  },
  {
   "cell_type": "markdown",
   "id": "8094f70f",
   "metadata": {},
   "source": [
    "9. Which data serialization format resembles HTML, with tags enclosed in angle brackets?  \n",
    "    **Answer:** XML"
   ]
  },
  {
   "cell_type": "markdown",
   "id": "c28d349a",
   "metadata": {},
   "source": [
    "10. How does JSON write None values?  \n",
    "    **Answer:** null"
   ]
  },
  {
   "cell_type": "markdown",
   "id": "45b6ee93",
   "metadata": {},
   "source": [
    "11. How do you write Boolean values in JSON?  \n",
    "    **Answer:** true/false"
   ]
  },
  {
   "cell_type": "markdown",
   "id": "d88badc9",
   "metadata": {},
   "source": [
    "## Practice Programs"
   ]
  },
  {
   "cell_type": "markdown",
   "id": "e3fcdb0e",
   "metadata": {},
   "source": [
    "### Excel-to-CSV Converter\n",
    "Excel can save a spreadsheet to a CSV file with a few mouse clicks, but if you had to convert hundreds of Excel files to CSVs, it would take hours of clicking. Using the openpyxl module from Chapter 14, write a program that reads all the Excel files in the current working directory and outputs them as CSV files.\n",
    "\n",
    "A single Excel file might contain multiple sheets; you’ll have to create one CSV file per sheet. The filenames of the CSV files should be `<excel filename>_<sheet title>.csv`, where `<excel filename>` is the filename of the Excel file without the file extension (for example, spam_data, not spam_data.xlsx) and `<sheet title>` is the string from the Worksheet object’s title variable.\n",
    "\n",
    "This program will involve many nested for loops. The skeleton of the program should look something like this:\n",
    "\n",
    "```\n",
    "for excel_file in os.listdir('.'):\n",
    "    # Skip non-xlsx files, load the workbook object.\n",
    "    for sheet_name in wb.sheetnames:\n",
    "        # Loop through every sheet in the workbook.\n",
    "        # Create the CSV filename from the Excel filename and sheet title.\n",
    "        # Create the csv.writer object for this CSV file.\n",
    "\n",
    "        # Loop through every row in the sheet.\n",
    "        for row_num in range(1, sheet.max_row + 1):\n",
    "            row_data = []    # Append each cell to this list.\n",
    "            # Loop through each cell in the row.\n",
    "            for col_num in range(1, sheet.max_column + 1):\n",
    "                # Append each cell's data to row_data\n",
    "           \n",
    "            # Write the row_data list to the CSV file.\n",
    "\n",
    "        csv_file.close()\n",
    "```\n",
    "\n",
    "Download the ZIP file excelSpreadsheets.zip from the book’s online resources and unzip the spreadsheets into the same directory as your program. You can use these as the files to test the program on."
   ]
  }
 ],
 "metadata": {
  "kernelspec": {
   "display_name": "3.10.12",
   "language": "python",
   "name": "python3"
  },
  "language_info": {
   "codemirror_mode": {
    "name": "ipython",
    "version": 3
   },
   "file_extension": ".py",
   "mimetype": "text/x-python",
   "name": "python",
   "nbconvert_exporter": "python",
   "pygments_lexer": "ipython3",
   "version": "3.10.12"
  }
 },
 "nbformat": 4,
 "nbformat_minor": 5
}
