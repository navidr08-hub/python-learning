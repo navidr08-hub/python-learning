{
 "cells": [
  {
   "cell_type": "markdown",
   "id": "afe73d00",
   "metadata": {},
   "source": [
    "# Chapter 3 - Loops"
   ]
  },
  {
   "cell_type": "markdown",
   "id": "56cad65e",
   "metadata": {},
   "source": [
    "## Notes"
   ]
  },
  {
   "cell_type": "markdown",
   "id": "7bf293fd",
   "metadata": {},
   "source": [
    "- When used in conditions, 0, 0.0, and '' (the empty string) are considered False, while all other values are considered True\n",
    "- Default arguments for range(start=0, stop, step=1)\n",
    "- When you save your Python scripts, take care not to give them a name that is used by one of Python’s modules, such as random.py, sys.py, os.py, or math.py. If you accidentally name one of your programs, say, random.py, and use an import random statement in another program, your program will import your random.py file instead of Python’s random module."
   ]
  },
  {
   "cell_type": "markdown",
   "id": "76985bd2",
   "metadata": {},
   "source": [
    "### Rock, Paper, Scissors  \n",
    "\n",
    "Let’s use the programming concepts we’ve learned so far to create a simple rock, paper, scissors game. The output will look like this:"
   ]
  },
  {
   "cell_type": "code",
   "execution_count": 9,
   "id": "530e1e4e",
   "metadata": {},
   "outputs": [
    {
     "name": "stdout",
     "output_type": "stream",
     "text": [
      "ROCK, PAPER, SCISSORS\n",
      "0 Wins, 0 Losses, 0 Ties\n",
      "Enter your move: (r)ock (p)aper (s)cissors or (q)uit\n",
      "PAPER versus...\n",
      "ROCK\n",
      "You win!\n",
      "1 Wins, 0 Losses, 0 Ties\n",
      "Enter your move: (r)ock (p)aper (s)cissors or (q)uit\n",
      "PAPER versus...\n",
      "SCISSORS\n",
      "You lose!\n",
      "1 Wins, 1 Losses, 0 Ties\n",
      "Enter your move: (r)ock (p)aper (s)cissors or (q)uit\n",
      "PAPER versus...\n",
      "SCISSORS\n",
      "You lose!\n",
      "1 Wins, 2 Losses, 0 Ties\n",
      "Enter your move: (r)ock (p)aper (s)cissors or (q)uit\n",
      "PAPER versus...\n",
      "ROCK\n",
      "You win!\n",
      "2 Wins, 2 Losses, 0 Ties\n",
      "Enter your move: (r)ock (p)aper (s)cissors or (q)uit\n",
      "ROCK versus...\n",
      "ROCK\n",
      "It is a tie!\n",
      "2 Wins, 2 Losses, 1 Ties\n",
      "Enter your move: (r)ock (p)aper (s)cissors or (q)uit\n",
      "ROCK versus...\n",
      "SCISSORS\n",
      "You win!\n",
      "3 Wins, 2 Losses, 1 Ties\n",
      "Enter your move: (r)ock (p)aper (s)cissors or (q)uit\n"
     ]
    },
    {
     "ename": "SystemExit",
     "evalue": "",
     "output_type": "error",
     "traceback": [
      "An exception has occurred, use %tb to see the full traceback.\n",
      "\u001b[0;31mSystemExit\u001b[0m\n"
     ]
    },
    {
     "name": "stderr",
     "output_type": "stream",
     "text": [
      "/home/abdurr08/.pyenv/versions/3.10.12/lib/python3.10/site-packages/IPython/core/interactiveshell.py:3587: UserWarning: To exit: use 'exit', 'quit', or Ctrl-D.\n",
      "  warn(\"To exit: use 'exit', 'quit', or Ctrl-D.\", stacklevel=1)\n"
     ]
    }
   ],
   "source": [
    "import random, sys\n",
    "\n",
    "print('ROCK, PAPER, SCISSORS')\n",
    "\n",
    "# These variables keep track of the number of wins, losses, and ties.\n",
    "wins = 0\n",
    "losses = 0\n",
    "ties = 0\n",
    "\n",
    "while True:  # The main game loop\n",
    "    print('%s Wins, %s Losses, %s Ties' % (wins, losses, ties))\n",
    "    while True:  # The player input loop\n",
    "        print('Enter your move: (r)ock (p)aper (s)cissors or (q)uit')\n",
    "        player_move = input('>')\n",
    "        if player_move == 'q':\n",
    "            sys.exit()  # Quit the program.\n",
    "        if player_move == 'r' or player_move == 'p' or player_move == 's':\n",
    "            break  # Break out of the player input loop.\n",
    "        print('Type one of r, p, s, or q.')\n",
    "\n",
    "    # Display what the player chose:\n",
    "    if player_move == 'r':\n",
    "        print('ROCK versus...')\n",
    "    elif player_move == 'p':\n",
    "        print('PAPER versus...')\n",
    "    elif player_move == 's':\n",
    "        print('SCISSORS versus...')\n",
    "\n",
    "    # Display what the computer chose:\n",
    "    move_number = random.randint(1, 3)\n",
    "    if move_number == 1:\n",
    "        computer_move = 'r'\n",
    "        print('ROCK')\n",
    "    elif move_number == 2:\n",
    "        computer_move = 'p'\n",
    "        print('PAPER')\n",
    "    elif move_number == 3:\n",
    "        computer_move = 's'\n",
    "        print('SCISSORS')\n",
    "\n",
    "    # Display and record the win/loss/tie:\n",
    "    if player_move == computer_move:\n",
    "        print('It is a tie!')\n",
    "        ties = ties + 1\n",
    "    elif player_move == 'r' and computer_move == 's':\n",
    "        print('You win!')\n",
    "        wins = wins + 1\n",
    "    elif player_move == 'p' and computer_move == 'r':\n",
    "        print('You win!')\n",
    "        wins = wins + 1\n",
    "    elif player_move == 's' and computer_move == 'p':\n",
    "        print('You win!')\n",
    "        wins = wins + 1\n",
    "    elif player_move == 'r' and computer_move == 'p':\n",
    "        print('You lose!')\n",
    "        losses = losses + 1\n",
    "    elif player_move == 'p' and computer_move == 's':\n",
    "        print('You lose!')\n",
    "        losses = losses + 1\n",
    "    elif player_move == 's' and computer_move == 'r':\n",
    "        print('You lose!')\n",
    "        losses = losses + 1"
   ]
  },
  {
   "cell_type": "markdown",
   "id": "9f9f06d2",
   "metadata": {},
   "source": [
    "## Practice Questions"
   ]
  },
  {
   "cell_type": "markdown",
   "id": "4b7f7dd5",
   "metadata": {},
   "source": [
    "1. What keys can you press if your Python program is stuck in an infinite loop?  \n",
    "    **Answer:** Ctrl+C"
   ]
  },
  {
   "cell_type": "markdown",
   "id": "8d03cc49",
   "metadata": {},
   "source": [
    "2. What is the difference between break and continue?  \n",
    "    **Answer:**  `break` exits the loop, `continue` skips to the next iteration of the loop."
   ]
  },
  {
   "cell_type": "markdown",
   "id": "35c70545",
   "metadata": {},
   "source": [
    "3. What is the difference between range(10), range(0, 10), and range(0, 10, 1) in a for loop?  \n",
    "    **Answer:** There is no difference they all represent numbers 0-9 inclusive."
   ]
  },
  {
   "cell_type": "markdown",
   "id": "6535a6cb",
   "metadata": {},
   "source": [
    "4. Write a short program that prints the numbers 1 to 10 using a for loop. Then, write an equivalent program that prints the numbers 1 to 10 using a while loop.  \n",
    "    **Answer:**"
   ]
  },
  {
   "cell_type": "code",
   "execution_count": 8,
   "id": "223d9dcd",
   "metadata": {},
   "outputs": [
    {
     "name": "stdout",
     "output_type": "stream",
     "text": [
      "1\n",
      "2\n",
      "3\n",
      "4\n",
      "5\n",
      "6\n",
      "7\n",
      "8\n",
      "9\n",
      "10\n",
      "\n",
      "\n",
      "1\n",
      "2\n",
      "3\n",
      "4\n",
      "5\n",
      "6\n",
      "7\n",
      "8\n",
      "9\n",
      "10\n"
     ]
    }
   ],
   "source": [
    "for i in range(1, 11):\n",
    "    print(i)\n",
    "\n",
    "print(\"\\n\")\n",
    "i = 1\n",
    "while i < 11:\n",
    "    print(i)\n",
    "    i += 1"
   ]
  },
  {
   "cell_type": "markdown",
   "id": "6fa51d44",
   "metadata": {},
   "source": [
    "5. If you had a function named bacon() inside a module named spam, how would you call it after importing spam?\n",
    "\n",
    "    **Answer:** spam.bacon()"
   ]
  }
 ],
 "metadata": {
  "kernelspec": {
   "display_name": "3.10.12",
   "language": "python",
   "name": "python3"
  },
  "language_info": {
   "codemirror_mode": {
    "name": "ipython",
    "version": 3
   },
   "file_extension": ".py",
   "mimetype": "text/x-python",
   "name": "python",
   "nbconvert_exporter": "python",
   "pygments_lexer": "ipython3",
   "version": "3.10.12"
  }
 },
 "nbformat": 4,
 "nbformat_minor": 5
}
