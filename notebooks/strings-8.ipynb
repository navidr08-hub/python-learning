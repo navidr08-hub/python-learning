{
 "cells": [
  {
   "cell_type": "markdown",
   "id": "afe73d00",
   "metadata": {},
   "source": [
    "# Chapter 8 - Strings and Text Editing"
   ]
  },
  {
   "cell_type": "markdown",
   "id": "56cad65e",
   "metadata": {},
   "source": [
    "## Notes"
   ]
  },
  {
   "cell_type": "markdown",
   "id": "955574bb",
   "metadata": {},
   "source": [
    "### Checking String Characteristics\n",
    "Along with `islower()` and `isupper()`, several other string methods have names beginning with the word is. These methods return a Boolean value that describes the nature of the string. Here are some common isX() string methods:  \n",
    "\n",
    "`isalpha()` Returns True if the string consists only of letters and isn’t blank  \n",
    "\n",
    "`isalnum()` Returns True if the string consists only of letters and numbers (alphanumerics) and isn’t blank  \n",
    "\n",
    "`isdecimal()` Returns True if the string consists only of numeric characters and isn’t blank  \n",
    "\n",
    "`isspace()` Returns True if the string consists only of spaces, tabs, and newlines and isn’t blank  \n",
    "\n",
    "`istitle()` Returns True if the string consists only of words that begin with an uppercase letter followed by only lowercase letters  \n",
    "\n",
    "Enter the following into the interactive shell:  "
   ]
  },
  {
   "cell_type": "markdown",
   "id": "80fc31a7",
   "metadata": {},
   "source": [
    "### Project 2: Add Bullets to Wiki Markup\n",
    "When editing a Wikipedia article, you can create a bulleted list by putting each list item on its own line and placing a star in front of it. But say you have a really large list that you want to add bullet points to. You could type those stars at the beginning of each line, one by one. Or you could automate this task with a short Python script.\n",
    "\n",
    "The bulletPointAdder.py script will get the text from the clipboard, add a star and space to the beginning of each line, and then paste this new text to the clipboard. For example, say I copied the following text (for the Wikipedia article “List of Lists of Lists”) to the clipboard:  \n",
    "\n",
    "```\n",
    "Lists of animals\n",
    "Lists of aquarium life\n",
    "Lists of biologists by author abbreviation\n",
    "Lists of cultivars"
   ]
  },
  {
   "cell_type": "markdown",
   "id": "9ff73715",
   "metadata": {},
   "source": [
    "Then, if I ran the bulletPointAdder.py program, the clipboard would contain the following:\n",
    "\n",
    "```\n",
    "* Lists of animals\n",
    "* Lists of aquarium life\n",
    "* Lists of biologists by author abbreviation\n",
    "* Lists of cultivars"
   ]
  },
  {
   "cell_type": "markdown",
   "id": "21bbb45a",
   "metadata": {},
   "source": [
    "This star-prefixed text is ready to be pasted into a Wikipedia article as a bulleted list."
   ]
  },
  {
   "cell_type": "markdown",
   "id": "865471c2",
   "metadata": {},
   "source": [
    "#### Step 1: Copy and Paste from the Clipboard\n",
    "You want the bulletPointAdder.py program to do the following:\n",
    "\n",
    "- Paste text from the clipboard.  \n",
    "- Do something to it.  \n",
    "- Copy the new text to the clipboard.  \n",
    "\n",
    "Manipulating the text is a little tricky, but copying and pasting are pretty straightforward: they just involve the `pyperclip.copy()` and `pyperclip.paste()` functions. For now, let’s write the part of the program that calls these functions. Enter the following, saving the program as bulletPointAdder.py:"
   ]
  },
  {
   "cell_type": "code",
   "execution_count": null,
   "id": "1db1f69f",
   "metadata": {},
   "outputs": [],
   "source": [
    "import pyperclip\n",
    "text = pyperclip.paste()\n",
    "\n",
    "# TODO: Separate lines and add stars.\n",
    "\n",
    "pyperclip.copy(text)"
   ]
  },
  {
   "cell_type": "markdown",
   "id": "78190e6b",
   "metadata": {},
   "source": [
    "The TODO comment is a reminder that you should complete this part of the program eventually. The next step is to actually implement that piece of the program."
   ]
  },
  {
   "cell_type": "markdown",
   "id": "2b7fad0f",
   "metadata": {},
   "source": [
    "#### Step 2: Separate the Lines of Text\n",
    "The call to pyperclip.paste() returns all the text on the clipboard as one big string. If we used the “List of Lists of Lists” example, the string stored in text would look like this:\n",
    "\n",
    "`'Lists of animals\\nLists of aquarium life\\nLists of biologists by author`  \n",
    "`abbreviation\\nLists of cultivars'`"
   ]
  },
  {
   "cell_type": "markdown",
   "id": "69449c24",
   "metadata": {},
   "source": [
    "The \\n newline characters in this string cause it to be displayed with multiple lines when printed or pasted from the clipboard. There are many “lines” in this one string value. You want to add a star to the start of each of these lines.\n",
    "\n",
    "You could write code that searches for each \\n newline character in the string and then adds the star just after that. But it would be easier to use the `split()` method to return a list of strings, one for each line in the original string, and then add the star to the front of each string in the list.\n",
    "\n",
    "Edit your program so that it looks like the following:"
   ]
  },
  {
   "cell_type": "code",
   "execution_count": null,
   "id": "03bec297",
   "metadata": {},
   "outputs": [],
   "source": [
    "import pyperclip\n",
    "text = pyperclip.paste()\n",
    "\n",
    "# Separate lines and add stars.\n",
    "lines = text.split('\\n')\n",
    "for i in range(len(lines)):  # Loop through all indexes in the \"lines\" list.\n",
    "    lines[i] = '* ' + lines[i] # Add a star to each string in the \"lines\" list.\n",
    "\n",
    "pyperclip.copy(text)"
   ]
  },
  {
   "cell_type": "markdown",
   "id": "516c6b1f",
   "metadata": {},
   "source": [
    "We split the text along its newlines to get a list in which each item is one line of the text. We store the list in lines and then loop through the items in lines. For each line, we add a star and a space to the start of the line. Now each string in lines begins with a star."
   ]
  },
  {
   "cell_type": "markdown",
   "id": "a1918450",
   "metadata": {},
   "source": [
    "#### Step 3: Join the Modified Lines\n",
    "The lines list now contains modified lines that start with stars. But `pyperclip.copy()` is expecting a single string value, not a list of string values. To make this single string value, pass lines into the `join()` method to get a single string joined from the list’s strings:"
   ]
  },
  {
   "cell_type": "code",
   "execution_count": null,
   "id": "35cc8575",
   "metadata": {},
   "outputs": [],
   "source": [
    "import pyperclip\n",
    "text = pyperclip.paste()\n",
    "\n",
    "# Separate lines and add stars.\n",
    "lines = text.split('\\n')\n",
    "for i in range(len(lines)):  # Loop through all indexes in the \"lines\" list.\n",
    "    lines[i] = '* ' + lines[i]  # Add a star to each string in the \"lines\" list.\n",
    "text = '\\n'.join(lines)\n",
    "pyperclip.copy(text)"
   ]
  },
  {
   "cell_type": "markdown",
   "id": "0fdd1c5e",
   "metadata": {},
   "source": [
    "When this program is run, it replaces the text on the clipboard with text that has stars at the start of each line. Now the program is complete, and you can try running it with text copied to the clipboard.\n",
    "\n",
    "Even if you don’t need to automate this specific task, you might want to automate some other kind of text manipulation, such as removing trailing spaces from the end of lines or converting text to uppercase or lowercase. Whatever your needs, you can use the clipboard for input and output."
   ]
  },
  {
   "cell_type": "markdown",
   "id": "9f9f06d2",
   "metadata": {},
   "source": [
    "## Practice Questions"
   ]
  },
  {
   "cell_type": "markdown",
   "id": "4b7f7dd5",
   "metadata": {},
   "source": [
    "1. What are escape characters?  \n",
    "    **Answer:** The escape character is denoted by `'\\'` and it is used to add a special character that would not be recognized in a double quote which are the following: newline `(\"\\n\")`, a tab `(\"\\t\")`, a single/double quote `(\"\\'\" or \"\\\"\")`, and a backslash `(\"\\\\\")`"
   ]
  },
  {
   "cell_type": "markdown",
   "id": "8d03cc49",
   "metadata": {},
   "source": [
    "2. What do the \\n and \\t escape characters represent?  \n",
    "    **Answer:** They represent a newline or linebreak and a a tab in a string, respectively."
   ]
  },
  {
   "cell_type": "markdown",
   "id": "b0fdff3d",
   "metadata": {},
   "source": [
    "3. How can you put a \\ backslash character in a string?  \n",
    "    **Answer:** By using a double backslash \"\\\\\\\\\""
   ]
  },
  {
   "cell_type": "markdown",
   "id": "35c70545",
   "metadata": {},
   "source": [
    "4. The string value \"Howl's Morving Castle\" is a valid string. Why isn't it a problem that the single quote character in the word Howl's isn't escaped?  \n",
    "    **Answer:** This is because it is being used within double quotes."
   ]
  },
  {
   "cell_type": "markdown",
   "id": "6535a6cb",
   "metadata": {},
   "source": [
    "5. If you don't want to put \\n in your string, how can you write a string with newlines in it?  \n",
    "    **Answer:** You can wrap your multiple text within triple (single/double) quotes. Example:"
   ]
  },
  {
   "cell_type": "code",
   "execution_count": 32,
   "id": "e8f8a933",
   "metadata": {},
   "outputs": [
    {
     "name": "stdout",
     "output_type": "stream",
     "text": [
      "Dear Alice,\n",
      "\n",
      "Can you feed Eve's cat this weekend?\n",
      "\n",
      "Sincerely,\n",
      "Bob\n"
     ]
    }
   ],
   "source": [
    "print('''Dear Alice,\n",
    "\n",
    "Can you feed Eve's cat this weekend?\n",
    "\n",
    "Sincerely,\n",
    "Bob''')"
   ]
  },
  {
   "cell_type": "markdown",
   "id": "6fa51d44",
   "metadata": {},
   "source": [
    "6. What do the following expressions evaluate to?  \n",
    "    - `'Hello, world!'[1]`  \n",
    "    - `'Hello, world!'[0:5]`  \n",
    "    - `'Hello, world!'[:5]`  \n",
    "    - `'Hello, world!'[3:]`  \n",
    "    **Answer:**\n",
    "    1. 'e'\n",
    "    2. 'Hello'\n",
    "    3. 'Hello'\n",
    "    4. 'lo, world!'"
   ]
  },
  {
   "cell_type": "markdown",
   "id": "be21660b",
   "metadata": {},
   "source": [
    "7. What do the following expressions evaluate to?  \n",
    "    - `'Hello'.upper()`  \n",
    "    - `'Hello'.upper().isupper()`  \n",
    "    - `'Hello'.upper().lower()`  \n",
    "    **Answer:**  \n",
    "    1. 'HELLO'\n",
    "    2. True\n",
    "    3. 'hello'"
   ]
  },
  {
   "cell_type": "markdown",
   "id": "9fc75575",
   "metadata": {},
   "source": [
    "8. What do the following expressions evaluate to?  \n",
    "    - `'Remember, remember, the fifth of November.'.split()`\n",
    "    - `'-'.join('There can only be one.'.split())`  \n",
    "    **Answer:**\n",
    "    2. 'There-can-only-be-one.'"
   ]
  },
  {
   "cell_type": "markdown",
   "id": "8094f70f",
   "metadata": {},
   "source": [
    "9. What string methods can you use to right-justify, left-justify, and center a string?  \n",
    "    **Answer:** `rjust()`, `ljust()`, `center()`"
   ]
  },
  {
   "cell_type": "markdown",
   "id": "c28d349a",
   "metadata": {},
   "source": [
    "10. How can you trim whitespace characters from the beginning or end of a string?  \n",
    "    **Answer:** `lstrip()`, `rstrip()`, `strip()`"
   ]
  },
  {
   "cell_type": "markdown",
   "id": "d88badc9",
   "metadata": {},
   "source": [
    "## Practice Programs"
   ]
  },
  {
   "cell_type": "markdown",
   "id": "1dbcf87c",
   "metadata": {},
   "source": [
    "### Table Printer\n",
    "For practice, write a function named printTable() that takes a list of lists of strings and displays it in a well-organized table with each column right- justified. Assume that all the inner lists will contain the same number of strings. For example, the value could look like this:"
   ]
  },
  {
   "cell_type": "code",
   "execution_count": 1,
   "id": "148b6ab9",
   "metadata": {},
   "outputs": [],
   "source": [
    "tableData = [['apples', 'oranges', 'cherries', 'banana'],\n",
    "             ['Alice', 'Bob', 'Carol', 'David'],\n",
    "             ['dogs', 'cats', 'moose', 'goose']]"
   ]
  },
  {
   "cell_type": "markdown",
   "id": "10aa3d9e",
   "metadata": {},
   "source": [
    "Your `printTable()` function would print the following:  \n",
    "\n",
    "`   apples Alice  dogs`  \n",
    "`  oranges   Bob  cats`  \n",
    "` cherries Carol moose`  \n",
    "`   banana David goose`"
   ]
  },
  {
   "cell_type": "markdown",
   "id": "d7ce3b69",
   "metadata": {},
   "source": [
    "**Hint:** Your code will first have to find the longest string in each of the inner lists so that the whole column can be wide enough to fit all the strings. You can store the maximum width of each column as a list of integers. The printTable() function can begin with colWidths = [0] * len(tableData), which will create a list containing the same number of 0 values as the number of inner lists in tableData. That way, colWidths[0] can store the width of the longest string in tableData[0], colWidths[1] can store the width of the longest string in tableData[1], and so on. You can then find the largest value in the colWidths list to find out what integer width to pass to the rjust() string method."
   ]
  },
  {
   "cell_type": "code",
   "execution_count": 30,
   "id": "c393984d",
   "metadata": {},
   "outputs": [
    {
     "name": "stdout",
     "output_type": "stream",
     "text": [
      "  apples Alice  dogs \n",
      " oranges   Bob  cats \n",
      "cherries Carol moose \n",
      "  banana David goose \n"
     ]
    }
   ],
   "source": [
    "def print_table(table: list):\n",
    "    col_len = len(table)\n",
    "    row_len = len(table[0])\n",
    "\n",
    "    col_widths = []\n",
    "\n",
    "    for col in table:\n",
    "        col_widths.append(len(max(col, key=len)))\n",
    "\n",
    "    for row in range(row_len):\n",
    "        for col in range(col_len):\n",
    "            print(table[col][row].rjust(col_widths[col]), end=\" \")\n",
    "\n",
    "        print()\n",
    "\n",
    "\n",
    "print_table(tableData)\n",
    "    "
   ]
  }
 ],
 "metadata": {
  "kernelspec": {
   "display_name": "3.10.12",
   "language": "python",
   "name": "python3"
  },
  "language_info": {
   "codemirror_mode": {
    "name": "ipython",
    "version": 3
   },
   "file_extension": ".py",
   "mimetype": "text/x-python",
   "name": "python",
   "nbconvert_exporter": "python",
   "pygments_lexer": "ipython3",
   "version": "3.10.12"
  }
 },
 "nbformat": 4,
 "nbformat_minor": 5
}
