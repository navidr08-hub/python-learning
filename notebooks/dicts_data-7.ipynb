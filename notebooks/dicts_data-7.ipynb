{
 "cells": [
  {
   "cell_type": "markdown",
   "id": "afe73d00",
   "metadata": {},
   "source": [
    "# Chapter 7 - Dictionaries and Structuring Data"
   ]
  },
  {
   "cell_type": "markdown",
   "id": "56cad65e",
   "metadata": {},
   "source": [
    "## Notes"
   ]
  },
  {
   "cell_type": "markdown",
   "id": "9f9f06d2",
   "metadata": {},
   "source": [
    "## Practice Questions"
   ]
  },
  {
   "cell_type": "markdown",
   "id": "4b7f7dd5",
   "metadata": {},
   "source": [
    "1. What does the code for an empty dictionary look like?  \n",
    "    **Answer:**"
   ]
  },
  {
   "cell_type": "code",
   "execution_count": 3,
   "id": "dfa797fc",
   "metadata": {},
   "outputs": [],
   "source": [
    "x = {}"
   ]
  },
  {
   "cell_type": "markdown",
   "id": "8d03cc49",
   "metadata": {},
   "source": [
    "2. What does a dictionary value with a key 'foo' and a value 42 look like?  \n",
    "    **Answer:**"
   ]
  },
  {
   "cell_type": "code",
   "execution_count": 4,
   "id": "90837bad",
   "metadata": {},
   "outputs": [],
   "source": [
    "a = {'foo': 42}"
   ]
  },
  {
   "cell_type": "markdown",
   "id": "b0fdff3d",
   "metadata": {},
   "source": [
    "3. What is the main difference between a dictionary and a list?  \n",
    "    **Answer:** The main difference would be that list items are accessed by indexes while dict items are accessed by 'keys'."
   ]
  },
  {
   "cell_type": "markdown",
   "id": "35c70545",
   "metadata": {},
   "source": [
    "4. What happens if you try to access spam['foo'] if spam is {'bar': 100}?  \n",
    "    **Answer:** A KeyError exception is raised because the key 'foo' does not exist."
   ]
  },
  {
   "cell_type": "markdown",
   "id": "6535a6cb",
   "metadata": {},
   "source": [
    "5. If a dictionary is stored in spam, what is the difference between the expressions 'cat' in spam and 'cat' in spam.keys()?  \n",
    "    **Answer:** No difference"
   ]
  },
  {
   "cell_type": "markdown",
   "id": "6fa51d44",
   "metadata": {},
   "source": [
    "6. If a dictionary is stored in spam, what is the difference between the expressions 'cat' in spam and 'cat' in spam.values()?  \n",
    "    **Answer:** `'cat' in spam` is equivalent to checking `'cat' in spam.keys()`. It is not the same as checking `cat' in spam.values()`, `'cat' in spam.values()` is checking if 'cat' is found in the values of the dict."
   ]
  },
  {
   "cell_type": "markdown",
   "id": "be21660b",
   "metadata": {},
   "source": [
    "7. What is a shortcut for the following code?  \n",
    "`if 'color' not in spam:`  \n",
    "    `spam['color'] = 'black'`  \n",
    "    **Answer:** `spam.setdefault('color', 'black')`"
   ]
  },
  {
   "cell_type": "markdown",
   "id": "9fc75575",
   "metadata": {},
   "source": [
    "8. What module and function can be used to “pretty-print” dictionary values?  \n",
    "    **Answer:** pprint.pprint()"
   ]
  },
  {
   "cell_type": "markdown",
   "id": "d88badc9",
   "metadata": {},
   "source": [
    "## Practice Programs"
   ]
  },
  {
   "cell_type": "markdown",
   "id": "e23a78ab",
   "metadata": {},
   "source": [
    "### Chess Dictionary Validator\n",
    "In this chapter, we used the dictionary value {'h1': 'bK', 'c6': 'wQ', 'g2': 'bB', 'h5': 'bQ', 'e3': 'wK'} to represent a chessboard. Write a function named isValidChessBoard() that takes a dictionary argument and returns True or False depending on whether the board is valid.  \n",
    "\n",
    "A valid board will have exactly one black king and exactly one white king. Each player can have at most 16 pieces, of which only eight can be pawns, and all pieces must be on a valid square from '1a' to '8h'. That is, a piece can’t be on square '9z'. The piece names should begin with either a 'w' or a 'b' to represent white or black, followed by 'pawn', 'knight', 'bishop', 'rook', 'queen', or 'king'. This function should detect when a bug has resulted in an improper chessboard. (This isn’t an exhaustive list of requirements, but it is close enough for this exercise.)"
   ]
  },
  {
   "cell_type": "code",
   "execution_count": 29,
   "id": "08752d0e",
   "metadata": {},
   "outputs": [
    {
     "name": "stdout",
     "output_type": "stream",
     "text": [
      "True\n"
     ]
    },
    {
     "data": {
      "text/plain": [
       "True"
      ]
     },
     "execution_count": 29,
     "metadata": {},
     "output_type": "execute_result"
    }
   ],
   "source": [
    "STARTING_PIECES = {'a8': 'bR', 'b8': 'bN', 'c8': 'bB', 'd8': 'bQ',\n",
    "'e8': 'bK', 'f8': 'bB', 'g8': 'bN', 'h8': 'bR', 'a7': 'bP', 'b7': 'bP',\n",
    "'c7': 'bP', 'd7': 'bP', 'e7': 'bP', 'f7': 'bP', 'g7': 'bP', 'h7': 'bP',\n",
    "'a1': 'wR', 'b1': 'wN', 'c1': 'wB', 'd1': 'wQ', 'e1': 'wK', 'f1': 'wB',\n",
    "'g1': 'wN', 'h1': 'wR', 'a2': 'wP', 'b2': 'wP', 'c2': 'wP', 'd2': 'wP',\n",
    "'e2': 'wP', 'f2': 'wP', 'g2': 'wP', 'h2': 'wP'}\n",
    "\n",
    "def is_valid_chessboard(board: dict):\n",
    "    try:\n",
    "        if len(board.keys()) > 32:\n",
    "            return False\n",
    "\n",
    "        if list(board.values()).count('wK') != 1:\n",
    "            return False\n",
    "        \n",
    "        if list(board.values()).count('bK') != 1:\n",
    "            return False\n",
    "\n",
    "        for coordinates in board.keys():\n",
    "            letter = str(coordinates[0])\n",
    "            number = int(coordinates[1])\n",
    "\n",
    "            if letter not in ['a', 'b', 'c', 'd', 'e', 'f', 'g', 'h']:\n",
    "                return False\n",
    "            \n",
    "            if number not in [1, 2, 3, 4, 5, 6, 7, 8]:\n",
    "                return False\n",
    "            \n",
    "        num_white = 0\n",
    "        num_black = 0\n",
    "            \n",
    "        for pieces in board.values():\n",
    "            color = pieces[0]\n",
    "            character = pieces[1]\n",
    "            \n",
    "            if character not in ['P', 'N', 'B', 'R', 'Q', 'K']:\n",
    "                return False\n",
    "            else:\n",
    "                if color == 'w':\n",
    "                    num_white += 1\n",
    "                elif color == 'b':\n",
    "                    num_black += 1\n",
    "                else:\n",
    "                    return False\n",
    "                \n",
    "        if num_white > 16 or num_black > 16:\n",
    "                return False\n",
    "\n",
    "        return True\n",
    "    except ValueError:\n",
    "        print(\"One of the coordinates or pieces are invalid\")\n",
    "        return False\n",
    "    \n",
    "current_board = {'h1': 'bK', 'c6': 'wQ', 'g2': 'bB', 'h5': 'bQ', 'e3': 'wK'}\n",
    "print(is_valid_chessboard(current_board))\n",
    "is_valid_chessboard(STARTING_PIECES)"
   ]
  },
  {
   "cell_type": "markdown",
   "id": "5f920e96",
   "metadata": {},
   "source": [
    "### Fantasy Game Inventory\n",
    "Say you’re creating a medieval fantasy video game. The data structure to model the player’s inventory is a dictionary whose keys are strings describing the item in the inventory and whose values are integers detailing how many of that item the player has. For example, the dictionary value {'rope': 1, 'torch': 6, 'gold coin': 42, 'dagger': 1, 'arrow': 12} means the player has one rope, six torches, 42 gold coins, and so on.  \n",
    "\n",
    "Write a function named display_inventory() that would take any possible “inventory” and display it like the following:  \n",
    "`Inventory:`  \n",
    "`12 arrow`  \n",
    "`42 gold coin`  \n",
    "`1 rope`  \n",
    "`6 torch`  \n",
    "`1 dagger`  \n",
    "`Total number of items: 62`\n",
    "\n",
    "Hint: You can use a for loop to loop through all keys in a dictionary."
   ]
  },
  {
   "cell_type": "code",
   "execution_count": 32,
   "id": "df161e4e",
   "metadata": {},
   "outputs": [
    {
     "name": "stdout",
     "output_type": "stream",
     "text": [
      "Inventory:\n",
      "1 rope\n",
      "6 torch\n",
      "42 gold coin\n",
      "1 dagger\n",
      "12 arrow\n",
      "Total number of items: 62\n"
     ]
    }
   ],
   "source": [
    "stuff = {'rope': 1, 'torch': 6, 'gold coin': 42, 'dagger': 1, 'arrow': 12}\n",
    "\n",
    "def display_inventory(inventory):\n",
    "    print(\"Inventory:\")\n",
    "    item_total = 0\n",
    "    for k, v in inventory.items():\n",
    "        print(v, k)\n",
    "        item_total += v\n",
    "    print(\"Total number of items: \" + str(item_total))\n",
    "\n",
    "display_inventory(stuff)"
   ]
  },
  {
   "cell_type": "markdown",
   "id": "72303d66",
   "metadata": {},
   "source": [
    "### List-to-Dictionary Loot Conversion\n",
    "Imagine that the same fantasy video game represents a vanquished dragon’s loot as a list of strings, like this:  \n",
    "`dragon_loot = ['gold coin', 'dagger', 'gold coin', 'gold coin', 'ruby']`  \n",
    "\n",
    "Write a function named add_to_inventory(inventory, added_items). The inventory parameter is a dictionary representing the player’s inventory (as in the previous project) and the added_items parameter is a list, like dragon_loot. The add_to_inventory() function should return a dictionary that represents the player’s updated inventory. Note that the added_items list can contain multiples of the same item. Your code could look something like this:"
   ]
  },
  {
   "cell_type": "code",
   "execution_count": 33,
   "id": "16a77cc5",
   "metadata": {},
   "outputs": [
    {
     "name": "stdout",
     "output_type": "stream",
     "text": [
      "Inventory:\n",
      "45 gold coin\n",
      "1 rope\n",
      "1 dagger\n",
      "1 ruby\n",
      "Total number of items: 48\n"
     ]
    }
   ],
   "source": [
    "def add_to_inventory(inventory: dict, added_items):\n",
    "    for item in added_items:\n",
    "        inventory.setdefault(item, 0)\n",
    "        inventory[item] += 1\n",
    "\n",
    "    return inventory\n",
    "\n",
    "inv = {'gold coin': 42, 'rope': 1}\n",
    "dragon_loot = ['gold coin', 'dagger', 'gold coin', 'gold coin', 'ruby']\n",
    "inv = add_to_inventory(inv, dragon_loot)\n",
    "display_inventory(inv)"
   ]
  },
  {
   "cell_type": "markdown",
   "id": "413e52c8",
   "metadata": {},
   "source": [
    "The previous program (with your display_inventory() function from the previous project) would output the following:  \n",
    "`Inventory:`  \n",
    "`45 gold coin`  \n",
    "`1 rope`  \n",
    "`1 ruby`  \n",
    "`1 dagger`  \n",
    "\n",
    "`Total number of items: 48`"
   ]
  }
 ],
 "metadata": {
  "kernelspec": {
   "display_name": "3.10.12",
   "language": "python",
   "name": "python3"
  },
  "language_info": {
   "codemirror_mode": {
    "name": "ipython",
    "version": 3
   },
   "file_extension": ".py",
   "mimetype": "text/x-python",
   "name": "python",
   "nbconvert_exporter": "python",
   "pygments_lexer": "ipython3",
   "version": "3.10.12"
  }
 },
 "nbformat": 4,
 "nbformat_minor": 5
}
