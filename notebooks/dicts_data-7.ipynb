{
 "cells": [
  {
   "cell_type": "markdown",
   "id": "afe73d00",
   "metadata": {},
   "source": [
    "# Chapter 7 - Dictionaries and Structuring Data"
   ]
  },
  {
   "cell_type": "markdown",
   "id": "56cad65e",
   "metadata": {},
   "source": [
    "## Notes"
   ]
  },
  {
   "cell_type": "markdown",
   "id": "d32cc22a",
   "metadata": {},
   "source": [
    "### Project 1: Interactive Chessboard Simulator"
   ]
  },
  {
   "cell_type": "markdown",
   "id": "1c354271",
   "metadata": {},
   "source": [
    "Even the earliest computers performed calculations far faster than any human, but back then, people considered chess a true demonstration of computational intelligence. We won’t create our own chess-playing program here. (That would require its own book!) But we can create an interactive chessboard program with what we’ve discussed so far.\n",
    "\n",
    "You don’t need to know the rules of chess for this program. Just know that chess is played on an 8×8 board with white and black pieces called pawns, knights, bishops, rooks, queens, and kings. The upper-left and lower-right squares of the board should be white, and our program assumes the background of the output window is black (unlike the white background of a paper book). Our chessboard program is just a board with pieces on it; it doesn’t even enforce the rules for how pieces move. We’ll use text characters to “draw” a chessboard, such as the one shown in Figure 7-3."
   ]
  },
  {
   "cell_type": "markdown",
   "id": "803e00f7",
   "metadata": {},
   "source": [
    "Graphics would be nice and would make the pieces more readily identifiable, but we’ve captured all the information about the pieces without them. This text-based approach allows us to write the program with just the print() function and doesn’t require us to install any sort of graphics library like Pygame (discussed in my book Invent Your Own Computer Games with Python [No Starch Press, 2016]) for our program.\n",
    "\n",
    "First, we need to design a data structure that can represent a chessboard and any possible configuration of pieces on it. The example from the previous section works: the board is a Python dictionary with string keys 'a1' to 'h8' to represent squares on the board. Note that these strings are always two characters long. Also, the letter is always lowercase and comes before the number. This specificity is important; we’ll use these details in the code.\n",
    "\n",
    "To represent the pieces, we’ll also use two-character strings, where the first letter is a lowercase 'w' or 'b' to indicate the white or black color, and the second letter is an uppercase 'P', 'N', 'B', 'R', 'Q', or 'K' to represent the kind of piece. Figure 7-4 shows each piece, along with its string representation."
   ]
  },
  {
   "cell_type": "markdown",
   "id": "03c4db63",
   "metadata": {},
   "source": [
    "The keys of the Python dictionary identify the squares of the board and the values identify the piece on that square. The absence of a key in the dictionary represents an empty square. A dictionary works well for storing this information: keys in a dictionary can be used only once, and squares on a chessboard can have only one piece on them at a time."
   ]
  },
  {
   "cell_type": "markdown",
   "id": "7c8c3ef6",
   "metadata": {},
   "source": [
    "#### Step 1: Set Up the Program\n",
    "The first part of the program imports the sys module for its exit() function and the copy module for its copy() function. At the start of the game, the white and black players have 16 pieces each. The STARTING_PIECES constant will hold a chessboard dictionary with all the proper pieces in their correct starting positions:"
   ]
  },
  {
   "cell_type": "code",
   "execution_count": 35,
   "id": "4ccb9966",
   "metadata": {},
   "outputs": [],
   "source": [
    "import sys, copy\n",
    "\n",
    "STARTING_PIECES = {'a8': 'bR', 'b8': 'bN', 'c8': 'bB', 'd8': 'bQ',\n",
    "'e8': 'bK', 'f8': 'bB', 'g8': 'bN', 'h8': 'bR', 'a7': 'bP', 'b7': 'bP',\n",
    "'c7': 'bP', 'd7': 'bP', 'e7': 'bP', 'f7': 'bP', 'g7': 'bP', 'h7': 'bP',\n",
    "'a1': 'wR', 'b1': 'wN', 'c1': 'wB', 'd1': 'wQ', 'e1': 'wK', 'f1': 'wB',\n",
    "'g1': 'wN', 'h1': 'wR', 'a2': 'wP', 'b2': 'wP', 'c2': 'wP', 'd2': 'wP',\n",
    "'e2': 'wP', 'f2': 'wP', 'g2': 'wP', 'h2': 'wP'}"
   ]
  },
  {
   "cell_type": "markdown",
   "id": "b1889143",
   "metadata": {},
   "source": [
    "(This code is a bit hard to type. You can copy and paste it from https://autbor.com/3/chessboard.py.) Whenever the program needs to reset the chessboard to the starting setup, it can copy STARTING_PIECES with the copy.copy() function."
   ]
  },
  {
   "cell_type": "markdown",
   "id": "3dc93905",
   "metadata": {},
   "source": [
    "#### Step 2: Create a Chessboard Template\n",
    "The `BOARD_TEMPLATE` variable will contain a string that acts as a template for a chessboard. The program can insert the strings of individual pieces into it before printing. By using three double-quote characters in a row, we can create a multiline string that spans several lines of code. The multiline string ends with another three double-quote characters. This Python syntax is easier than trying to fit everything on a single line with \\n escape characters. You’ll learn more about multiline strings in the next chapter."
   ]
  },
  {
   "cell_type": "code",
   "execution_count": 36,
   "id": "b58a12ff",
   "metadata": {},
   "outputs": [],
   "source": [
    "BOARD_TEMPLATE = \"\"\"\n",
    "    a    b    c    d    e    f    g    h\n",
    "   ____ ____ ____ ____ ____ ____ ____ ____\n",
    "  ||||||    ||||||    ||||||    ||||||    |\n",
    "8 ||{}|| {} ||{}|| {} ||{}|| {} ||{}|| {} |\n",
    "  ||||||____||||||____||||||____||||||____|\n",
    "  |    ||||||    ||||||    ||||||    ||||||\n",
    "7 | {} ||{}|| {} ||{}|| {} ||{}|| {} ||{}||\n",
    "  |____||||||____||||||____||||||____||||||\n",
    "  ||||||    ||||||    ||||||    ||||||    |\n",
    "6 ||{}|| {} ||{}|| {} ||{}|| {} ||{}|| {} |\n",
    "  ||||||____||||||____||||||____||||||____|\n",
    "  |    ||||||    ||||||    ||||||    ||||||\n",
    "5 | {} ||{}|| {} ||{}|| {} ||{}|| {} ||{}||\n",
    "  |____||||||____||||||____||||||____||||||\n",
    "  ||||||    ||||||    ||||||    ||||||    |\n",
    "4 ||{}|| {} ||{}|| {} ||{}|| {} ||{}|| {} |\n",
    "  ||||||____||||||____||||||____||||||____|\n",
    "  |    ||||||    ||||||    ||||||    ||||||\n",
    "3 | {} ||{}|| {} ||{}|| {} ||{}|| {} ||{}||\n",
    "  |____||||||____||||||____||||||____||||||\n",
    "  ||||||    ||||||    ||||||    ||||||    |\n",
    "2 ||{}|| {} ||{}|| {} ||{}|| {} ||{}|| {} |\n",
    "  ||||||____||||||____||||||____||||||____|\n",
    "  |    ||||||    ||||||    ||||||    ||||||\n",
    "1 | {} ||{}|| {} ||{}|| {} ||{}|| {} ||{}||\n",
    "  |____||||||____||||||____||||||____||||||\n",
    "\"\"\"\n",
    "WHITE_SQUARE = '||'\n",
    "BLACK_SQUARE = '  '"
   ]
  },
  {
   "cell_type": "markdown",
   "id": "e1ba5fca",
   "metadata": {},
   "source": [
    "The pairs of curly brackets represent places in the string where we’ll insert chess piece strings such as 'wR' or 'bQ'. If the square is empty, the program will insert the `WHITE_SQUARE` or `BLACK_SQUARE` string instead, which I’ll explain in more detail when we discuss the `print_chessboard()` function."
   ]
  },
  {
   "cell_type": "markdown",
   "id": "5424187b",
   "metadata": {},
   "source": [
    "Step 3: Print the Current Chessboard\n",
    "We’ll define a print_chessboard() function that accepts the chessboard dictionary, then prints a chessboard on the screen that reflects the pieces on this board. We’ll call the `format()` string method on the `BOARD_TEMPLATE` string, passing the method a list of strings. The `format()` method returns a new string with the `{}` pairs in `BOARD_TEMPLATE` replaced by the strings in the passed-in list. You’ll learn more about `format()` in the next chapter.\n",
    "\n",
    "Let’s take a look at the code in `print_chessboard()`:\n",
    "\n",
    "The strings in the x and y loop variables concatenate together to form a two-character square string. For example, if x is 'a' and y is '8', then x + y evaluates to 'a8', and x + y in board.keys() checks if this string exists as a key in the chessboard dictionary. If it does, the code appends the chess piece string for that square to the end of the squares list.\n",
    "\n",
    "If it does not, the code must append the blank square string in WHITE_SQUARE or BLACK_SQUARE, depending on the value in is_white_square. Once the code is done processing this chessboard square, it toggles the Boolean value in is_white_square to its opposite value (because the next square over will be the opposite color). The variable needs to be toggled again after finishing a row at the end of the outermost for loop.\n",
    "\n",
    "After the loops have finished, the squares list contains 64 strings. However, the format() string method doesn’t take a single list argument, but rather one string argument per {} pair to replace. The asterisk * next to the squares tells Python to pass the values in this list as individual arguments. This is a bit subtle, but imagine that you have a list spam = ['cat', 'dog', 'rat']. If you call print(spam), Python will print the list value, along with its square brackets, quotes, and commas. However, calling print(*spam) is equivalent to calling print('cat', 'dog', 'rat'), which simply prints cat dog rat. I call this star syntax.\n",
    "\n",
    "The print_chessboard() function is written to work with the specific data structure we use to represent chessboards: a Python dictionary with keys of square strings, like 'a8', and values of pieces of strings, like 'bQ'. If we had designed our data structure differently, we’d have to write our function differently too. The print_chessboard() prints out a text-based representation of the board, but if we were using a graphics library like Pygame to render the chessboard, we could still use this Python dictionary to represent the chessboard configuration."
   ]
  },
  {
   "cell_type": "code",
   "execution_count": null,
   "id": "20b1deb6",
   "metadata": {},
   "outputs": [],
   "source": [
    "def print_chessboard(board):\n",
    "    squares = []\n",
    "    is_white_square = True\n",
    "    for y in '87654321':\n",
    "        for x in 'abcdefgh':\n",
    "            # print(x, y, is_white_square)  # DEBUG: Show coordinates\n",
    "            pass            "
   ]
  },
  {
   "cell_type": "markdown",
   "id": "ca08e95e",
   "metadata": {},
   "source": [
    "There are 64 squares on a chessboard and 64 `{}` pairs in the `BOARD_TEMPLATE` string. We must build up a list of 64 strings to replace these {} pairs. We store this list in the squares variable. The strings in this list represent either chess pieces, like 'wB' and 'bQ', or empty squares. Depending on whether the empty square is white or black, we must use the `WHITE_SQUARE` string `('||')` or the `BLACK_SQUARE` string `(' ')`. We’ll use a Boolean value in the `is_white_square` variable to keep track of which squares are white and which are black.\n",
    "\n",
    "Two nested for loops will loop over all 64 squares on the board, starting with the upper-left square and going right to left, then top to bottom. The square in the upper left is a white square, so we’ll start `is_white_square` as True. Remember that for loops can loop over the integers given by range(), the value in a list, or the individual characters in a string. In these two for loops, the y and x variables take on the characters in the strings `'87654321'` and `'abcdefgh'`, respectively. To see the order in which the code loops over the squares (along with the color of each square), uncomment the `print(x, y, is_white_square)` line of code before running the program.\n",
    "\n",
    "The code inside the for loops builds up the squares list with the appropriate strings:"
   ]
  },
  {
   "cell_type": "code",
   "execution_count": null,
   "id": "9171a9ee",
   "metadata": {},
   "outputs": [],
   "source": [
    "# if x + y in board.keys():\n",
    "#     squares.append(board[x + y])\n",
    "# else:\n",
    "#     if is_white_square:\n",
    "#         squares.append(WHITE_SQUARE)\n",
    "#     else:\n",
    "#         squares.append(BLACK_SQUARE)\n",
    "# is_white_square = not is_white_square\n",
    "# is_white_square = not is_white_square\n",
    "\n",
    "# print(BOARD_TEMPLATE.format(*squares))"
   ]
  },
  {
   "cell_type": "markdown",
   "id": "7072734f",
   "metadata": {},
   "source": [
    "The strings in the x and y loop variables concatenate together to form a two-character square string. For example, if x is 'a' and y is '8', then x + y evaluates to 'a8', and x + y in `board.keys()` checks if this string exists as a key in the chessboard dictionary. If it does, the code appends the chess piece string for that square to the end of the squares list.\n",
    "\n",
    "If it does not, the code must append the blank square string in `WHITE_SQUARE` or `BLACK_SQUARE`, depending on the value in `is_white_square`. Once the code is done processing this chessboard square, it toggles the Boolean value in `is_white_square` to its opposite value (because the next square over will be the opposite color). The variable needs to be toggled again after finishing a row at the end of the outermost for loop.\n",
    "\n",
    "After the loops have finished, the squares list contains 64 strings. However, the format() string method doesn’t take a single list argument, but rather one string argument per {} pair to replace. The asterisk * next to the squares tells Python to pass the values in this list as individual arguments. This is a bit subtle, but imagine that you have a list `spam = ['cat', 'dog', 'rat']`. If you call print(spam), Python will print the list value, along with its square brackets, quotes, and commas. However, calling `print(*spam)` is equivalent to calling `print('cat', 'dog', 'rat')`, which simply prints cat dog rat. I call this star syntax.\n",
    "\n",
    "The `print_chessboard()` function is written to work with the specific data structure we use to represent chessboards: a Python dictionary with keys of square strings, like 'a8', and values of pieces of strings, like 'bQ'. If we had designed our data structure differently, we’d have to write our function differently too. The print_chessboard() prints out a text-based representation of the board, but if we were using a graphics library like Pygame to render the chessboard, we could still use this Python dictionary to represent the chessboard configuration."
   ]
  },
  {
   "cell_type": "markdown",
   "id": "b9dec2a0",
   "metadata": {},
   "source": [
    "#### Step 4: Manipulate the Chessboard\n",
    "Now that we have a way to represent a chessboard in a Python dictionary and a function to display a chessboard based on that dictionary, let’s write code that moves pieces on the board by manipulating the keys and values of the dictionary. After the `print_chessboard()` function’s def block, the main part of the program displays text explaining how to use the interactive chessboard program:"
   ]
  },
  {
   "cell_type": "code",
   "execution_count": null,
   "id": "8249af7e",
   "metadata": {},
   "outputs": [],
   "source": [
    "print('Interactive Chessboard')\n",
    "print('by Al Sweigart al@inventwithpython.com')\n",
    "print()\n",
    "print('Pieces:')\n",
    "print('  w - White, b - Black')\n",
    "print('  P - Pawn, N - Knight, B - Bishop, R - Rook, Q - Queen, K - King')\n",
    "print('Commands:')\n",
    "print('  move e2 e4 - Moves the piece at e2 to e4')\n",
    "print('  remove e2 - Removes the piece at e2')\n",
    "print('  set e2 wP - Sets square e2 to a white pawn')\n",
    "print('  reset - Resets pieces back to their starting squares')\n",
    "print('  clear - Clears the entire board')\n",
    "print('  fill wP - Fills entire board with white pawns.')\n",
    "print('  quit - Quits the program')"
   ]
  },
  {
   "cell_type": "markdown",
   "id": "15c4bb93",
   "metadata": {},
   "source": [
    "The program can move pieces, remove pieces, set squares with a piece, reset the board, and clear the board by changing the chessboard dictionary:"
   ]
  },
  {
   "cell_type": "code",
   "execution_count": null,
   "id": "da76d10b",
   "metadata": {},
   "outputs": [],
   "source": [
    "# main_board = copy.copy(STARTING_PIECES)\n",
    "# while True:\n",
    "#     print_chessboard(main_board)\n",
    "#     response = input('> ').split()"
   ]
  },
  {
   "cell_type": "markdown",
   "id": "88d6287a",
   "metadata": {},
   "source": [
    "To begin, the `main_board` variable receives a copy of the `STARTING_PIECES` dictionary, which is a dictionary of all chess pieces in their standard starting positions. The execution enters an infinite loop that allows the user to enter commands. For example, if the user enters move e2 e4 after `input()` is called, the `split()` method returns the list `['move', 'e2', 'e4']`, which the program then stores in the response variable. The first item in the response list, `response[0]`, will be the command the user wants to carry out:"
   ]
  },
  {
   "cell_type": "code",
   "execution_count": null,
   "id": "3b521411",
   "metadata": {},
   "outputs": [],
   "source": [
    "#  if response[0] == 'move':\n",
    "#         main_board[response[2]] = main_board[response[1]]\n",
    "#         del main_board[response[1]]"
   ]
  },
  {
   "cell_type": "markdown",
   "id": "56e75c7f",
   "metadata": {},
   "source": [
    "If the user enters something like move e2 e4, then `response[0]` is 'move'. We can “move” a piece from one square to another by first copying the piece in main_board from the old square (in response[1]) to the new square (in response[2]). Then, we can delete the key-value pair for the old square in main_board. This has the effect of making it seem like the piece has moved (though we won’t see this change until we call `print_chessboard()` again).\n",
    "\n",
    "Our interactive chessboard simulator doesn’t check if this is a valid move to make. It just carries out the commands given by the user. If the user enters something like remove e2, the program will set response to `['remove', 'e2']`:"
   ]
  },
  {
   "cell_type": "code",
   "execution_count": null,
   "id": "5e2125ee",
   "metadata": {},
   "outputs": [],
   "source": [
    "# elif response[0] == 'remove':\n",
    "#     del main_board[response[1]]"
   ]
  },
  {
   "cell_type": "markdown",
   "id": "fdfab3ce",
   "metadata": {},
   "source": [
    "By deleting the key-value pair at key response[1] from main_board, we make the piece disappear from the board. If the user enters something like set e2 wP to add a white pawn to e2, the program will set response to ['set', 'e2', 'wP']:"
   ]
  },
  {
   "cell_type": "code",
   "execution_count": null,
   "id": "89a3bf18",
   "metadata": {},
   "outputs": [],
   "source": [
    "# elif response[0] == 'set':\n",
    "#     main_board[response[1]] = response[2]"
   ]
  },
  {
   "cell_type": "markdown",
   "id": "eed1dbd5",
   "metadata": {},
   "source": [
    "We can create a new key-value pair with the `key response[1]` and value `response[2]` in main_board to add this piece to the board. If the user enters reset, response is simply `['reset']`, and we can set the board to its starting configuration by copying the `STARTING_PIECES` dictionary to `main_board`:"
   ]
  },
  {
   "cell_type": "code",
   "execution_count": null,
   "id": "64aa58e1",
   "metadata": {},
   "outputs": [],
   "source": [
    "# elif response[0] == 'reset':\n",
    "#     main_board = copy.copy(STARTING_PIECES)"
   ]
  },
  {
   "cell_type": "markdown",
   "id": "ef7c1304",
   "metadata": {},
   "source": [
    "If the user enters clear, response is simply ['clear'], and we can remove all pieces from the board by setting main_board to an empty dictionary:"
   ]
  },
  {
   "cell_type": "code",
   "execution_count": null,
   "id": "285abc25",
   "metadata": {},
   "outputs": [],
   "source": [
    "# elif response[0] == 'clear':\n",
    "#         main_board = {}"
   ]
  },
  {
   "cell_type": "markdown",
   "id": "c81e0d25",
   "metadata": {},
   "source": [
    "If the user enters fill wP, response is ['fill', 'wP'], and we change all 64 squares to the string 'wP':"
   ]
  },
  {
   "cell_type": "code",
   "execution_count": null,
   "id": "97ed26ab",
   "metadata": {},
   "outputs": [],
   "source": [
    "# elif response[0] == 'fill':\n",
    "#     for y in '87654321':\n",
    "#         for x in 'abcdefgh':\n",
    "#             main_board[x + y] = response[1]"
   ]
  },
  {
   "cell_type": "markdown",
   "id": "0a629e74",
   "metadata": {},
   "source": [
    "The nested for loops will loop over every square, setting the x + y key to response[1]. There’s no real reason to put 64 white pawns on a chessboard, but this command demonstrates how easy it is to manipulate the chessboard data structure however we want. Finally, the user can quit the program by entering quit:"
   ]
  },
  {
   "cell_type": "code",
   "execution_count": null,
   "id": "85150ba7",
   "metadata": {},
   "outputs": [],
   "source": [
    "# elif response[0] == 'quit':\n",
    "#     sys.exit()"
   ]
  },
  {
   "cell_type": "markdown",
   "id": "2006da5b",
   "metadata": {},
   "source": [
    "After carrying out the command and modifying main_board, the execution jumps back to the start of the while loop to display the changed board and accept a new command from the user.\n",
    "\n",
    "This interactive chessboard program doesn’t restrict what pieces you can place or move. It simply uses a dictionary as a representation of pieces on a chessboard and has one function for displaying such dictionaries on the screen in a way that looks like a chessboard. We can model all real-world objects or processes by designing data structures and writing functions to work with those data structures. If you’d like to see another example of modeling a game board with data structures, my other book, The Big Book of Small Python Projects (No Starch Press, 2021), has a working tic-tac-toe program."
   ]
  },
  {
   "cell_type": "markdown",
   "id": "9f9f06d2",
   "metadata": {},
   "source": [
    "## Practice Questions"
   ]
  },
  {
   "cell_type": "markdown",
   "id": "4b7f7dd5",
   "metadata": {},
   "source": [
    "1. What does the code for an empty dictionary look like?  \n",
    "    **Answer:**"
   ]
  },
  {
   "cell_type": "code",
   "execution_count": 3,
   "id": "dfa797fc",
   "metadata": {},
   "outputs": [],
   "source": [
    "x = {}"
   ]
  },
  {
   "cell_type": "markdown",
   "id": "8d03cc49",
   "metadata": {},
   "source": [
    "2. What does a dictionary value with a key 'foo' and a value 42 look like?  \n",
    "    **Answer:**"
   ]
  },
  {
   "cell_type": "code",
   "execution_count": 4,
   "id": "90837bad",
   "metadata": {},
   "outputs": [],
   "source": [
    "a = {'foo': 42}"
   ]
  },
  {
   "cell_type": "markdown",
   "id": "b0fdff3d",
   "metadata": {},
   "source": [
    "3. What is the main difference between a dictionary and a list?  \n",
    "    **Answer:** The main difference would be that list items are accessed by indexes while dict items are accessed by 'keys'."
   ]
  },
  {
   "cell_type": "markdown",
   "id": "35c70545",
   "metadata": {},
   "source": [
    "4. What happens if you try to access spam['foo'] if spam is {'bar': 100}?  \n",
    "    **Answer:** A KeyError exception is raised because the key 'foo' does not exist."
   ]
  },
  {
   "cell_type": "markdown",
   "id": "6535a6cb",
   "metadata": {},
   "source": [
    "5. If a dictionary is stored in spam, what is the difference between the expressions 'cat' in spam and 'cat' in spam.keys()?  \n",
    "    **Answer:** No difference"
   ]
  },
  {
   "cell_type": "markdown",
   "id": "6fa51d44",
   "metadata": {},
   "source": [
    "6. If a dictionary is stored in spam, what is the difference between the expressions 'cat' in spam and 'cat' in spam.values()?  \n",
    "    **Answer:** `'cat' in spam` is equivalent to checking `'cat' in spam.keys()`. It is not the same as checking `cat' in spam.values()`, `'cat' in spam.values()` is checking if 'cat' is found in the values of the dict."
   ]
  },
  {
   "cell_type": "markdown",
   "id": "be21660b",
   "metadata": {},
   "source": [
    "7. What is a shortcut for the following code?  \n",
    "`if 'color' not in spam:`  \n",
    "    `spam['color'] = 'black'`  \n",
    "    **Answer:** `spam.setdefault('color', 'black')`"
   ]
  },
  {
   "cell_type": "markdown",
   "id": "9fc75575",
   "metadata": {},
   "source": [
    "8. What module and function can be used to “pretty-print” dictionary values?  \n",
    "    **Answer:** pprint.pprint()"
   ]
  },
  {
   "cell_type": "markdown",
   "id": "d88badc9",
   "metadata": {},
   "source": [
    "## Practice Programs"
   ]
  },
  {
   "cell_type": "markdown",
   "id": "e23a78ab",
   "metadata": {},
   "source": [
    "### Chess Dictionary Validator\n",
    "In this chapter, we used the dictionary value {'h1': 'bK', 'c6': 'wQ', 'g2': 'bB', 'h5': 'bQ', 'e3': 'wK'} to represent a chessboard. Write a function named isValidChessBoard() that takes a dictionary argument and returns True or False depending on whether the board is valid.  \n",
    "\n",
    "A valid board will have exactly one black king and exactly one white king. Each player can have at most 16 pieces, of which only eight can be pawns, and all pieces must be on a valid square from '1a' to '8h'. That is, a piece can’t be on square '9z'. The piece names should begin with either a 'w' or a 'b' to represent white or black, followed by 'pawn', 'knight', 'bishop', 'rook', 'queen', or 'king'. This function should detect when a bug has resulted in an improper chessboard. (This isn’t an exhaustive list of requirements, but it is close enough for this exercise.)"
   ]
  },
  {
   "cell_type": "code",
   "execution_count": 29,
   "id": "08752d0e",
   "metadata": {},
   "outputs": [
    {
     "name": "stdout",
     "output_type": "stream",
     "text": [
      "True\n"
     ]
    },
    {
     "data": {
      "text/plain": [
       "True"
      ]
     },
     "execution_count": 29,
     "metadata": {},
     "output_type": "execute_result"
    }
   ],
   "source": [
    "STARTING_PIECES = {'a8': 'bR', 'b8': 'bN', 'c8': 'bB', 'd8': 'bQ',\n",
    "'e8': 'bK', 'f8': 'bB', 'g8': 'bN', 'h8': 'bR', 'a7': 'bP', 'b7': 'bP',\n",
    "'c7': 'bP', 'd7': 'bP', 'e7': 'bP', 'f7': 'bP', 'g7': 'bP', 'h7': 'bP',\n",
    "'a1': 'wR', 'b1': 'wN', 'c1': 'wB', 'd1': 'wQ', 'e1': 'wK', 'f1': 'wB',\n",
    "'g1': 'wN', 'h1': 'wR', 'a2': 'wP', 'b2': 'wP', 'c2': 'wP', 'd2': 'wP',\n",
    "'e2': 'wP', 'f2': 'wP', 'g2': 'wP', 'h2': 'wP'}\n",
    "\n",
    "def is_valid_chessboard(board: dict):\n",
    "    try:\n",
    "        if len(board.keys()) > 32:\n",
    "            return False\n",
    "\n",
    "        if list(board.values()).count('wK') != 1:\n",
    "            return False\n",
    "        \n",
    "        if list(board.values()).count('bK') != 1:\n",
    "            return False\n",
    "\n",
    "        for coordinates in board.keys():\n",
    "            letter = str(coordinates[0])\n",
    "            number = int(coordinates[1])\n",
    "\n",
    "            if letter not in ['a', 'b', 'c', 'd', 'e', 'f', 'g', 'h']:\n",
    "                return False\n",
    "            \n",
    "            if number not in [1, 2, 3, 4, 5, 6, 7, 8]:\n",
    "                return False\n",
    "            \n",
    "        num_white = 0\n",
    "        num_black = 0\n",
    "            \n",
    "        for pieces in board.values():\n",
    "            color = pieces[0]\n",
    "            character = pieces[1]\n",
    "            \n",
    "            if character not in ['P', 'N', 'B', 'R', 'Q', 'K']:\n",
    "                return False\n",
    "            else:\n",
    "                if color == 'w':\n",
    "                    num_white += 1\n",
    "                elif color == 'b':\n",
    "                    num_black += 1\n",
    "                else:\n",
    "                    return False\n",
    "                \n",
    "        if num_white > 16 or num_black > 16:\n",
    "                return False\n",
    "\n",
    "        return True\n",
    "    except ValueError:\n",
    "        print(\"One of the coordinates or pieces are invalid\")\n",
    "        return False\n",
    "    \n",
    "current_board = {'h1': 'bK', 'c6': 'wQ', 'g2': 'bB', 'h5': 'bQ', 'e3': 'wK'}\n",
    "print(is_valid_chessboard(current_board))\n",
    "is_valid_chessboard(STARTING_PIECES)"
   ]
  },
  {
   "cell_type": "markdown",
   "id": "5f920e96",
   "metadata": {},
   "source": [
    "### Fantasy Game Inventory\n",
    "Say you’re creating a medieval fantasy video game. The data structure to model the player’s inventory is a dictionary whose keys are strings describing the item in the inventory and whose values are integers detailing how many of that item the player has. For example, the dictionary value {'rope': 1, 'torch': 6, 'gold coin': 42, 'dagger': 1, 'arrow': 12} means the player has one rope, six torches, 42 gold coins, and so on.  \n",
    "\n",
    "Write a function named display_inventory() that would take any possible “inventory” and display it like the following:  \n",
    "`Inventory:`  \n",
    "`12 arrow`  \n",
    "`42 gold coin`  \n",
    "`1 rope`  \n",
    "`6 torch`  \n",
    "`1 dagger`  \n",
    "`Total number of items: 62`\n",
    "\n",
    "Hint: You can use a for loop to loop through all keys in a dictionary."
   ]
  },
  {
   "cell_type": "code",
   "execution_count": 32,
   "id": "df161e4e",
   "metadata": {},
   "outputs": [
    {
     "name": "stdout",
     "output_type": "stream",
     "text": [
      "Inventory:\n",
      "1 rope\n",
      "6 torch\n",
      "42 gold coin\n",
      "1 dagger\n",
      "12 arrow\n",
      "Total number of items: 62\n"
     ]
    }
   ],
   "source": [
    "stuff = {'rope': 1, 'torch': 6, 'gold coin': 42, 'dagger': 1, 'arrow': 12}\n",
    "\n",
    "def display_inventory(inventory):\n",
    "    print(\"Inventory:\")\n",
    "    item_total = 0\n",
    "    for k, v in inventory.items():\n",
    "        print(v, k)\n",
    "        item_total += v\n",
    "    print(\"Total number of items: \" + str(item_total))\n",
    "\n",
    "display_inventory(stuff)"
   ]
  },
  {
   "cell_type": "markdown",
   "id": "72303d66",
   "metadata": {},
   "source": [
    "### List-to-Dictionary Loot Conversion\n",
    "Imagine that the same fantasy video game represents a vanquished dragon’s loot as a list of strings, like this:  \n",
    "`dragon_loot = ['gold coin', 'dagger', 'gold coin', 'gold coin', 'ruby']`  \n",
    "\n",
    "Write a function named add_to_inventory(inventory, added_items). The inventory parameter is a dictionary representing the player’s inventory (as in the previous project) and the added_items parameter is a list, like dragon_loot. The add_to_inventory() function should return a dictionary that represents the player’s updated inventory. Note that the added_items list can contain multiples of the same item. Your code could look something like this:"
   ]
  },
  {
   "cell_type": "code",
   "execution_count": 33,
   "id": "16a77cc5",
   "metadata": {},
   "outputs": [
    {
     "name": "stdout",
     "output_type": "stream",
     "text": [
      "Inventory:\n",
      "45 gold coin\n",
      "1 rope\n",
      "1 dagger\n",
      "1 ruby\n",
      "Total number of items: 48\n"
     ]
    }
   ],
   "source": [
    "def add_to_inventory(inventory: dict, added_items):\n",
    "    for item in added_items:\n",
    "        inventory.setdefault(item, 0)\n",
    "        inventory[item] += 1\n",
    "\n",
    "    return inventory\n",
    "\n",
    "inv = {'gold coin': 42, 'rope': 1}\n",
    "dragon_loot = ['gold coin', 'dagger', 'gold coin', 'gold coin', 'ruby']\n",
    "inv = add_to_inventory(inv, dragon_loot)\n",
    "display_inventory(inv)"
   ]
  },
  {
   "cell_type": "markdown",
   "id": "413e52c8",
   "metadata": {},
   "source": [
    "The previous program (with your display_inventory() function from the previous project) would output the following:  \n",
    "`Inventory:`  \n",
    "`45 gold coin`  \n",
    "`1 rope`  \n",
    "`1 ruby`  \n",
    "`1 dagger`  \n",
    "\n",
    "`Total number of items: 48`"
   ]
  }
 ],
 "metadata": {
  "kernelspec": {
   "display_name": "3.10.12",
   "language": "python",
   "name": "python3"
  },
  "language_info": {
   "codemirror_mode": {
    "name": "ipython",
    "version": 3
   },
   "file_extension": ".py",
   "mimetype": "text/x-python",
   "name": "python",
   "nbconvert_exporter": "python",
   "pygments_lexer": "ipython3",
   "version": "3.10.12"
  }
 },
 "nbformat": 4,
 "nbformat_minor": 5
}
