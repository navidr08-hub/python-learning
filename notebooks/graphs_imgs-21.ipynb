{
 "cells": [
  {
   "cell_type": "markdown",
   "id": "afe73d00",
   "metadata": {},
   "source": [
    "# Chapter 21 - Graphs and Manipulating Images"
   ]
  },
  {
   "cell_type": "markdown",
   "id": "56cad65e",
   "metadata": {},
   "source": [
    "## Notes"
   ]
  },
  {
   "cell_type": "markdown",
   "id": "9f9f06d2",
   "metadata": {},
   "source": [
    "## Practice Questions"
   ]
  },
  {
   "cell_type": "markdown",
   "id": "4b7f7dd5",
   "metadata": {},
   "source": [
    "1. What is an RGBA value?  \n",
    "    **Answer:** Computer programs often represent a color in an image as an RGBA value, a group of numbers that specify the amount of red, green, blue, and alpha (or transparency) to include. Each of these component values is an integer ranging from 0 (none at all) to 255 (the maximum)."
   ]
  },
  {
   "cell_type": "markdown",
   "id": "8d03cc49",
   "metadata": {},
   "source": [
    "2. How can you get the RGBA value of 'CornflowerBlue' from the Pillow module?  \n",
    "    **Answer:**\n",
    "    ```\n",
    "    from PIL import ImageColor\n",
    "    ImageColor.getcolor('red', 'RGBA')\n",
    "    ```"
   ]
  },
  {
   "cell_type": "markdown",
   "id": "b0fdff3d",
   "metadata": {},
   "source": [
    "3. What is a box tuple?  \n",
    "    **Answer:** a tuple of four integer coordinates that represent a rectangular region in an image."
   ]
  },
  {
   "cell_type": "markdown",
   "id": "35c70545",
   "metadata": {},
   "source": [
    "4. What function returns an Image object for, say, an image file named zophie.png?  \n",
    "    **Answer:** `Image.open('zophie.png)`"
   ]
  },
  {
   "cell_type": "markdown",
   "id": "6535a6cb",
   "metadata": {},
   "source": [
    "5. How can you find out the width and height of an Image object’s image?  \n",
    "    **Answer:** `width, height = im.size`"
   ]
  },
  {
   "cell_type": "markdown",
   "id": "f0d9e730",
   "metadata": {},
   "source": [
    "6. What method would you call to get the Image object for the lower-left quarter of a 100×100 image?  \n",
    "**Answer:** `im.crop((0, 50, 50, 100))`"
   ]
  },
  {
   "cell_type": "markdown",
   "id": "bc00d05d",
   "metadata": {},
   "source": [
    "7. After making changes to an Image object, how could you save it as an image file?  \n",
    "**Answer:** `im.save('image.png')`"
   ]
  },
  {
   "cell_type": "markdown",
   "id": "7e4f625b",
   "metadata": {},
   "source": [
    "8. What module contains Pillow’s shape-drawing code?  \n",
    "**Answer:** `ImageDraw`"
   ]
  },
  {
   "cell_type": "markdown",
   "id": "7e13a876",
   "metadata": {},
   "source": [
    "9. Image objects do not have drawing methods. What kind of object does? How do you get this kind of object?  \n",
    "**Answer:**\n",
    "    ```\n",
    "    from PIL import Image, ImageDraw\n",
    "    im = Image.new('RGBA', (200, 200), 'white')\n",
    "    draw = ImageDraw.Draw(im)\n",
    "    ```"
   ]
  },
  {
   "cell_type": "markdown",
   "id": "ce390f22",
   "metadata": {},
   "source": [
    "10. Which Matplotlib functions create a line graph, scatter plot, bar graph, and pie chart?  \n",
    "**Answer:**  \n",
    "Line - `plt.plot(x_values, y_values)`  \n",
    "Scatter - `plt.scatter(x_values, y_values)`  \n",
    "Bar - `plt.bar(categories, values)`  \n",
    "Pie - `plt.pie(slices, labels=labels, autopct='%.1f%%')`"
   ]
  },
  {
   "cell_type": "markdown",
   "id": "9b0f0273",
   "metadata": {},
   "source": [
    "11. How can you save a Matplotlib graph as an image?  \n",
    "**Answer:** `plt.savefig('piechart.png')`"
   ]
  },
  {
   "cell_type": "markdown",
   "id": "95fc90b5",
   "metadata": {},
   "source": [
    "12. What does the plt.show() function do, and why can’t you call it twice in a row?  \n",
    "**Answer:** When you close the window that the plt.show() method creates, you also reset the graph data. Calling plt.show() a second time either does nothing or displays an empty window. You’ll have to call plt.plot() and any other plot-related functions again to re-create the graph. To save an image file of the graph, you must call plt.savefig() before calling plt.show()."
   ]
  },
  {
   "cell_type": "markdown",
   "id": "d88badc9",
   "metadata": {},
   "source": [
    "## Practice Programs"
   ]
  },
  {
   "cell_type": "markdown",
   "id": "e3fcdb0e",
   "metadata": {},
   "source": [
    "For practice, write programs to do the following tasks.\n",
    "\n",
    "### Tile Maker\n",
    "Write a program that produces a tiled image from a single image, much like tiles of cat faces in Figure 21-6. Your program should have a make_tile() function with three arguments: a string of the image filename, an integer for how many times it should be tiled horizontally, and an integer for how many times it should be tiled vertically. The make_tile() function should return a larger Image object of the tiled image. You will use the paste() methods as part of this function.\n",
    "\n",
    "For example, if zophie_the_cat.jpg was a 20×50-pixel image, calling make_tile('zophie_the_cat.jpg', 6, 10) should return a 120×500 image with 60 tiles total. For a bonus, try randomly flipping or rotating the image to tile when pasting it to the larger image. This tile maker works best with smaller images to tile. See what abstract art you can create with this code."
   ]
  },
  {
   "cell_type": "markdown",
   "id": "51e3ea28",
   "metadata": {},
   "source": [
    "### Identifying Photo Folders on the Hard Drive\n",
    "I have a bad habit of transferring files from my digital camera to temporary folders somewhere on the hard drive and then forgetting about these folders. It would be nice to write a program that could scan the entire hard drive and find these leftover photo folders.\n",
    "\n",
    "Write a program that goes through every folder on your hard drive and finds potential photo folders. Of course, first you’ll have to define what you consider a “photo folder” to be; let’s say that it’s any folder where more than half of the files are photos. And how do you define what files are photos? First, a photo file must have the file extension .png or .jpg. Also, photos are large images; a photo file’s width and height must both be larger than 500 pixels. This is a safe bet, since most digital camera photos are several thousand pixels in width and height.\n",
    "\n",
    "As a hint, here’s a rough skeleton of what this program might look like:\n",
    "```\n",
    "# Import modules and write comments to describe this program.\n",
    "\n",
    "for folder_name, subfolders, filenames in os.walk('C:\\\\'):\n",
    "    num_photo_files = 0\n",
    "    num_non_photo_files = 0\n",
    "    for filename in filenames:\n",
    "        # Check if the file extension isn't .png or .jpg.\n",
    "        if TODO:\n",
    "            num_non_photo_files += 1\n",
    "            continue  # Skip to the next filename.\n",
    "\n",
    "        # Open image file using Pillow.\n",
    "\n",
    "        # Check if the width & height are larger than 500.\n",
    "        if TODO:\n",
    "            # Image is large enough to be considered a photo.\n",
    "            num_photo_files += 1\n",
    "        else:\n",
    "            # Image is too small to be a photo.\n",
    "            num_non_photo_files += 1\n",
    "\n",
    "    # If more than half of files were photos,\n",
    "    # print the absolute path of the folder.\n",
    "    if TODO:\n",
    "        print(TODO)\n",
    "```\n",
    "When the program runs, it should print the absolute path of any photo folders to the screen."
   ]
  },
  {
   "cell_type": "markdown",
   "id": "a54378a3",
   "metadata": {},
   "source": [
    "### Creating Custom Seating Cards\n",
    "In a practice program in Chapter 17, you created custom invitations from a list of guests in a plaintext file. As an additional project, use Pillow to create images that will serve as custom seating cards for your guests. For each of the guests listed in the guests.txt file from the book’s online resources, generate an image file with the guest’s name and some flowery decoration. A public domain flower image is also available in the book’s resources.\n",
    "\n",
    "To ensure that each seating card is the same size, add a black rectangle to the edges of the invitation image; that way, when you print the image, you’ll have a guideline for cutting. The PNG files that Pillow produces are set to 72 pixels per inch, so a 4×5-inch card would require a 288×360-pixel image."
   ]
  }
 ],
 "metadata": {
  "kernelspec": {
   "display_name": "automate_boring_stuff",
   "language": "python",
   "name": "python3"
  },
  "language_info": {
   "codemirror_mode": {
    "name": "ipython",
    "version": 3
   },
   "file_extension": ".py",
   "mimetype": "text/x-python",
   "name": "python",
   "nbconvert_exporter": "python",
   "pygments_lexer": "ipython3",
   "version": "3.10.12"
  }
 },
 "nbformat": 4,
 "nbformat_minor": 5
}
